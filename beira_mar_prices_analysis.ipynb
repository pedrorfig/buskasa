{
 "cells": [
  {
   "cell_type": "markdown",
   "metadata": {},
   "source": [
    "Importing libraries\n"
   ]
  },
  {
   "cell_type": "code",
   "execution_count": 196,
   "metadata": {},
   "outputs": [],
   "source": [
    "import pandas as pd\n",
    "import plotly.express as px\n",
    "import plotly.io as pio\n",
    "import datetime\n",
    "import numpy as np\n",
    "from scipy.stats import t\n",
    "from math import sqrt\n",
    "from sklearn.ensemble import RandomForestRegressor\n",
    "from sklearn.model_selection import train_test_split\n",
    "\n",
    "pio.templates.default = \"plotly_white\""
   ]
  },
  {
   "cell_type": "markdown",
   "metadata": {},
   "source": [
    "## Reading data\n"
   ]
  },
  {
   "cell_type": "code",
   "execution_count": 172,
   "metadata": {},
   "outputs": [
    {
     "data": {
      "text/html": [
       "<div>\n",
       "<style scoped>\n",
       "    .dataframe tbody tr th:only-of-type {\n",
       "        vertical-align: middle;\n",
       "    }\n",
       "\n",
       "    .dataframe tbody tr th {\n",
       "        vertical-align: top;\n",
       "    }\n",
       "\n",
       "    .dataframe thead th {\n",
       "        text-align: right;\n",
       "    }\n",
       "</style>\n",
       "<table border=\"1\" class=\"dataframe\">\n",
       "  <thead>\n",
       "    <tr style=\"text-align: right;\">\n",
       "      <th></th>\n",
       "      <th>listing_date</th>\n",
       "      <th>new_listing</th>\n",
       "      <th>description</th>\n",
       "      <th>price</th>\n",
       "      <th>condo_fee</th>\n",
       "      <th>bedrooms</th>\n",
       "      <th>bathrooms</th>\n",
       "      <th>vacancies</th>\n",
       "      <th>floor</th>\n",
       "      <th>construction_year</th>\n",
       "      <th>...</th>\n",
       "      <th>precision</th>\n",
       "      <th>latitude</th>\n",
       "      <th>longitude</th>\n",
       "      <th>url</th>\n",
       "      <th>link</th>\n",
       "      <th>advertizer</th>\n",
       "      <th>primary_phone</th>\n",
       "      <th>business_type</th>\n",
       "      <th>updated_at</th>\n",
       "      <th>price_per_area_in_first_quartile</th>\n",
       "    </tr>\n",
       "    <tr>\n",
       "      <th>listing_id</th>\n",
       "      <th></th>\n",
       "      <th></th>\n",
       "      <th></th>\n",
       "      <th></th>\n",
       "      <th></th>\n",
       "      <th></th>\n",
       "      <th></th>\n",
       "      <th></th>\n",
       "      <th></th>\n",
       "      <th></th>\n",
       "      <th></th>\n",
       "      <th></th>\n",
       "      <th></th>\n",
       "      <th></th>\n",
       "      <th></th>\n",
       "      <th></th>\n",
       "      <th></th>\n",
       "      <th></th>\n",
       "      <th></th>\n",
       "      <th></th>\n",
       "      <th></th>\n",
       "    </tr>\n",
       "  </thead>\n",
       "  <tbody>\n",
       "    <tr>\n",
       "      <th>2687252733</th>\n",
       "      <td>2024-01-31</td>\n",
       "      <td>False</td>\n",
       "      <td>Apartamento com 2 dormitórios à venda, 85 m² p...</td>\n",
       "      <td>250000</td>\n",
       "      <td>1100</td>\n",
       "      <td>2</td>\n",
       "      <td>3</td>\n",
       "      <td>1</td>\n",
       "      <td>2</td>\n",
       "      <td>0</td>\n",
       "      <td>...</td>\n",
       "      <td>exact</td>\n",
       "      <td>-3.734025</td>\n",
       "      <td>-38.489976</td>\n",
       "      <td>https://www.zapimoveis.com.br/imovel/venda-apa...</td>\n",
       "      <td>&lt;a href=\"https://www.zapimoveis.com.br/imovel/...</td>\n",
       "      <td>AVANT REAL ESTATE</td>\n",
       "      <td>85988506268</td>\n",
       "      <td>SALE</td>\n",
       "      <td>2024-04-12</td>\n",
       "      <td>True</td>\n",
       "    </tr>\n",
       "    <tr>\n",
       "      <th>2674406732</th>\n",
       "      <td>2023-12-07</td>\n",
       "      <td>False</td>\n",
       "      <td>Apartamento à venda no bairro Porto Das Dunas ...</td>\n",
       "      <td>280000</td>\n",
       "      <td>400</td>\n",
       "      <td>2</td>\n",
       "      <td>1</td>\n",
       "      <td>1</td>\n",
       "      <td>0</td>\n",
       "      <td>0</td>\n",
       "      <td>...</td>\n",
       "      <td>exact</td>\n",
       "      <td>-3.727446</td>\n",
       "      <td>-38.495474</td>\n",
       "      <td>https://www.zapimoveis.com.br/imovel/venda-apa...</td>\n",
       "      <td>&lt;a href=\"https://www.zapimoveis.com.br/imovel/...</td>\n",
       "      <td>WILLIAM SÁ IMÓVEIS</td>\n",
       "      <td>85987345798</td>\n",
       "      <td>SALE</td>\n",
       "      <td>2024-04-13</td>\n",
       "      <td>True</td>\n",
       "    </tr>\n",
       "    <tr>\n",
       "      <th>2659576519</th>\n",
       "      <td>2023-10-03</td>\n",
       "      <td>False</td>\n",
       "      <td>89m², 3 qtos. (2 stes.), px. Beira Mar</td>\n",
       "      <td>280000</td>\n",
       "      <td>930</td>\n",
       "      <td>3</td>\n",
       "      <td>3</td>\n",
       "      <td>1</td>\n",
       "      <td>6</td>\n",
       "      <td>0</td>\n",
       "      <td>...</td>\n",
       "      <td>exact</td>\n",
       "      <td>-3.730276</td>\n",
       "      <td>-38.488146</td>\n",
       "      <td>https://www.zapimoveis.com.br/imovel/venda-apa...</td>\n",
       "      <td>&lt;a href=\"https://www.zapimoveis.com.br/imovel/...</td>\n",
       "      <td>GUIMARÃES IMÓVEIS</td>\n",
       "      <td>85989165284</td>\n",
       "      <td>SALE</td>\n",
       "      <td>2024-04-12</td>\n",
       "      <td>True</td>\n",
       "    </tr>\n",
       "    <tr>\n",
       "      <th>2575616830</th>\n",
       "      <td>2022-08-12</td>\n",
       "      <td>False</td>\n",
       "      <td>FLAT MOBILIADO - 02 QUARTOS - PRAIA DE IRACEMA!!!</td>\n",
       "      <td>285000</td>\n",
       "      <td>1675</td>\n",
       "      <td>2</td>\n",
       "      <td>1</td>\n",
       "      <td>1</td>\n",
       "      <td>0</td>\n",
       "      <td>0</td>\n",
       "      <td>...</td>\n",
       "      <td>exact</td>\n",
       "      <td>-3.729073</td>\n",
       "      <td>-38.510696</td>\n",
       "      <td>https://www.zapimoveis.com.br/imovel/venda-apa...</td>\n",
       "      <td>&lt;a href=\"https://www.zapimoveis.com.br/imovel/...</td>\n",
       "      <td>SAN SIRO EMPREENDIMENTOS IMOBILIARIOS LTDA. - ME</td>\n",
       "      <td>85999922070</td>\n",
       "      <td>SALE</td>\n",
       "      <td>2024-04-13</td>\n",
       "      <td>True</td>\n",
       "    </tr>\n",
       "    <tr>\n",
       "      <th>2559322185</th>\n",
       "      <td>2022-04-19</td>\n",
       "      <td>False</td>\n",
       "      <td>Flat para venda possui 50 metros quadrados com...</td>\n",
       "      <td>375000</td>\n",
       "      <td>1800</td>\n",
       "      <td>2</td>\n",
       "      <td>2</td>\n",
       "      <td>1</td>\n",
       "      <td>0</td>\n",
       "      <td>0</td>\n",
       "      <td>...</td>\n",
       "      <td>exact</td>\n",
       "      <td>-3.727100</td>\n",
       "      <td>-38.496858</td>\n",
       "      <td>https://www.zapimoveis.com.br/imovel/venda-apa...</td>\n",
       "      <td>&lt;a href=\"https://www.zapimoveis.com.br/imovel/...</td>\n",
       "      <td>Robson Geovani Consultor Imobiliário</td>\n",
       "      <td>85999258600</td>\n",
       "      <td>SALE</td>\n",
       "      <td>2024-04-13</td>\n",
       "      <td>False</td>\n",
       "    </tr>\n",
       "    <tr>\n",
       "      <th>...</th>\n",
       "      <td>...</td>\n",
       "      <td>...</td>\n",
       "      <td>...</td>\n",
       "      <td>...</td>\n",
       "      <td>...</td>\n",
       "      <td>...</td>\n",
       "      <td>...</td>\n",
       "      <td>...</td>\n",
       "      <td>...</td>\n",
       "      <td>...</td>\n",
       "      <td>...</td>\n",
       "      <td>...</td>\n",
       "      <td>...</td>\n",
       "      <td>...</td>\n",
       "      <td>...</td>\n",
       "      <td>...</td>\n",
       "      <td>...</td>\n",
       "      <td>...</td>\n",
       "      <td>...</td>\n",
       "      <td>...</td>\n",
       "      <td>...</td>\n",
       "    </tr>\n",
       "    <tr>\n",
       "      <th>2669202627</th>\n",
       "      <td>2023-11-14</td>\n",
       "      <td>False</td>\n",
       "      <td>Ed. Domitila - Apartamento com 3 dormitórios à...</td>\n",
       "      <td>255000</td>\n",
       "      <td>350</td>\n",
       "      <td>3</td>\n",
       "      <td>3</td>\n",
       "      <td>2</td>\n",
       "      <td>2</td>\n",
       "      <td>0</td>\n",
       "      <td>...</td>\n",
       "      <td>exact</td>\n",
       "      <td>-3.731039</td>\n",
       "      <td>-38.482220</td>\n",
       "      <td>https://www.zapimoveis.com.br/imovel/venda-apa...</td>\n",
       "      <td>&lt;a href=\"https://www.zapimoveis.com.br/imovel/...</td>\n",
       "      <td>Imobiliária Magno Muniz Ltda ME</td>\n",
       "      <td>8532656969</td>\n",
       "      <td>SALE</td>\n",
       "      <td>2024-04-13</td>\n",
       "      <td>True</td>\n",
       "    </tr>\n",
       "    <tr>\n",
       "      <th>2673717916</th>\n",
       "      <td>2023-12-04</td>\n",
       "      <td>False</td>\n",
       "      <td>Apartamento com 2 dormitórios à venda, 81 m² p...</td>\n",
       "      <td>280000</td>\n",
       "      <td>662</td>\n",
       "      <td>2</td>\n",
       "      <td>2</td>\n",
       "      <td>1</td>\n",
       "      <td>0</td>\n",
       "      <td>1990</td>\n",
       "      <td>...</td>\n",
       "      <td>exact</td>\n",
       "      <td>-3.729982</td>\n",
       "      <td>-38.485096</td>\n",
       "      <td>https://www.zapimoveis.com.br/imovel/venda-apa...</td>\n",
       "      <td>&lt;a href=\"https://www.zapimoveis.com.br/imovel/...</td>\n",
       "      <td>METRIX IMÓVEIS</td>\n",
       "      <td>85981975405</td>\n",
       "      <td>SALE</td>\n",
       "      <td>2024-04-13</td>\n",
       "      <td>True</td>\n",
       "    </tr>\n",
       "    <tr>\n",
       "      <th>2706302697</th>\n",
       "      <td>2024-04-11</td>\n",
       "      <td>True</td>\n",
       "      <td>Apartamento à venda no bairro Papicu - Fortale...</td>\n",
       "      <td>280000</td>\n",
       "      <td>680</td>\n",
       "      <td>3</td>\n",
       "      <td>3</td>\n",
       "      <td>1</td>\n",
       "      <td>0</td>\n",
       "      <td>0</td>\n",
       "      <td>...</td>\n",
       "      <td>exact</td>\n",
       "      <td>-3.724587</td>\n",
       "      <td>-38.483575</td>\n",
       "      <td>https://www.zapimoveis.com.br/imovel/venda-apa...</td>\n",
       "      <td>&lt;a href=\"https://www.zapimoveis.com.br/imovel/...</td>\n",
       "      <td>IMOBILIARIA MONERO</td>\n",
       "      <td>85996578686</td>\n",
       "      <td>SALE</td>\n",
       "      <td>2024-04-13</td>\n",
       "      <td>True</td>\n",
       "    </tr>\n",
       "    <tr>\n",
       "      <th>2707367236</th>\n",
       "      <td>2024-04-13</td>\n",
       "      <td>True</td>\n",
       "      <td>Apartamento para venda com 86 metros quadrados...</td>\n",
       "      <td>760000</td>\n",
       "      <td>750</td>\n",
       "      <td>2</td>\n",
       "      <td>3</td>\n",
       "      <td>2</td>\n",
       "      <td>0</td>\n",
       "      <td>0</td>\n",
       "      <td>...</td>\n",
       "      <td>exact</td>\n",
       "      <td>-3.724822</td>\n",
       "      <td>-38.485834</td>\n",
       "      <td>https://www.zapimoveis.com.br/imovel/venda-apa...</td>\n",
       "      <td>&lt;a href=\"https://www.zapimoveis.com.br/imovel/...</td>\n",
       "      <td>RONALDO BANDEIRA CORRETAGEM DE IMÓVEL</td>\n",
       "      <td>85996321795</td>\n",
       "      <td>SALE</td>\n",
       "      <td>2024-04-13</td>\n",
       "      <td>False</td>\n",
       "    </tr>\n",
       "    <tr>\n",
       "      <th>2685991657</th>\n",
       "      <td>2024-01-25</td>\n",
       "      <td>False</td>\n",
       "      <td>Apartamento para venda possui 50 metros quadra...</td>\n",
       "      <td>799000</td>\n",
       "      <td>0</td>\n",
       "      <td>2</td>\n",
       "      <td>1</td>\n",
       "      <td>1</td>\n",
       "      <td>0</td>\n",
       "      <td>0</td>\n",
       "      <td>...</td>\n",
       "      <td>exact</td>\n",
       "      <td>-3.725413</td>\n",
       "      <td>-38.498389</td>\n",
       "      <td>https://www.zapimoveis.com.br/imovel/venda-apa...</td>\n",
       "      <td>&lt;a href=\"https://www.zapimoveis.com.br/imovel/...</td>\n",
       "      <td>Robson Geovani Consultor Imobiliário</td>\n",
       "      <td>85999258600</td>\n",
       "      <td>SALE</td>\n",
       "      <td>2024-04-13</td>\n",
       "      <td>False</td>\n",
       "    </tr>\n",
       "  </tbody>\n",
       "</table>\n",
       "<p>3343 rows × 31 columns</p>\n",
       "</div>"
      ],
      "text/plain": [
       "           listing_date  new_listing  \\\n",
       "listing_id                             \n",
       "2687252733   2024-01-31        False   \n",
       "2674406732   2023-12-07        False   \n",
       "2659576519   2023-10-03        False   \n",
       "2575616830   2022-08-12        False   \n",
       "2559322185   2022-04-19        False   \n",
       "...                 ...          ...   \n",
       "2669202627   2023-11-14        False   \n",
       "2673717916   2023-12-04        False   \n",
       "2706302697   2024-04-11         True   \n",
       "2707367236   2024-04-13         True   \n",
       "2685991657   2024-01-25        False   \n",
       "\n",
       "                                                  description   price  \\\n",
       "listing_id                                                              \n",
       "2687252733  Apartamento com 2 dormitórios à venda, 85 m² p...  250000   \n",
       "2674406732  Apartamento à venda no bairro Porto Das Dunas ...  280000   \n",
       "2659576519             89m², 3 qtos. (2 stes.), px. Beira Mar  280000   \n",
       "2575616830  FLAT MOBILIADO - 02 QUARTOS - PRAIA DE IRACEMA!!!  285000   \n",
       "2559322185  Flat para venda possui 50 metros quadrados com...  375000   \n",
       "...                                                       ...     ...   \n",
       "2669202627  Ed. Domitila - Apartamento com 3 dormitórios à...  255000   \n",
       "2673717916  Apartamento com 2 dormitórios à venda, 81 m² p...  280000   \n",
       "2706302697  Apartamento à venda no bairro Papicu - Fortale...  280000   \n",
       "2707367236  Apartamento para venda com 86 metros quadrados...  760000   \n",
       "2685991657  Apartamento para venda possui 50 metros quadra...  799000   \n",
       "\n",
       "            condo_fee  bedrooms  bathrooms  vacancies  floor  \\\n",
       "listing_id                                                     \n",
       "2687252733       1100         2          3          1      2   \n",
       "2674406732        400         2          1          1      0   \n",
       "2659576519        930         3          3          1      6   \n",
       "2575616830       1675         2          1          1      0   \n",
       "2559322185       1800         2          2          1      0   \n",
       "...               ...       ...        ...        ...    ...   \n",
       "2669202627        350         3          3          2      2   \n",
       "2673717916        662         2          2          1      0   \n",
       "2706302697        680         3          3          1      0   \n",
       "2707367236        750         2          3          2      0   \n",
       "2685991657          0         2          1          1      0   \n",
       "\n",
       "            construction_year  ...  precision  latitude  longitude  \\\n",
       "listing_id                     ...                                   \n",
       "2687252733                  0  ...      exact -3.734025 -38.489976   \n",
       "2674406732                  0  ...      exact -3.727446 -38.495474   \n",
       "2659576519                  0  ...      exact -3.730276 -38.488146   \n",
       "2575616830                  0  ...      exact -3.729073 -38.510696   \n",
       "2559322185                  0  ...      exact -3.727100 -38.496858   \n",
       "...                       ...  ...        ...       ...        ...   \n",
       "2669202627                  0  ...      exact -3.731039 -38.482220   \n",
       "2673717916               1990  ...      exact -3.729982 -38.485096   \n",
       "2706302697                  0  ...      exact -3.724587 -38.483575   \n",
       "2707367236                  0  ...      exact -3.724822 -38.485834   \n",
       "2685991657                  0  ...      exact -3.725413 -38.498389   \n",
       "\n",
       "                                                          url  \\\n",
       "listing_id                                                      \n",
       "2687252733  https://www.zapimoveis.com.br/imovel/venda-apa...   \n",
       "2674406732  https://www.zapimoveis.com.br/imovel/venda-apa...   \n",
       "2659576519  https://www.zapimoveis.com.br/imovel/venda-apa...   \n",
       "2575616830  https://www.zapimoveis.com.br/imovel/venda-apa...   \n",
       "2559322185  https://www.zapimoveis.com.br/imovel/venda-apa...   \n",
       "...                                                       ...   \n",
       "2669202627  https://www.zapimoveis.com.br/imovel/venda-apa...   \n",
       "2673717916  https://www.zapimoveis.com.br/imovel/venda-apa...   \n",
       "2706302697  https://www.zapimoveis.com.br/imovel/venda-apa...   \n",
       "2707367236  https://www.zapimoveis.com.br/imovel/venda-apa...   \n",
       "2685991657  https://www.zapimoveis.com.br/imovel/venda-apa...   \n",
       "\n",
       "                                                         link  \\\n",
       "listing_id                                                      \n",
       "2687252733  <a href=\"https://www.zapimoveis.com.br/imovel/...   \n",
       "2674406732  <a href=\"https://www.zapimoveis.com.br/imovel/...   \n",
       "2659576519  <a href=\"https://www.zapimoveis.com.br/imovel/...   \n",
       "2575616830  <a href=\"https://www.zapimoveis.com.br/imovel/...   \n",
       "2559322185  <a href=\"https://www.zapimoveis.com.br/imovel/...   \n",
       "...                                                       ...   \n",
       "2669202627  <a href=\"https://www.zapimoveis.com.br/imovel/...   \n",
       "2673717916  <a href=\"https://www.zapimoveis.com.br/imovel/...   \n",
       "2706302697  <a href=\"https://www.zapimoveis.com.br/imovel/...   \n",
       "2707367236  <a href=\"https://www.zapimoveis.com.br/imovel/...   \n",
       "2685991657  <a href=\"https://www.zapimoveis.com.br/imovel/...   \n",
       "\n",
       "                                                  advertizer  primary_phone  \\\n",
       "listing_id                                                                    \n",
       "2687252733                                 AVANT REAL ESTATE    85988506268   \n",
       "2674406732                                WILLIAM SÁ IMÓVEIS    85987345798   \n",
       "2659576519                                 GUIMARÃES IMÓVEIS    85989165284   \n",
       "2575616830  SAN SIRO EMPREENDIMENTOS IMOBILIARIOS LTDA. - ME    85999922070   \n",
       "2559322185              Robson Geovani Consultor Imobiliário    85999258600   \n",
       "...                                                      ...            ...   \n",
       "2669202627                   Imobiliária Magno Muniz Ltda ME     8532656969   \n",
       "2673717916                                    METRIX IMÓVEIS    85981975405   \n",
       "2706302697                                IMOBILIARIA MONERO    85996578686   \n",
       "2707367236             RONALDO BANDEIRA CORRETAGEM DE IMÓVEL    85996321795   \n",
       "2685991657              Robson Geovani Consultor Imobiliário    85999258600   \n",
       "\n",
       "           business_type  updated_at price_per_area_in_first_quartile  \n",
       "listing_id                                                             \n",
       "2687252733          SALE  2024-04-12                             True  \n",
       "2674406732          SALE  2024-04-13                             True  \n",
       "2659576519          SALE  2024-04-12                             True  \n",
       "2575616830          SALE  2024-04-13                             True  \n",
       "2559322185          SALE  2024-04-13                            False  \n",
       "...                  ...         ...                              ...  \n",
       "2669202627          SALE  2024-04-13                             True  \n",
       "2673717916          SALE  2024-04-13                             True  \n",
       "2706302697          SALE  2024-04-13                             True  \n",
       "2707367236          SALE  2024-04-13                            False  \n",
       "2685991657          SALE  2024-04-13                            False  \n",
       "\n",
       "[3343 rows x 31 columns]"
      ]
     },
     "execution_count": 172,
     "metadata": {},
     "output_type": "execute_result"
    }
   ],
   "source": [
    "listings = pd.read_csv(\n",
    "    r\"C:\\Users\\58781\\Downloads\\fortaleza.csv\", index_col=\"listing_id\"\n",
    ")\n",
    "listings"
   ]
  },
  {
   "cell_type": "markdown",
   "metadata": {},
   "source": [
    "Filtering listings located only in Av. Beira Mar\n"
   ]
  },
  {
   "cell_type": "code",
   "execution_count": 173,
   "metadata": {},
   "outputs": [
    {
     "data": {
      "text/html": [
       "<div>\n",
       "<style scoped>\n",
       "    .dataframe tbody tr th:only-of-type {\n",
       "        vertical-align: middle;\n",
       "    }\n",
       "\n",
       "    .dataframe tbody tr th {\n",
       "        vertical-align: top;\n",
       "    }\n",
       "\n",
       "    .dataframe thead th {\n",
       "        text-align: right;\n",
       "    }\n",
       "</style>\n",
       "<table border=\"1\" class=\"dataframe\">\n",
       "  <thead>\n",
       "    <tr style=\"text-align: right;\">\n",
       "      <th></th>\n",
       "      <th>listing_date</th>\n",
       "      <th>new_listing</th>\n",
       "      <th>description</th>\n",
       "      <th>price</th>\n",
       "      <th>condo_fee</th>\n",
       "      <th>bedrooms</th>\n",
       "      <th>bathrooms</th>\n",
       "      <th>vacancies</th>\n",
       "      <th>floor</th>\n",
       "      <th>construction_year</th>\n",
       "      <th>...</th>\n",
       "      <th>precision</th>\n",
       "      <th>latitude</th>\n",
       "      <th>longitude</th>\n",
       "      <th>url</th>\n",
       "      <th>link</th>\n",
       "      <th>advertizer</th>\n",
       "      <th>primary_phone</th>\n",
       "      <th>business_type</th>\n",
       "      <th>updated_at</th>\n",
       "      <th>price_per_area_in_first_quartile</th>\n",
       "    </tr>\n",
       "    <tr>\n",
       "      <th>listing_id</th>\n",
       "      <th></th>\n",
       "      <th></th>\n",
       "      <th></th>\n",
       "      <th></th>\n",
       "      <th></th>\n",
       "      <th></th>\n",
       "      <th></th>\n",
       "      <th></th>\n",
       "      <th></th>\n",
       "      <th></th>\n",
       "      <th></th>\n",
       "      <th></th>\n",
       "      <th></th>\n",
       "      <th></th>\n",
       "      <th></th>\n",
       "      <th></th>\n",
       "      <th></th>\n",
       "      <th></th>\n",
       "      <th></th>\n",
       "      <th></th>\n",
       "      <th></th>\n",
       "    </tr>\n",
       "  </thead>\n",
       "  <tbody>\n",
       "    <tr>\n",
       "      <th>2638118288</th>\n",
       "      <td>2023-06-13</td>\n",
       "      <td>False</td>\n",
       "      <td>More no Meireles a partir de 292mil</td>\n",
       "      <td>292604</td>\n",
       "      <td>500</td>\n",
       "      <td>1</td>\n",
       "      <td>1</td>\n",
       "      <td>1</td>\n",
       "      <td>20</td>\n",
       "      <td>2023</td>\n",
       "      <td>...</td>\n",
       "      <td>exact</td>\n",
       "      <td>-3.720170</td>\n",
       "      <td>-38.512638</td>\n",
       "      <td>https://www.zapimoveis.com.br/imovel/venda-apa...</td>\n",
       "      <td>&lt;a href=\"https://www.zapimoveis.com.br/imovel/...</td>\n",
       "      <td>DAVI BRITO IMÓVEIS</td>\n",
       "      <td>85998684547</td>\n",
       "      <td>SALE</td>\n",
       "      <td>2024-03-08</td>\n",
       "      <td>False</td>\n",
       "    </tr>\n",
       "    <tr>\n",
       "      <th>2563609061</th>\n",
       "      <td>2022-05-20</td>\n",
       "      <td>False</td>\n",
       "      <td>Apartamento para venda com 40 metros quadrados...</td>\n",
       "      <td>300000</td>\n",
       "      <td>1062</td>\n",
       "      <td>1</td>\n",
       "      <td>1</td>\n",
       "      <td>0</td>\n",
       "      <td>0</td>\n",
       "      <td>0</td>\n",
       "      <td>...</td>\n",
       "      <td>exact</td>\n",
       "      <td>-3.724166</td>\n",
       "      <td>-38.489588</td>\n",
       "      <td>https://www.zapimoveis.com.br/imovel/venda-fla...</td>\n",
       "      <td>&lt;a href=\"https://www.zapimoveis.com.br/imovel/...</td>\n",
       "      <td>PS Imóveis</td>\n",
       "      <td>85994214033</td>\n",
       "      <td>SALE</td>\n",
       "      <td>2024-04-03</td>\n",
       "      <td>False</td>\n",
       "    </tr>\n",
       "    <tr>\n",
       "      <th>2687921230</th>\n",
       "      <td>2024-02-02</td>\n",
       "      <td>False</td>\n",
       "      <td>Apartamento para venda com 34 metros quadrados...</td>\n",
       "      <td>320000</td>\n",
       "      <td>300</td>\n",
       "      <td>1</td>\n",
       "      <td>1</td>\n",
       "      <td>0</td>\n",
       "      <td>0</td>\n",
       "      <td>0</td>\n",
       "      <td>...</td>\n",
       "      <td>exact</td>\n",
       "      <td>-3.725947</td>\n",
       "      <td>-38.491821</td>\n",
       "      <td>https://www.zapimoveis.com.br/imovel/venda-stu...</td>\n",
       "      <td>&lt;a href=\"https://www.zapimoveis.com.br/imovel/...</td>\n",
       "      <td>Otaciana Lopes de Souza</td>\n",
       "      <td>85988640948</td>\n",
       "      <td>SALE</td>\n",
       "      <td>2024-04-05</td>\n",
       "      <td>False</td>\n",
       "    </tr>\n",
       "    <tr>\n",
       "      <th>2674086788</th>\n",
       "      <td>2023-12-06</td>\n",
       "      <td>False</td>\n",
       "      <td>Black Oferta, flat vista-mar, projetado e mobi...</td>\n",
       "      <td>329998</td>\n",
       "      <td>0</td>\n",
       "      <td>1</td>\n",
       "      <td>1</td>\n",
       "      <td>1</td>\n",
       "      <td>0</td>\n",
       "      <td>0</td>\n",
       "      <td>...</td>\n",
       "      <td>exact</td>\n",
       "      <td>-3.723273</td>\n",
       "      <td>-38.484860</td>\n",
       "      <td>https://www.zapimoveis.com.br/imovel/venda-fla...</td>\n",
       "      <td>&lt;a href=\"https://www.zapimoveis.com.br/imovel/...</td>\n",
       "      <td>IMOBILIÁRIA FERNANDO FREITAS</td>\n",
       "      <td>8534911444</td>\n",
       "      <td>SALE</td>\n",
       "      <td>2024-03-08</td>\n",
       "      <td>False</td>\n",
       "    </tr>\n",
       "    <tr>\n",
       "      <th>2684005636</th>\n",
       "      <td>2024-01-17</td>\n",
       "      <td>False</td>\n",
       "      <td>Maravilhoso Flat à Beira Mar em Fortaleza!</td>\n",
       "      <td>350000</td>\n",
       "      <td>1408</td>\n",
       "      <td>1</td>\n",
       "      <td>1</td>\n",
       "      <td>1</td>\n",
       "      <td>14</td>\n",
       "      <td>0</td>\n",
       "      <td>...</td>\n",
       "      <td>exact</td>\n",
       "      <td>-3.723666</td>\n",
       "      <td>-38.485599</td>\n",
       "      <td>https://www.zapimoveis.com.br/imovel/venda-fla...</td>\n",
       "      <td>&lt;a href=\"https://www.zapimoveis.com.br/imovel/...</td>\n",
       "      <td>DUPAR PARTICIPACOES S/A</td>\n",
       "      <td>8530554260</td>\n",
       "      <td>SALE</td>\n",
       "      <td>2024-03-06</td>\n",
       "      <td>False</td>\n",
       "    </tr>\n",
       "    <tr>\n",
       "      <th>...</th>\n",
       "      <td>...</td>\n",
       "      <td>...</td>\n",
       "      <td>...</td>\n",
       "      <td>...</td>\n",
       "      <td>...</td>\n",
       "      <td>...</td>\n",
       "      <td>...</td>\n",
       "      <td>...</td>\n",
       "      <td>...</td>\n",
       "      <td>...</td>\n",
       "      <td>...</td>\n",
       "      <td>...</td>\n",
       "      <td>...</td>\n",
       "      <td>...</td>\n",
       "      <td>...</td>\n",
       "      <td>...</td>\n",
       "      <td>...</td>\n",
       "      <td>...</td>\n",
       "      <td>...</td>\n",
       "      <td>...</td>\n",
       "      <td>...</td>\n",
       "    </tr>\n",
       "    <tr>\n",
       "      <th>2699278581</th>\n",
       "      <td>2024-03-18</td>\n",
       "      <td>True</td>\n",
       "      <td>APARTAMENTO Á VENDA NO EDIFÍCIO ATLANTIS - MEI...</td>\n",
       "      <td>1695000</td>\n",
       "      <td>980</td>\n",
       "      <td>2</td>\n",
       "      <td>2</td>\n",
       "      <td>1</td>\n",
       "      <td>9</td>\n",
       "      <td>2012</td>\n",
       "      <td>...</td>\n",
       "      <td>exact</td>\n",
       "      <td>-3.724666</td>\n",
       "      <td>-38.502115</td>\n",
       "      <td>https://www.zapimoveis.com.br/imovel/venda-apa...</td>\n",
       "      <td>&lt;a href=\"https://www.zapimoveis.com.br/imovel/...</td>\n",
       "      <td>SOCORRO MELO IMÓVEIS CRECI 9317J</td>\n",
       "      <td>85997421001</td>\n",
       "      <td>SALE</td>\n",
       "      <td>2024-04-08</td>\n",
       "      <td>False</td>\n",
       "    </tr>\n",
       "    <tr>\n",
       "      <th>2624578012</th>\n",
       "      <td>2023-04-08</td>\n",
       "      <td>False</td>\n",
       "      <td>Condominio Atlantis</td>\n",
       "      <td>1795000</td>\n",
       "      <td>570</td>\n",
       "      <td>2</td>\n",
       "      <td>2</td>\n",
       "      <td>1</td>\n",
       "      <td>0</td>\n",
       "      <td>0</td>\n",
       "      <td>...</td>\n",
       "      <td>exact</td>\n",
       "      <td>-3.724666</td>\n",
       "      <td>-38.502115</td>\n",
       "      <td>https://www.zapimoveis.com.br/imovel/venda-apa...</td>\n",
       "      <td>&lt;a href=\"https://www.zapimoveis.com.br/imovel/...</td>\n",
       "      <td>LF IMOVEIS SOLUÇÕES IMOBILIÁRIAS LTDA</td>\n",
       "      <td>85996980910</td>\n",
       "      <td>SALE</td>\n",
       "      <td>2024-04-13</td>\n",
       "      <td>False</td>\n",
       "    </tr>\n",
       "    <tr>\n",
       "      <th>2705246201</th>\n",
       "      <td>2024-04-08</td>\n",
       "      <td>True</td>\n",
       "      <td>Apartamento para venda possui 290 metros quadr...</td>\n",
       "      <td>3400000</td>\n",
       "      <td>3100</td>\n",
       "      <td>3</td>\n",
       "      <td>6</td>\n",
       "      <td>4</td>\n",
       "      <td>0</td>\n",
       "      <td>0</td>\n",
       "      <td>...</td>\n",
       "      <td>exact</td>\n",
       "      <td>-3.723107</td>\n",
       "      <td>-38.482753</td>\n",
       "      <td>https://www.zapimoveis.com.br/imovel/venda-apa...</td>\n",
       "      <td>&lt;a href=\"https://www.zapimoveis.com.br/imovel/...</td>\n",
       "      <td>Otaciana Lopes de Souza</td>\n",
       "      <td>85988640948</td>\n",
       "      <td>SALE</td>\n",
       "      <td>2024-04-08</td>\n",
       "      <td>False</td>\n",
       "    </tr>\n",
       "    <tr>\n",
       "      <th>2629066087</th>\n",
       "      <td>2023-04-28</td>\n",
       "      <td>False</td>\n",
       "      <td>Apartamento para venda com 220 metros quadrado...</td>\n",
       "      <td>3900000</td>\n",
       "      <td>2400</td>\n",
       "      <td>3</td>\n",
       "      <td>5</td>\n",
       "      <td>3</td>\n",
       "      <td>13</td>\n",
       "      <td>1993</td>\n",
       "      <td>...</td>\n",
       "      <td>exact</td>\n",
       "      <td>-3.725741</td>\n",
       "      <td>-38.496646</td>\n",
       "      <td>https://www.zapimoveis.com.br/imovel/venda-apa...</td>\n",
       "      <td>&lt;a href=\"https://www.zapimoveis.com.br/imovel/...</td>\n",
       "      <td>Marcia Maria de Santiago</td>\n",
       "      <td>85999697112</td>\n",
       "      <td>SALE</td>\n",
       "      <td>2024-04-09</td>\n",
       "      <td>False</td>\n",
       "    </tr>\n",
       "    <tr>\n",
       "      <th>2685991657</th>\n",
       "      <td>2024-01-25</td>\n",
       "      <td>False</td>\n",
       "      <td>Apartamento para venda possui 50 metros quadra...</td>\n",
       "      <td>799000</td>\n",
       "      <td>0</td>\n",
       "      <td>2</td>\n",
       "      <td>1</td>\n",
       "      <td>1</td>\n",
       "      <td>0</td>\n",
       "      <td>0</td>\n",
       "      <td>...</td>\n",
       "      <td>exact</td>\n",
       "      <td>-3.725413</td>\n",
       "      <td>-38.498389</td>\n",
       "      <td>https://www.zapimoveis.com.br/imovel/venda-apa...</td>\n",
       "      <td>&lt;a href=\"https://www.zapimoveis.com.br/imovel/...</td>\n",
       "      <td>Robson Geovani Consultor Imobiliário</td>\n",
       "      <td>85999258600</td>\n",
       "      <td>SALE</td>\n",
       "      <td>2024-04-13</td>\n",
       "      <td>False</td>\n",
       "    </tr>\n",
       "  </tbody>\n",
       "</table>\n",
       "<p>343 rows × 31 columns</p>\n",
       "</div>"
      ],
      "text/plain": [
       "           listing_date  new_listing  \\\n",
       "listing_id                             \n",
       "2638118288   2023-06-13        False   \n",
       "2563609061   2022-05-20        False   \n",
       "2687921230   2024-02-02        False   \n",
       "2674086788   2023-12-06        False   \n",
       "2684005636   2024-01-17        False   \n",
       "...                 ...          ...   \n",
       "2699278581   2024-03-18         True   \n",
       "2624578012   2023-04-08        False   \n",
       "2705246201   2024-04-08         True   \n",
       "2629066087   2023-04-28        False   \n",
       "2685991657   2024-01-25        False   \n",
       "\n",
       "                                                  description    price  \\\n",
       "listing_id                                                               \n",
       "2638118288                More no Meireles a partir de 292mil   292604   \n",
       "2563609061  Apartamento para venda com 40 metros quadrados...   300000   \n",
       "2687921230  Apartamento para venda com 34 metros quadrados...   320000   \n",
       "2674086788  Black Oferta, flat vista-mar, projetado e mobi...   329998   \n",
       "2684005636         Maravilhoso Flat à Beira Mar em Fortaleza!   350000   \n",
       "...                                                       ...      ...   \n",
       "2699278581  APARTAMENTO Á VENDA NO EDIFÍCIO ATLANTIS - MEI...  1695000   \n",
       "2624578012                                Condominio Atlantis  1795000   \n",
       "2705246201  Apartamento para venda possui 290 metros quadr...  3400000   \n",
       "2629066087  Apartamento para venda com 220 metros quadrado...  3900000   \n",
       "2685991657  Apartamento para venda possui 50 metros quadra...   799000   \n",
       "\n",
       "            condo_fee  bedrooms  bathrooms  vacancies  floor  \\\n",
       "listing_id                                                     \n",
       "2638118288        500         1          1          1     20   \n",
       "2563609061       1062         1          1          0      0   \n",
       "2687921230        300         1          1          0      0   \n",
       "2674086788          0         1          1          1      0   \n",
       "2684005636       1408         1          1          1     14   \n",
       "...               ...       ...        ...        ...    ...   \n",
       "2699278581        980         2          2          1      9   \n",
       "2624578012        570         2          2          1      0   \n",
       "2705246201       3100         3          6          4      0   \n",
       "2629066087       2400         3          5          3     13   \n",
       "2685991657          0         2          1          1      0   \n",
       "\n",
       "            construction_year  ...  precision  latitude  longitude  \\\n",
       "listing_id                     ...                                   \n",
       "2638118288               2023  ...      exact -3.720170 -38.512638   \n",
       "2563609061                  0  ...      exact -3.724166 -38.489588   \n",
       "2687921230                  0  ...      exact -3.725947 -38.491821   \n",
       "2674086788                  0  ...      exact -3.723273 -38.484860   \n",
       "2684005636                  0  ...      exact -3.723666 -38.485599   \n",
       "...                       ...  ...        ...       ...        ...   \n",
       "2699278581               2012  ...      exact -3.724666 -38.502115   \n",
       "2624578012                  0  ...      exact -3.724666 -38.502115   \n",
       "2705246201                  0  ...      exact -3.723107 -38.482753   \n",
       "2629066087               1993  ...      exact -3.725741 -38.496646   \n",
       "2685991657                  0  ...      exact -3.725413 -38.498389   \n",
       "\n",
       "                                                          url  \\\n",
       "listing_id                                                      \n",
       "2638118288  https://www.zapimoveis.com.br/imovel/venda-apa...   \n",
       "2563609061  https://www.zapimoveis.com.br/imovel/venda-fla...   \n",
       "2687921230  https://www.zapimoveis.com.br/imovel/venda-stu...   \n",
       "2674086788  https://www.zapimoveis.com.br/imovel/venda-fla...   \n",
       "2684005636  https://www.zapimoveis.com.br/imovel/venda-fla...   \n",
       "...                                                       ...   \n",
       "2699278581  https://www.zapimoveis.com.br/imovel/venda-apa...   \n",
       "2624578012  https://www.zapimoveis.com.br/imovel/venda-apa...   \n",
       "2705246201  https://www.zapimoveis.com.br/imovel/venda-apa...   \n",
       "2629066087  https://www.zapimoveis.com.br/imovel/venda-apa...   \n",
       "2685991657  https://www.zapimoveis.com.br/imovel/venda-apa...   \n",
       "\n",
       "                                                         link  \\\n",
       "listing_id                                                      \n",
       "2638118288  <a href=\"https://www.zapimoveis.com.br/imovel/...   \n",
       "2563609061  <a href=\"https://www.zapimoveis.com.br/imovel/...   \n",
       "2687921230  <a href=\"https://www.zapimoveis.com.br/imovel/...   \n",
       "2674086788  <a href=\"https://www.zapimoveis.com.br/imovel/...   \n",
       "2684005636  <a href=\"https://www.zapimoveis.com.br/imovel/...   \n",
       "...                                                       ...   \n",
       "2699278581  <a href=\"https://www.zapimoveis.com.br/imovel/...   \n",
       "2624578012  <a href=\"https://www.zapimoveis.com.br/imovel/...   \n",
       "2705246201  <a href=\"https://www.zapimoveis.com.br/imovel/...   \n",
       "2629066087  <a href=\"https://www.zapimoveis.com.br/imovel/...   \n",
       "2685991657  <a href=\"https://www.zapimoveis.com.br/imovel/...   \n",
       "\n",
       "                                       advertizer  primary_phone  \\\n",
       "listing_id                                                         \n",
       "2638118288                     DAVI BRITO IMÓVEIS    85998684547   \n",
       "2563609061                             PS Imóveis    85994214033   \n",
       "2687921230                Otaciana Lopes de Souza    85988640948   \n",
       "2674086788           IMOBILIÁRIA FERNANDO FREITAS     8534911444   \n",
       "2684005636                DUPAR PARTICIPACOES S/A     8530554260   \n",
       "...                                           ...            ...   \n",
       "2699278581       SOCORRO MELO IMÓVEIS CRECI 9317J    85997421001   \n",
       "2624578012  LF IMOVEIS SOLUÇÕES IMOBILIÁRIAS LTDA    85996980910   \n",
       "2705246201                Otaciana Lopes de Souza    85988640948   \n",
       "2629066087               Marcia Maria de Santiago    85999697112   \n",
       "2685991657   Robson Geovani Consultor Imobiliário    85999258600   \n",
       "\n",
       "           business_type  updated_at price_per_area_in_first_quartile  \n",
       "listing_id                                                             \n",
       "2638118288          SALE  2024-03-08                            False  \n",
       "2563609061          SALE  2024-04-03                            False  \n",
       "2687921230          SALE  2024-04-05                            False  \n",
       "2674086788          SALE  2024-03-08                            False  \n",
       "2684005636          SALE  2024-03-06                            False  \n",
       "...                  ...         ...                              ...  \n",
       "2699278581          SALE  2024-04-08                            False  \n",
       "2624578012          SALE  2024-04-13                            False  \n",
       "2705246201          SALE  2024-04-08                            False  \n",
       "2629066087          SALE  2024-04-09                            False  \n",
       "2685991657          SALE  2024-04-13                            False  \n",
       "\n",
       "[343 rows x 31 columns]"
      ]
     },
     "execution_count": 173,
     "metadata": {},
     "output_type": "execute_result"
    }
   ],
   "source": [
    "beira_mar_listings = listings[\n",
    "    listings[\"street_address\"].str.contains(\"[Bb]eira [Mn]ar\", na=False)\n",
    "]\n",
    "beira_mar_listings"
   ]
  },
  {
   "cell_type": "markdown",
   "metadata": {},
   "source": [
    "### Feature Engineering\n"
   ]
  },
  {
   "cell_type": "markdown",
   "metadata": {},
   "source": [
    "Price per area according to listing date\n"
   ]
  },
  {
   "cell_type": "code",
   "execution_count": 174,
   "metadata": {},
   "outputs": [
    {
     "name": "stderr",
     "output_type": "stream",
     "text": [
      "C:\\Users\\Public\\Documents\\Wondershare\\CreatorTemp\\ipykernel_15680\\3188174511.py:1: SettingWithCopyWarning:\n",
      "\n",
      "\n",
      "A value is trying to be set on a copy of a slice from a DataFrame.\n",
      "Try using .loc[row_indexer,col_indexer] = value instead\n",
      "\n",
      "See the caveats in the documentation: https://pandas.pydata.org/pandas-docs/stable/user_guide/indexing.html#returning-a-view-versus-a-copy\n",
      "\n"
     ]
    },
    {
     "data": {
      "text/plain": [
       "listing_id\n",
       "2638118288    1\n",
       "2563609061    3\n",
       "2687921230    0\n",
       "2674086788    0\n",
       "2684005636    0\n",
       "             ..\n",
       "2699278581    0\n",
       "2624578012    2\n",
       "2705246201    0\n",
       "2629066087    1\n",
       "2685991657    0\n",
       "Name: semesters_listed, Length: 343, dtype: int32"
      ]
     },
     "execution_count": 174,
     "metadata": {},
     "output_type": "execute_result"
    }
   ],
   "source": [
    "beira_mar_listings[\"semesters_listed\"] = (\n",
    "    (\n",
    "        datetime.datetime.today() - pd.to_datetime(beira_mar_listings[\"listing_date\"])\n",
    "    ).dt.days\n",
    "    / 180\n",
    ").astype(int)\n",
    "beira_mar_listings[\"semesters_listed\"]"
   ]
  },
  {
   "cell_type": "code",
   "execution_count": 175,
   "metadata": {},
   "outputs": [
    {
     "name": "stderr",
     "output_type": "stream",
     "text": [
      "C:\\Users\\Public\\Documents\\Wondershare\\CreatorTemp\\ipykernel_15680\\3094855999.py:1: SettingWithCopyWarning:\n",
      "\n",
      "\n",
      "A value is trying to be set on a copy of a slice from a DataFrame.\n",
      "Try using .loc[row_indexer,col_indexer] = value instead\n",
      "\n",
      "See the caveats in the documentation: https://pandas.pydata.org/pandas-docs/stable/user_guide/indexing.html#returning-a-view-versus-a-copy\n",
      "\n",
      "C:\\Users\\Public\\Documents\\Wondershare\\CreatorTemp\\ipykernel_15680\\3094855999.py:4: SettingWithCopyWarning:\n",
      "\n",
      "\n",
      "A value is trying to be set on a copy of a slice from a DataFrame.\n",
      "Try using .loc[row_indexer,col_indexer] = value instead\n",
      "\n",
      "See the caveats in the documentation: https://pandas.pydata.org/pandas-docs/stable/user_guide/indexing.html#returning-a-view-versus-a-copy\n",
      "\n"
     ]
    }
   ],
   "source": [
    "beira_mar_listings[\"construction_year\"] = beira_mar_listings[\n",
    "    \"construction_year\"\n",
    "].replace(0, np.nan)\n",
    "beira_mar_listings[\"construction_year_quartiles\"] = pd.qcut(\n",
    "    beira_mar_listings[\"construction_year\"], 4\n",
    ")"
   ]
  },
  {
   "cell_type": "code",
   "execution_count": 176,
   "metadata": {},
   "outputs": [
    {
     "name": "stderr",
     "output_type": "stream",
     "text": [
      "C:\\Users\\Public\\Documents\\Wondershare\\CreatorTemp\\ipykernel_15680\\2896677528.py:1: SettingWithCopyWarning:\n",
      "\n",
      "\n",
      "A value is trying to be set on a copy of a slice from a DataFrame.\n",
      "Try using .loc[row_indexer,col_indexer] = value instead\n",
      "\n",
      "See the caveats in the documentation: https://pandas.pydata.org/pandas-docs/stable/user_guide/indexing.html#returning-a-view-versus-a-copy\n",
      "\n"
     ]
    },
    {
     "data": {
      "text/html": [
       "<div>\n",
       "<style scoped>\n",
       "    .dataframe tbody tr th:only-of-type {\n",
       "        vertical-align: middle;\n",
       "    }\n",
       "\n",
       "    .dataframe tbody tr th {\n",
       "        vertical-align: top;\n",
       "    }\n",
       "\n",
       "    .dataframe thead th {\n",
       "        text-align: right;\n",
       "    }\n",
       "</style>\n",
       "<table border=\"1\" class=\"dataframe\">\n",
       "  <thead>\n",
       "    <tr style=\"text-align: right;\">\n",
       "      <th></th>\n",
       "      <th>listing_date</th>\n",
       "      <th>new_listing</th>\n",
       "      <th>description</th>\n",
       "      <th>price</th>\n",
       "      <th>condo_fee</th>\n",
       "      <th>bedrooms</th>\n",
       "      <th>bathrooms</th>\n",
       "      <th>vacancies</th>\n",
       "      <th>floor</th>\n",
       "      <th>construction_year</th>\n",
       "      <th>...</th>\n",
       "      <th>url</th>\n",
       "      <th>link</th>\n",
       "      <th>advertizer</th>\n",
       "      <th>primary_phone</th>\n",
       "      <th>business_type</th>\n",
       "      <th>updated_at</th>\n",
       "      <th>price_per_area_in_first_quartile</th>\n",
       "      <th>semesters_listed</th>\n",
       "      <th>construction_year_quartiles</th>\n",
       "      <th>street_number_quartiles</th>\n",
       "    </tr>\n",
       "    <tr>\n",
       "      <th>listing_id</th>\n",
       "      <th></th>\n",
       "      <th></th>\n",
       "      <th></th>\n",
       "      <th></th>\n",
       "      <th></th>\n",
       "      <th></th>\n",
       "      <th></th>\n",
       "      <th></th>\n",
       "      <th></th>\n",
       "      <th></th>\n",
       "      <th></th>\n",
       "      <th></th>\n",
       "      <th></th>\n",
       "      <th></th>\n",
       "      <th></th>\n",
       "      <th></th>\n",
       "      <th></th>\n",
       "      <th></th>\n",
       "      <th></th>\n",
       "      <th></th>\n",
       "      <th></th>\n",
       "    </tr>\n",
       "  </thead>\n",
       "  <tbody>\n",
       "    <tr>\n",
       "      <th>2638118288</th>\n",
       "      <td>2023-06-13</td>\n",
       "      <td>False</td>\n",
       "      <td>More no Meireles a partir de 292mil</td>\n",
       "      <td>292604</td>\n",
       "      <td>500</td>\n",
       "      <td>1</td>\n",
       "      <td>1</td>\n",
       "      <td>1</td>\n",
       "      <td>20</td>\n",
       "      <td>2023.0</td>\n",
       "      <td>...</td>\n",
       "      <td>https://www.zapimoveis.com.br/imovel/venda-apa...</td>\n",
       "      <td>&lt;a href=\"https://www.zapimoveis.com.br/imovel/...</td>\n",
       "      <td>DAVI BRITO IMÓVEIS</td>\n",
       "      <td>85998684547</td>\n",
       "      <td>SALE</td>\n",
       "      <td>2024-03-08</td>\n",
       "      <td>False</td>\n",
       "      <td>1</td>\n",
       "      <td>(2014.0, 2024.0]</td>\n",
       "      <td>(0.999, 2120.0]</td>\n",
       "    </tr>\n",
       "    <tr>\n",
       "      <th>2563609061</th>\n",
       "      <td>2022-05-20</td>\n",
       "      <td>False</td>\n",
       "      <td>Apartamento para venda com 40 metros quadrados...</td>\n",
       "      <td>300000</td>\n",
       "      <td>1062</td>\n",
       "      <td>1</td>\n",
       "      <td>1</td>\n",
       "      <td>0</td>\n",
       "      <td>0</td>\n",
       "      <td>NaN</td>\n",
       "      <td>...</td>\n",
       "      <td>https://www.zapimoveis.com.br/imovel/venda-fla...</td>\n",
       "      <td>&lt;a href=\"https://www.zapimoveis.com.br/imovel/...</td>\n",
       "      <td>PS Imóveis</td>\n",
       "      <td>85994214033</td>\n",
       "      <td>SALE</td>\n",
       "      <td>2024-04-03</td>\n",
       "      <td>False</td>\n",
       "      <td>3</td>\n",
       "      <td>NaN</td>\n",
       "      <td>(3220.0, 4260.0]</td>\n",
       "    </tr>\n",
       "    <tr>\n",
       "      <th>2687921230</th>\n",
       "      <td>2024-02-02</td>\n",
       "      <td>False</td>\n",
       "      <td>Apartamento para venda com 34 metros quadrados...</td>\n",
       "      <td>320000</td>\n",
       "      <td>300</td>\n",
       "      <td>1</td>\n",
       "      <td>1</td>\n",
       "      <td>0</td>\n",
       "      <td>0</td>\n",
       "      <td>NaN</td>\n",
       "      <td>...</td>\n",
       "      <td>https://www.zapimoveis.com.br/imovel/venda-stu...</td>\n",
       "      <td>&lt;a href=\"https://www.zapimoveis.com.br/imovel/...</td>\n",
       "      <td>Otaciana Lopes de Souza</td>\n",
       "      <td>85988640948</td>\n",
       "      <td>SALE</td>\n",
       "      <td>2024-04-05</td>\n",
       "      <td>False</td>\n",
       "      <td>0</td>\n",
       "      <td>NaN</td>\n",
       "      <td>(2120.0, 3220.0]</td>\n",
       "    </tr>\n",
       "    <tr>\n",
       "      <th>2674086788</th>\n",
       "      <td>2023-12-06</td>\n",
       "      <td>False</td>\n",
       "      <td>Black Oferta, flat vista-mar, projetado e mobi...</td>\n",
       "      <td>329998</td>\n",
       "      <td>0</td>\n",
       "      <td>1</td>\n",
       "      <td>1</td>\n",
       "      <td>1</td>\n",
       "      <td>0</td>\n",
       "      <td>NaN</td>\n",
       "      <td>...</td>\n",
       "      <td>https://www.zapimoveis.com.br/imovel/venda-fla...</td>\n",
       "      <td>&lt;a href=\"https://www.zapimoveis.com.br/imovel/...</td>\n",
       "      <td>IMOBILIÁRIA FERNANDO FREITAS</td>\n",
       "      <td>8534911444</td>\n",
       "      <td>SALE</td>\n",
       "      <td>2024-03-08</td>\n",
       "      <td>False</td>\n",
       "      <td>0</td>\n",
       "      <td>NaN</td>\n",
       "      <td>(3220.0, 4260.0]</td>\n",
       "    </tr>\n",
       "    <tr>\n",
       "      <th>2684005636</th>\n",
       "      <td>2024-01-17</td>\n",
       "      <td>False</td>\n",
       "      <td>Maravilhoso Flat à Beira Mar em Fortaleza!</td>\n",
       "      <td>350000</td>\n",
       "      <td>1408</td>\n",
       "      <td>1</td>\n",
       "      <td>1</td>\n",
       "      <td>1</td>\n",
       "      <td>14</td>\n",
       "      <td>NaN</td>\n",
       "      <td>...</td>\n",
       "      <td>https://www.zapimoveis.com.br/imovel/venda-fla...</td>\n",
       "      <td>&lt;a href=\"https://www.zapimoveis.com.br/imovel/...</td>\n",
       "      <td>DUPAR PARTICIPACOES S/A</td>\n",
       "      <td>8530554260</td>\n",
       "      <td>SALE</td>\n",
       "      <td>2024-03-06</td>\n",
       "      <td>False</td>\n",
       "      <td>0</td>\n",
       "      <td>NaN</td>\n",
       "      <td>(3220.0, 4260.0]</td>\n",
       "    </tr>\n",
       "    <tr>\n",
       "      <th>...</th>\n",
       "      <td>...</td>\n",
       "      <td>...</td>\n",
       "      <td>...</td>\n",
       "      <td>...</td>\n",
       "      <td>...</td>\n",
       "      <td>...</td>\n",
       "      <td>...</td>\n",
       "      <td>...</td>\n",
       "      <td>...</td>\n",
       "      <td>...</td>\n",
       "      <td>...</td>\n",
       "      <td>...</td>\n",
       "      <td>...</td>\n",
       "      <td>...</td>\n",
       "      <td>...</td>\n",
       "      <td>...</td>\n",
       "      <td>...</td>\n",
       "      <td>...</td>\n",
       "      <td>...</td>\n",
       "      <td>...</td>\n",
       "      <td>...</td>\n",
       "    </tr>\n",
       "    <tr>\n",
       "      <th>2699278581</th>\n",
       "      <td>2024-03-18</td>\n",
       "      <td>True</td>\n",
       "      <td>APARTAMENTO Á VENDA NO EDIFÍCIO ATLANTIS - MEI...</td>\n",
       "      <td>1695000</td>\n",
       "      <td>980</td>\n",
       "      <td>2</td>\n",
       "      <td>2</td>\n",
       "      <td>1</td>\n",
       "      <td>9</td>\n",
       "      <td>2012.0</td>\n",
       "      <td>...</td>\n",
       "      <td>https://www.zapimoveis.com.br/imovel/venda-apa...</td>\n",
       "      <td>&lt;a href=\"https://www.zapimoveis.com.br/imovel/...</td>\n",
       "      <td>SOCORRO MELO IMÓVEIS CRECI 9317J</td>\n",
       "      <td>85997421001</td>\n",
       "      <td>SALE</td>\n",
       "      <td>2024-04-08</td>\n",
       "      <td>False</td>\n",
       "      <td>0</td>\n",
       "      <td>(2007.0, 2014.0]</td>\n",
       "      <td>(0.999, 2120.0]</td>\n",
       "    </tr>\n",
       "    <tr>\n",
       "      <th>2624578012</th>\n",
       "      <td>2023-04-08</td>\n",
       "      <td>False</td>\n",
       "      <td>Condominio Atlantis</td>\n",
       "      <td>1795000</td>\n",
       "      <td>570</td>\n",
       "      <td>2</td>\n",
       "      <td>2</td>\n",
       "      <td>1</td>\n",
       "      <td>0</td>\n",
       "      <td>NaN</td>\n",
       "      <td>...</td>\n",
       "      <td>https://www.zapimoveis.com.br/imovel/venda-apa...</td>\n",
       "      <td>&lt;a href=\"https://www.zapimoveis.com.br/imovel/...</td>\n",
       "      <td>LF IMOVEIS SOLUÇÕES IMOBILIÁRIAS LTDA</td>\n",
       "      <td>85996980910</td>\n",
       "      <td>SALE</td>\n",
       "      <td>2024-04-13</td>\n",
       "      <td>False</td>\n",
       "      <td>2</td>\n",
       "      <td>NaN</td>\n",
       "      <td>(0.999, 2120.0]</td>\n",
       "    </tr>\n",
       "    <tr>\n",
       "      <th>2705246201</th>\n",
       "      <td>2024-04-08</td>\n",
       "      <td>True</td>\n",
       "      <td>Apartamento para venda possui 290 metros quadr...</td>\n",
       "      <td>3400000</td>\n",
       "      <td>3100</td>\n",
       "      <td>3</td>\n",
       "      <td>6</td>\n",
       "      <td>4</td>\n",
       "      <td>0</td>\n",
       "      <td>NaN</td>\n",
       "      <td>...</td>\n",
       "      <td>https://www.zapimoveis.com.br/imovel/venda-apa...</td>\n",
       "      <td>&lt;a href=\"https://www.zapimoveis.com.br/imovel/...</td>\n",
       "      <td>Otaciana Lopes de Souza</td>\n",
       "      <td>85988640948</td>\n",
       "      <td>SALE</td>\n",
       "      <td>2024-04-08</td>\n",
       "      <td>False</td>\n",
       "      <td>0</td>\n",
       "      <td>NaN</td>\n",
       "      <td>(4260.0, 5543.0]</td>\n",
       "    </tr>\n",
       "    <tr>\n",
       "      <th>2629066087</th>\n",
       "      <td>2023-04-28</td>\n",
       "      <td>False</td>\n",
       "      <td>Apartamento para venda com 220 metros quadrado...</td>\n",
       "      <td>3900000</td>\n",
       "      <td>2400</td>\n",
       "      <td>3</td>\n",
       "      <td>5</td>\n",
       "      <td>3</td>\n",
       "      <td>13</td>\n",
       "      <td>1993.0</td>\n",
       "      <td>...</td>\n",
       "      <td>https://www.zapimoveis.com.br/imovel/venda-apa...</td>\n",
       "      <td>&lt;a href=\"https://www.zapimoveis.com.br/imovel/...</td>\n",
       "      <td>Marcia Maria de Santiago</td>\n",
       "      <td>85999697112</td>\n",
       "      <td>SALE</td>\n",
       "      <td>2024-04-09</td>\n",
       "      <td>False</td>\n",
       "      <td>1</td>\n",
       "      <td>(1972.999, 2000.0]</td>\n",
       "      <td>(2120.0, 3220.0]</td>\n",
       "    </tr>\n",
       "    <tr>\n",
       "      <th>2685991657</th>\n",
       "      <td>2024-01-25</td>\n",
       "      <td>False</td>\n",
       "      <td>Apartamento para venda possui 50 metros quadra...</td>\n",
       "      <td>799000</td>\n",
       "      <td>0</td>\n",
       "      <td>2</td>\n",
       "      <td>1</td>\n",
       "      <td>1</td>\n",
       "      <td>0</td>\n",
       "      <td>NaN</td>\n",
       "      <td>...</td>\n",
       "      <td>https://www.zapimoveis.com.br/imovel/venda-apa...</td>\n",
       "      <td>&lt;a href=\"https://www.zapimoveis.com.br/imovel/...</td>\n",
       "      <td>Robson Geovani Consultor Imobiliário</td>\n",
       "      <td>85999258600</td>\n",
       "      <td>SALE</td>\n",
       "      <td>2024-04-13</td>\n",
       "      <td>False</td>\n",
       "      <td>0</td>\n",
       "      <td>NaN</td>\n",
       "      <td>(2120.0, 3220.0]</td>\n",
       "    </tr>\n",
       "  </tbody>\n",
       "</table>\n",
       "<p>343 rows × 34 columns</p>\n",
       "</div>"
      ],
      "text/plain": [
       "           listing_date  new_listing  \\\n",
       "listing_id                             \n",
       "2638118288   2023-06-13        False   \n",
       "2563609061   2022-05-20        False   \n",
       "2687921230   2024-02-02        False   \n",
       "2674086788   2023-12-06        False   \n",
       "2684005636   2024-01-17        False   \n",
       "...                 ...          ...   \n",
       "2699278581   2024-03-18         True   \n",
       "2624578012   2023-04-08        False   \n",
       "2705246201   2024-04-08         True   \n",
       "2629066087   2023-04-28        False   \n",
       "2685991657   2024-01-25        False   \n",
       "\n",
       "                                                  description    price  \\\n",
       "listing_id                                                               \n",
       "2638118288                More no Meireles a partir de 292mil   292604   \n",
       "2563609061  Apartamento para venda com 40 metros quadrados...   300000   \n",
       "2687921230  Apartamento para venda com 34 metros quadrados...   320000   \n",
       "2674086788  Black Oferta, flat vista-mar, projetado e mobi...   329998   \n",
       "2684005636         Maravilhoso Flat à Beira Mar em Fortaleza!   350000   \n",
       "...                                                       ...      ...   \n",
       "2699278581  APARTAMENTO Á VENDA NO EDIFÍCIO ATLANTIS - MEI...  1695000   \n",
       "2624578012                                Condominio Atlantis  1795000   \n",
       "2705246201  Apartamento para venda possui 290 metros quadr...  3400000   \n",
       "2629066087  Apartamento para venda com 220 metros quadrado...  3900000   \n",
       "2685991657  Apartamento para venda possui 50 metros quadra...   799000   \n",
       "\n",
       "            condo_fee  bedrooms  bathrooms  vacancies  floor  \\\n",
       "listing_id                                                     \n",
       "2638118288        500         1          1          1     20   \n",
       "2563609061       1062         1          1          0      0   \n",
       "2687921230        300         1          1          0      0   \n",
       "2674086788          0         1          1          1      0   \n",
       "2684005636       1408         1          1          1     14   \n",
       "...               ...       ...        ...        ...    ...   \n",
       "2699278581        980         2          2          1      9   \n",
       "2624578012        570         2          2          1      0   \n",
       "2705246201       3100         3          6          4      0   \n",
       "2629066087       2400         3          5          3     13   \n",
       "2685991657          0         2          1          1      0   \n",
       "\n",
       "            construction_year  ...  \\\n",
       "listing_id                     ...   \n",
       "2638118288             2023.0  ...   \n",
       "2563609061                NaN  ...   \n",
       "2687921230                NaN  ...   \n",
       "2674086788                NaN  ...   \n",
       "2684005636                NaN  ...   \n",
       "...                       ...  ...   \n",
       "2699278581             2012.0  ...   \n",
       "2624578012                NaN  ...   \n",
       "2705246201                NaN  ...   \n",
       "2629066087             1993.0  ...   \n",
       "2685991657                NaN  ...   \n",
       "\n",
       "                                                          url  \\\n",
       "listing_id                                                      \n",
       "2638118288  https://www.zapimoveis.com.br/imovel/venda-apa...   \n",
       "2563609061  https://www.zapimoveis.com.br/imovel/venda-fla...   \n",
       "2687921230  https://www.zapimoveis.com.br/imovel/venda-stu...   \n",
       "2674086788  https://www.zapimoveis.com.br/imovel/venda-fla...   \n",
       "2684005636  https://www.zapimoveis.com.br/imovel/venda-fla...   \n",
       "...                                                       ...   \n",
       "2699278581  https://www.zapimoveis.com.br/imovel/venda-apa...   \n",
       "2624578012  https://www.zapimoveis.com.br/imovel/venda-apa...   \n",
       "2705246201  https://www.zapimoveis.com.br/imovel/venda-apa...   \n",
       "2629066087  https://www.zapimoveis.com.br/imovel/venda-apa...   \n",
       "2685991657  https://www.zapimoveis.com.br/imovel/venda-apa...   \n",
       "\n",
       "                                                         link  \\\n",
       "listing_id                                                      \n",
       "2638118288  <a href=\"https://www.zapimoveis.com.br/imovel/...   \n",
       "2563609061  <a href=\"https://www.zapimoveis.com.br/imovel/...   \n",
       "2687921230  <a href=\"https://www.zapimoveis.com.br/imovel/...   \n",
       "2674086788  <a href=\"https://www.zapimoveis.com.br/imovel/...   \n",
       "2684005636  <a href=\"https://www.zapimoveis.com.br/imovel/...   \n",
       "...                                                       ...   \n",
       "2699278581  <a href=\"https://www.zapimoveis.com.br/imovel/...   \n",
       "2624578012  <a href=\"https://www.zapimoveis.com.br/imovel/...   \n",
       "2705246201  <a href=\"https://www.zapimoveis.com.br/imovel/...   \n",
       "2629066087  <a href=\"https://www.zapimoveis.com.br/imovel/...   \n",
       "2685991657  <a href=\"https://www.zapimoveis.com.br/imovel/...   \n",
       "\n",
       "                                       advertizer primary_phone business_type  \\\n",
       "listing_id                                                                      \n",
       "2638118288                     DAVI BRITO IMÓVEIS   85998684547          SALE   \n",
       "2563609061                             PS Imóveis   85994214033          SALE   \n",
       "2687921230                Otaciana Lopes de Souza   85988640948          SALE   \n",
       "2674086788           IMOBILIÁRIA FERNANDO FREITAS    8534911444          SALE   \n",
       "2684005636                DUPAR PARTICIPACOES S/A    8530554260          SALE   \n",
       "...                                           ...           ...           ...   \n",
       "2699278581       SOCORRO MELO IMÓVEIS CRECI 9317J   85997421001          SALE   \n",
       "2624578012  LF IMOVEIS SOLUÇÕES IMOBILIÁRIAS LTDA   85996980910          SALE   \n",
       "2705246201                Otaciana Lopes de Souza   85988640948          SALE   \n",
       "2629066087               Marcia Maria de Santiago   85999697112          SALE   \n",
       "2685991657   Robson Geovani Consultor Imobiliário   85999258600          SALE   \n",
       "\n",
       "            updated_at  price_per_area_in_first_quartile semesters_listed  \\\n",
       "listing_id                                                                  \n",
       "2638118288  2024-03-08                             False                1   \n",
       "2563609061  2024-04-03                             False                3   \n",
       "2687921230  2024-04-05                             False                0   \n",
       "2674086788  2024-03-08                             False                0   \n",
       "2684005636  2024-03-06                             False                0   \n",
       "...                ...                               ...              ...   \n",
       "2699278581  2024-04-08                             False                0   \n",
       "2624578012  2024-04-13                             False                2   \n",
       "2705246201  2024-04-08                             False                0   \n",
       "2629066087  2024-04-09                             False                1   \n",
       "2685991657  2024-04-13                             False                0   \n",
       "\n",
       "           construction_year_quartiles street_number_quartiles  \n",
       "listing_id                                                      \n",
       "2638118288            (2014.0, 2024.0]         (0.999, 2120.0]  \n",
       "2563609061                         NaN        (3220.0, 4260.0]  \n",
       "2687921230                         NaN        (2120.0, 3220.0]  \n",
       "2674086788                         NaN        (3220.0, 4260.0]  \n",
       "2684005636                         NaN        (3220.0, 4260.0]  \n",
       "...                                ...                     ...  \n",
       "2699278581            (2007.0, 2014.0]         (0.999, 2120.0]  \n",
       "2624578012                         NaN         (0.999, 2120.0]  \n",
       "2705246201                         NaN        (4260.0, 5543.0]  \n",
       "2629066087          (1972.999, 2000.0]        (2120.0, 3220.0]  \n",
       "2685991657                         NaN        (2120.0, 3220.0]  \n",
       "\n",
       "[343 rows x 34 columns]"
      ]
     },
     "execution_count": 176,
     "metadata": {},
     "output_type": "execute_result"
    }
   ],
   "source": [
    "beira_mar_listings[\"street_number_quartiles\"] = pd.qcut(\n",
    "    beira_mar_listings[\"street_number\"].astype(int), 4\n",
    ")\n",
    "beira_mar_listings"
   ]
  },
  {
   "cell_type": "code",
   "execution_count": 198,
   "metadata": {},
   "outputs": [
    {
     "name": "stderr",
     "output_type": "stream",
     "text": [
      "C:\\Users\\Public\\Documents\\Wondershare\\CreatorTemp\\ipykernel_15680\\116874205.py:1: SettingWithCopyWarning:\n",
      "\n",
      "\n",
      "A value is trying to be set on a copy of a slice from a DataFrame.\n",
      "Try using .loc[row_indexer,col_indexer] = value instead\n",
      "\n",
      "See the caveats in the documentation: https://pandas.pydata.org/pandas-docs/stable/user_guide/indexing.html#returning-a-view-versus-a-copy\n",
      "\n",
      "C:\\Users\\Public\\Documents\\Wondershare\\CreatorTemp\\ipykernel_15680\\116874205.py:5: SettingWithCopyWarning:\n",
      "\n",
      "\n",
      "A value is trying to be set on a copy of a slice from a DataFrame.\n",
      "Try using .loc[row_indexer,col_indexer] = value instead\n",
      "\n",
      "See the caveats in the documentation: https://pandas.pydata.org/pandas-docs/stable/user_guide/indexing.html#returning-a-view-versus-a-copy\n",
      "\n"
     ]
    },
    {
     "data": {
      "text/html": [
       "<div>\n",
       "<style scoped>\n",
       "    .dataframe tbody tr th:only-of-type {\n",
       "        vertical-align: middle;\n",
       "    }\n",
       "\n",
       "    .dataframe tbody tr th {\n",
       "        vertical-align: top;\n",
       "    }\n",
       "\n",
       "    .dataframe thead th {\n",
       "        text-align: right;\n",
       "    }\n",
       "</style>\n",
       "<table border=\"1\" class=\"dataframe\">\n",
       "  <thead>\n",
       "    <tr style=\"text-align: right;\">\n",
       "      <th></th>\n",
       "      <th>listing_date</th>\n",
       "      <th>new_listing</th>\n",
       "      <th>description</th>\n",
       "      <th>price</th>\n",
       "      <th>condo_fee</th>\n",
       "      <th>bedrooms</th>\n",
       "      <th>bathrooms</th>\n",
       "      <th>vacancies</th>\n",
       "      <th>floor</th>\n",
       "      <th>construction_year</th>\n",
       "      <th>...</th>\n",
       "      <th>advertizer</th>\n",
       "      <th>primary_phone</th>\n",
       "      <th>business_type</th>\n",
       "      <th>updated_at</th>\n",
       "      <th>price_per_area_in_first_quartile</th>\n",
       "      <th>semesters_listed</th>\n",
       "      <th>construction_year_quartiles</th>\n",
       "      <th>street_number_quartiles</th>\n",
       "      <th>total_area_m2_quartiles</th>\n",
       "      <th>condo_fee_quartiles</th>\n",
       "    </tr>\n",
       "    <tr>\n",
       "      <th>listing_id</th>\n",
       "      <th></th>\n",
       "      <th></th>\n",
       "      <th></th>\n",
       "      <th></th>\n",
       "      <th></th>\n",
       "      <th></th>\n",
       "      <th></th>\n",
       "      <th></th>\n",
       "      <th></th>\n",
       "      <th></th>\n",
       "      <th></th>\n",
       "      <th></th>\n",
       "      <th></th>\n",
       "      <th></th>\n",
       "      <th></th>\n",
       "      <th></th>\n",
       "      <th></th>\n",
       "      <th></th>\n",
       "      <th></th>\n",
       "      <th></th>\n",
       "      <th></th>\n",
       "    </tr>\n",
       "  </thead>\n",
       "  <tbody>\n",
       "    <tr>\n",
       "      <th>2638118288</th>\n",
       "      <td>2023-06-13</td>\n",
       "      <td>False</td>\n",
       "      <td>More no Meireles a partir de 292mil</td>\n",
       "      <td>292604</td>\n",
       "      <td>500</td>\n",
       "      <td>1</td>\n",
       "      <td>1</td>\n",
       "      <td>1</td>\n",
       "      <td>20</td>\n",
       "      <td>2023.0</td>\n",
       "      <td>...</td>\n",
       "      <td>DAVI BRITO IMÓVEIS</td>\n",
       "      <td>85998684547</td>\n",
       "      <td>SALE</td>\n",
       "      <td>2024-03-08</td>\n",
       "      <td>False</td>\n",
       "      <td>1</td>\n",
       "      <td>(2014.0, 2024.0]</td>\n",
       "      <td>(0.999, 2120.0]</td>\n",
       "      <td>(28.999, 65.0]</td>\n",
       "      <td>(-0.001, 700.0]</td>\n",
       "    </tr>\n",
       "    <tr>\n",
       "      <th>2563609061</th>\n",
       "      <td>2022-05-20</td>\n",
       "      <td>False</td>\n",
       "      <td>Apartamento para venda com 40 metros quadrados...</td>\n",
       "      <td>300000</td>\n",
       "      <td>1062</td>\n",
       "      <td>1</td>\n",
       "      <td>1</td>\n",
       "      <td>0</td>\n",
       "      <td>0</td>\n",
       "      <td>NaN</td>\n",
       "      <td>...</td>\n",
       "      <td>PS Imóveis</td>\n",
       "      <td>85994214033</td>\n",
       "      <td>SALE</td>\n",
       "      <td>2024-04-03</td>\n",
       "      <td>False</td>\n",
       "      <td>3</td>\n",
       "      <td>NaN</td>\n",
       "      <td>(3220.0, 4260.0]</td>\n",
       "      <td>(28.999, 65.0]</td>\n",
       "      <td>(700.0, 1410.0]</td>\n",
       "    </tr>\n",
       "    <tr>\n",
       "      <th>2687921230</th>\n",
       "      <td>2024-02-02</td>\n",
       "      <td>False</td>\n",
       "      <td>Apartamento para venda com 34 metros quadrados...</td>\n",
       "      <td>320000</td>\n",
       "      <td>300</td>\n",
       "      <td>1</td>\n",
       "      <td>1</td>\n",
       "      <td>0</td>\n",
       "      <td>0</td>\n",
       "      <td>NaN</td>\n",
       "      <td>...</td>\n",
       "      <td>Otaciana Lopes de Souza</td>\n",
       "      <td>85988640948</td>\n",
       "      <td>SALE</td>\n",
       "      <td>2024-04-05</td>\n",
       "      <td>False</td>\n",
       "      <td>0</td>\n",
       "      <td>NaN</td>\n",
       "      <td>(2120.0, 3220.0]</td>\n",
       "      <td>(28.999, 65.0]</td>\n",
       "      <td>(-0.001, 700.0]</td>\n",
       "    </tr>\n",
       "    <tr>\n",
       "      <th>2674086788</th>\n",
       "      <td>2023-12-06</td>\n",
       "      <td>False</td>\n",
       "      <td>Black Oferta, flat vista-mar, projetado e mobi...</td>\n",
       "      <td>329998</td>\n",
       "      <td>0</td>\n",
       "      <td>1</td>\n",
       "      <td>1</td>\n",
       "      <td>1</td>\n",
       "      <td>0</td>\n",
       "      <td>NaN</td>\n",
       "      <td>...</td>\n",
       "      <td>IMOBILIÁRIA FERNANDO FREITAS</td>\n",
       "      <td>8534911444</td>\n",
       "      <td>SALE</td>\n",
       "      <td>2024-03-08</td>\n",
       "      <td>False</td>\n",
       "      <td>0</td>\n",
       "      <td>NaN</td>\n",
       "      <td>(3220.0, 4260.0]</td>\n",
       "      <td>(28.999, 65.0]</td>\n",
       "      <td>(-0.001, 700.0]</td>\n",
       "    </tr>\n",
       "    <tr>\n",
       "      <th>2684005636</th>\n",
       "      <td>2024-01-17</td>\n",
       "      <td>False</td>\n",
       "      <td>Maravilhoso Flat à Beira Mar em Fortaleza!</td>\n",
       "      <td>350000</td>\n",
       "      <td>1408</td>\n",
       "      <td>1</td>\n",
       "      <td>1</td>\n",
       "      <td>1</td>\n",
       "      <td>14</td>\n",
       "      <td>NaN</td>\n",
       "      <td>...</td>\n",
       "      <td>DUPAR PARTICIPACOES S/A</td>\n",
       "      <td>8530554260</td>\n",
       "      <td>SALE</td>\n",
       "      <td>2024-03-06</td>\n",
       "      <td>False</td>\n",
       "      <td>0</td>\n",
       "      <td>NaN</td>\n",
       "      <td>(3220.0, 4260.0]</td>\n",
       "      <td>(28.999, 65.0]</td>\n",
       "      <td>(700.0, 1410.0]</td>\n",
       "    </tr>\n",
       "    <tr>\n",
       "      <th>...</th>\n",
       "      <td>...</td>\n",
       "      <td>...</td>\n",
       "      <td>...</td>\n",
       "      <td>...</td>\n",
       "      <td>...</td>\n",
       "      <td>...</td>\n",
       "      <td>...</td>\n",
       "      <td>...</td>\n",
       "      <td>...</td>\n",
       "      <td>...</td>\n",
       "      <td>...</td>\n",
       "      <td>...</td>\n",
       "      <td>...</td>\n",
       "      <td>...</td>\n",
       "      <td>...</td>\n",
       "      <td>...</td>\n",
       "      <td>...</td>\n",
       "      <td>...</td>\n",
       "      <td>...</td>\n",
       "      <td>...</td>\n",
       "      <td>...</td>\n",
       "    </tr>\n",
       "    <tr>\n",
       "      <th>2699278581</th>\n",
       "      <td>2024-03-18</td>\n",
       "      <td>True</td>\n",
       "      <td>APARTAMENTO Á VENDA NO EDIFÍCIO ATLANTIS - MEI...</td>\n",
       "      <td>1695000</td>\n",
       "      <td>980</td>\n",
       "      <td>2</td>\n",
       "      <td>2</td>\n",
       "      <td>1</td>\n",
       "      <td>9</td>\n",
       "      <td>2012.0</td>\n",
       "      <td>...</td>\n",
       "      <td>SOCORRO MELO IMÓVEIS CRECI 9317J</td>\n",
       "      <td>85997421001</td>\n",
       "      <td>SALE</td>\n",
       "      <td>2024-04-08</td>\n",
       "      <td>False</td>\n",
       "      <td>0</td>\n",
       "      <td>(2007.0, 2014.0]</td>\n",
       "      <td>(0.999, 2120.0]</td>\n",
       "      <td>(65.0, 220.0]</td>\n",
       "      <td>(700.0, 1410.0]</td>\n",
       "    </tr>\n",
       "    <tr>\n",
       "      <th>2624578012</th>\n",
       "      <td>2023-04-08</td>\n",
       "      <td>False</td>\n",
       "      <td>Condominio Atlantis</td>\n",
       "      <td>1795000</td>\n",
       "      <td>570</td>\n",
       "      <td>2</td>\n",
       "      <td>2</td>\n",
       "      <td>1</td>\n",
       "      <td>0</td>\n",
       "      <td>NaN</td>\n",
       "      <td>...</td>\n",
       "      <td>LF IMOVEIS SOLUÇÕES IMOBILIÁRIAS LTDA</td>\n",
       "      <td>85996980910</td>\n",
       "      <td>SALE</td>\n",
       "      <td>2024-04-13</td>\n",
       "      <td>False</td>\n",
       "      <td>2</td>\n",
       "      <td>NaN</td>\n",
       "      <td>(0.999, 2120.0]</td>\n",
       "      <td>(65.0, 220.0]</td>\n",
       "      <td>(-0.001, 700.0]</td>\n",
       "    </tr>\n",
       "    <tr>\n",
       "      <th>2705246201</th>\n",
       "      <td>2024-04-08</td>\n",
       "      <td>True</td>\n",
       "      <td>Apartamento para venda possui 290 metros quadr...</td>\n",
       "      <td>3400000</td>\n",
       "      <td>3100</td>\n",
       "      <td>3</td>\n",
       "      <td>6</td>\n",
       "      <td>4</td>\n",
       "      <td>0</td>\n",
       "      <td>NaN</td>\n",
       "      <td>...</td>\n",
       "      <td>Otaciana Lopes de Souza</td>\n",
       "      <td>85988640948</td>\n",
       "      <td>SALE</td>\n",
       "      <td>2024-04-08</td>\n",
       "      <td>False</td>\n",
       "      <td>0</td>\n",
       "      <td>NaN</td>\n",
       "      <td>(4260.0, 5543.0]</td>\n",
       "      <td>(220.0, 335.0]</td>\n",
       "      <td>(3000.0, 800000.0]</td>\n",
       "    </tr>\n",
       "    <tr>\n",
       "      <th>2629066087</th>\n",
       "      <td>2023-04-28</td>\n",
       "      <td>False</td>\n",
       "      <td>Apartamento para venda com 220 metros quadrado...</td>\n",
       "      <td>3900000</td>\n",
       "      <td>2400</td>\n",
       "      <td>3</td>\n",
       "      <td>5</td>\n",
       "      <td>3</td>\n",
       "      <td>13</td>\n",
       "      <td>1993.0</td>\n",
       "      <td>...</td>\n",
       "      <td>Marcia Maria de Santiago</td>\n",
       "      <td>85999697112</td>\n",
       "      <td>SALE</td>\n",
       "      <td>2024-04-09</td>\n",
       "      <td>False</td>\n",
       "      <td>1</td>\n",
       "      <td>(1972.999, 2000.0]</td>\n",
       "      <td>(2120.0, 3220.0]</td>\n",
       "      <td>(65.0, 220.0]</td>\n",
       "      <td>(1410.0, 3000.0]</td>\n",
       "    </tr>\n",
       "    <tr>\n",
       "      <th>2685991657</th>\n",
       "      <td>2024-01-25</td>\n",
       "      <td>False</td>\n",
       "      <td>Apartamento para venda possui 50 metros quadra...</td>\n",
       "      <td>799000</td>\n",
       "      <td>0</td>\n",
       "      <td>2</td>\n",
       "      <td>1</td>\n",
       "      <td>1</td>\n",
       "      <td>0</td>\n",
       "      <td>NaN</td>\n",
       "      <td>...</td>\n",
       "      <td>Robson Geovani Consultor Imobiliário</td>\n",
       "      <td>85999258600</td>\n",
       "      <td>SALE</td>\n",
       "      <td>2024-04-13</td>\n",
       "      <td>False</td>\n",
       "      <td>0</td>\n",
       "      <td>NaN</td>\n",
       "      <td>(2120.0, 3220.0]</td>\n",
       "      <td>(28.999, 65.0]</td>\n",
       "      <td>(-0.001, 700.0]</td>\n",
       "    </tr>\n",
       "  </tbody>\n",
       "</table>\n",
       "<p>343 rows × 36 columns</p>\n",
       "</div>"
      ],
      "text/plain": [
       "           listing_date  new_listing  \\\n",
       "listing_id                             \n",
       "2638118288   2023-06-13        False   \n",
       "2563609061   2022-05-20        False   \n",
       "2687921230   2024-02-02        False   \n",
       "2674086788   2023-12-06        False   \n",
       "2684005636   2024-01-17        False   \n",
       "...                 ...          ...   \n",
       "2699278581   2024-03-18         True   \n",
       "2624578012   2023-04-08        False   \n",
       "2705246201   2024-04-08         True   \n",
       "2629066087   2023-04-28        False   \n",
       "2685991657   2024-01-25        False   \n",
       "\n",
       "                                                  description    price  \\\n",
       "listing_id                                                               \n",
       "2638118288                More no Meireles a partir de 292mil   292604   \n",
       "2563609061  Apartamento para venda com 40 metros quadrados...   300000   \n",
       "2687921230  Apartamento para venda com 34 metros quadrados...   320000   \n",
       "2674086788  Black Oferta, flat vista-mar, projetado e mobi...   329998   \n",
       "2684005636         Maravilhoso Flat à Beira Mar em Fortaleza!   350000   \n",
       "...                                                       ...      ...   \n",
       "2699278581  APARTAMENTO Á VENDA NO EDIFÍCIO ATLANTIS - MEI...  1695000   \n",
       "2624578012                                Condominio Atlantis  1795000   \n",
       "2705246201  Apartamento para venda possui 290 metros quadr...  3400000   \n",
       "2629066087  Apartamento para venda com 220 metros quadrado...  3900000   \n",
       "2685991657  Apartamento para venda possui 50 metros quadra...   799000   \n",
       "\n",
       "            condo_fee  bedrooms  bathrooms  vacancies  floor  \\\n",
       "listing_id                                                     \n",
       "2638118288        500         1          1          1     20   \n",
       "2563609061       1062         1          1          0      0   \n",
       "2687921230        300         1          1          0      0   \n",
       "2674086788          0         1          1          1      0   \n",
       "2684005636       1408         1          1          1     14   \n",
       "...               ...       ...        ...        ...    ...   \n",
       "2699278581        980         2          2          1      9   \n",
       "2624578012        570         2          2          1      0   \n",
       "2705246201       3100         3          6          4      0   \n",
       "2629066087       2400         3          5          3     13   \n",
       "2685991657          0         2          1          1      0   \n",
       "\n",
       "            construction_year  ...                             advertizer  \\\n",
       "listing_id                     ...                                          \n",
       "2638118288             2023.0  ...                     DAVI BRITO IMÓVEIS   \n",
       "2563609061                NaN  ...                             PS Imóveis   \n",
       "2687921230                NaN  ...                Otaciana Lopes de Souza   \n",
       "2674086788                NaN  ...           IMOBILIÁRIA FERNANDO FREITAS   \n",
       "2684005636                NaN  ...                DUPAR PARTICIPACOES S/A   \n",
       "...                       ...  ...                                    ...   \n",
       "2699278581             2012.0  ...       SOCORRO MELO IMÓVEIS CRECI 9317J   \n",
       "2624578012                NaN  ...  LF IMOVEIS SOLUÇÕES IMOBILIÁRIAS LTDA   \n",
       "2705246201                NaN  ...                Otaciana Lopes de Souza   \n",
       "2629066087             1993.0  ...               Marcia Maria de Santiago   \n",
       "2685991657                NaN  ...   Robson Geovani Consultor Imobiliário   \n",
       "\n",
       "            primary_phone business_type  updated_at  \\\n",
       "listing_id                                            \n",
       "2638118288    85998684547          SALE  2024-03-08   \n",
       "2563609061    85994214033          SALE  2024-04-03   \n",
       "2687921230    85988640948          SALE  2024-04-05   \n",
       "2674086788     8534911444          SALE  2024-03-08   \n",
       "2684005636     8530554260          SALE  2024-03-06   \n",
       "...                   ...           ...         ...   \n",
       "2699278581    85997421001          SALE  2024-04-08   \n",
       "2624578012    85996980910          SALE  2024-04-13   \n",
       "2705246201    85988640948          SALE  2024-04-08   \n",
       "2629066087    85999697112          SALE  2024-04-09   \n",
       "2685991657    85999258600          SALE  2024-04-13   \n",
       "\n",
       "           price_per_area_in_first_quartile semesters_listed  \\\n",
       "listing_id                                                     \n",
       "2638118288                            False                1   \n",
       "2563609061                            False                3   \n",
       "2687921230                            False                0   \n",
       "2674086788                            False                0   \n",
       "2684005636                            False                0   \n",
       "...                                     ...              ...   \n",
       "2699278581                            False                0   \n",
       "2624578012                            False                2   \n",
       "2705246201                            False                0   \n",
       "2629066087                            False                1   \n",
       "2685991657                            False                0   \n",
       "\n",
       "            construction_year_quartiles street_number_quartiles  \\\n",
       "listing_id                                                        \n",
       "2638118288             (2014.0, 2024.0]         (0.999, 2120.0]   \n",
       "2563609061                          NaN        (3220.0, 4260.0]   \n",
       "2687921230                          NaN        (2120.0, 3220.0]   \n",
       "2674086788                          NaN        (3220.0, 4260.0]   \n",
       "2684005636                          NaN        (3220.0, 4260.0]   \n",
       "...                                 ...                     ...   \n",
       "2699278581             (2007.0, 2014.0]         (0.999, 2120.0]   \n",
       "2624578012                          NaN         (0.999, 2120.0]   \n",
       "2705246201                          NaN        (4260.0, 5543.0]   \n",
       "2629066087           (1972.999, 2000.0]        (2120.0, 3220.0]   \n",
       "2685991657                          NaN        (2120.0, 3220.0]   \n",
       "\n",
       "           total_area_m2_quartiles condo_fee_quartiles  \n",
       "listing_id                                              \n",
       "2638118288          (28.999, 65.0]     (-0.001, 700.0]  \n",
       "2563609061          (28.999, 65.0]     (700.0, 1410.0]  \n",
       "2687921230          (28.999, 65.0]     (-0.001, 700.0]  \n",
       "2674086788          (28.999, 65.0]     (-0.001, 700.0]  \n",
       "2684005636          (28.999, 65.0]     (700.0, 1410.0]  \n",
       "...                            ...                 ...  \n",
       "2699278581           (65.0, 220.0]     (700.0, 1410.0]  \n",
       "2624578012           (65.0, 220.0]     (-0.001, 700.0]  \n",
       "2705246201          (220.0, 335.0]  (3000.0, 800000.0]  \n",
       "2629066087           (65.0, 220.0]    (1410.0, 3000.0]  \n",
       "2685991657          (28.999, 65.0]     (-0.001, 700.0]  \n",
       "\n",
       "[343 rows x 36 columns]"
      ]
     },
     "execution_count": 198,
     "metadata": {},
     "output_type": "execute_result"
    }
   ],
   "source": [
    "beira_mar_listings[\"total_area_m2_quartiles\"] = pd.qcut(\n",
    "    beira_mar_listings[\"total_area_m2\"].astype(int), 4\n",
    ")\n",
    "\n",
    "beira_mar_listings[\"condo_fee_quartiles\"] = pd.qcut(\n",
    "    beira_mar_listings[\"condo_fee\"].astype(int), 4\n",
    ")\n",
    "\n",
    "beira_mar_listings"
   ]
  },
  {
   "cell_type": "markdown",
   "metadata": {},
   "source": [
    "### EDA on Beira Mar listings\n"
   ]
  },
  {
   "cell_type": "code",
   "execution_count": 178,
   "metadata": {},
   "outputs": [],
   "source": [
    "def create_price_per_area_histogram(listings: pd.DataFrame, column_to_group: str = \"\"):\n",
    "    if column_to_group in listings.columns:\n",
    "        values_on_column = listings[column_to_group].dropna().astype(str).unique()\n",
    "        for value in sorted(values_on_column):\n",
    "            filtered_listings = listings[listings[column_to_group].astype(str) == value]\n",
    "            avg_price_per_area = filtered_listings[\"price_per_area\"].mean()\n",
    "            median_price_per_area = filtered_listings[\"price_per_area\"].median()\n",
    "            fig = px.histogram(\n",
    "                filtered_listings,\n",
    "                \"price_per_area\",\n",
    "                title=f\"Price per Area distribution for {column_to_group} = {value}\",\n",
    "            )\n",
    "            fig.add_vline(\n",
    "                avg_price_per_area,\n",
    "                annotation={\n",
    "                    \"text\": f\"Average Price per Area R$/m^2: {avg_price_per_area:,.0f}\"\n",
    "                },\n",
    "                annotation_position=\"top right\",\n",
    "            )\n",
    "            fig.add_vline(\n",
    "                median_price_per_area,\n",
    "                annotation={\n",
    "                    \"text\": f\"Median Price per Area R$/m^2: {median_price_per_area:,.0f}\"\n",
    "                },\n",
    "                annotation_position=\"bottom right\",\n",
    "            )\n",
    "            fig.show()\n",
    "    else:\n",
    "        avg_price_per_area = listings[\"price_per_area\"].mean()\n",
    "        median_price_per_area = listings[\"price_per_area\"].median()\n",
    "        fig = px.histogram(\n",
    "            listings,\n",
    "            \"price_per_area\",\n",
    "            title=\"Price per Area distribution for all listings\",\n",
    "        )\n",
    "        fig.add_vline(\n",
    "            avg_price_per_area,\n",
    "            annotation={\n",
    "                \"text\": f\"Average Price per Area R$/m^2: {avg_price_per_area:,.0f}\"\n",
    "            },\n",
    "            annotation_position=\"top right\",\n",
    "        )\n",
    "        fig.add_vline(\n",
    "            median_price_per_area,\n",
    "            annotation={\n",
    "                \"text\": f\"Median Price per Area R$/m^2: {median_price_per_area:,.0f}\"\n",
    "            },\n",
    "            annotation_position=\"bottom right\",\n",
    "        )\n",
    "        fig.show()\n",
    "    return"
   ]
  },
  {
   "cell_type": "code",
   "execution_count": 179,
   "metadata": {},
   "outputs": [
    {
     "data": {
      "application/vnd.plotly.v1+json": {
       "config": {
        "plotlyServerURL": "https://plot.ly"
       },
       "data": [
        {
         "alignmentgroup": "True",
         "bingroup": "x",
         "hovertemplate": "price_per_area=%{x}<br>count=%{y}<extra></extra>",
         "legendgroup": "",
         "marker": {
          "color": "#636efa",
          "pattern": {
           "shape": ""
          }
         },
         "name": "",
         "offsetgroup": "",
         "orientation": "v",
         "showlegend": false,
         "type": "histogram",
         "x": [
          10089.7931034483,
          7500,
          9411.76470588235,
          8249.95,
          7954.54545454545,
          8750,
          8536.58536585366,
          7954.54545454545,
          8222.22222222222,
          8409.09090909091,
          9090.90909090909,
          10000,
          8958.33333333333,
          10238.0952380952,
          8207.54716981132,
          10714.2857142857,
          10714.2857142857,
          9803.92156862745,
          9803.92156862745,
          9803.92156862745,
          9803.92156862745,
          9803.92156862745,
          9803.92156862745,
          9803.92156862745,
          9803.92156862745,
          9803.92156862745,
          9803.92156862745,
          9803.92156862745,
          9803.92156862745,
          9803.92156862745,
          9803.92156862745,
          9803.92156862745,
          9803.92156862745,
          9803.92156862745,
          13375,
          10365.3846153846,
          10480.7692307692,
          11437.5,
          6875,
          11200,
          7808.21917808219,
          7195.12195121951,
          7304.87804878049,
          11998,
          12000,
          12000,
          12000,
          12000,
          12000,
          11538.4615384615,
          12000,
          12000,
          9230.76923076923,
          15500,
          8900,
          6333.33333333333,
          19750,
          19975,
          19975,
          16734.6734693878,
          5578.23129251701,
          7203.38983050847,
          20333.3333333333,
          12790.6976744186,
          18939.3939393939,
          29761.9047619048,
          19696.9696969697,
          20731.7073170732,
          21951.2195121951,
          27272.7272727273,
          27272.7272727273,
          27272.7272727273,
          11458.3333333333,
          11458.3333333333,
          13000,
          7375,
          11614.1732283465,
          12563.025210084,
          9060.60606060606,
          10000,
          13043.4782608696,
          11363.6363636364,
          13824.8847926267,
          14090.9090909091,
          9687.5,
          13125,
          7500,
          13291.6666666667,
          15454.5454545455,
          10725.5520504732,
          11237.7850162866,
          12962.962962963,
          12962.962962963,
          11666.6666666667,
          26515.1515151515,
          26515.1515151515,
          10277.7777777778,
          17511.5207373272,
          12833.3333333333,
          13275.8620689655,
          13275.8620689655,
          13275.8620689655,
          10675.6756756757,
          18159.0909090909,
          17021.2765957447,
          19047.619047619,
          12923.0769230769,
          9567.19817767654,
          9375,
          11486.4864864865,
          19545.4545454545,
          10045.6621004566,
          13496.9325153374,
          13496.9325153374,
          15030.6748466258,
          12475,
          15337.4233128834,
          15675.6756756757,
          11111.1111111111,
          18461.5384615385,
          18416.2062615101,
          18416.2062615101,
          18416.2062615101,
          18214.2857142857,
          18987.1565377532,
          22099.4475138122,
          9218.75,
          9428.57142857143,
          7333.33333333333,
          8295.45454545455,
          7916.66666666667,
          8636.36363636364,
          9772.72727272727,
          10238.0952380952,
          10487.8048780488,
          10476.1904761905,
          10227.2727272727,
          10227.2727272727,
          12209.3023255814,
          15476.1904761905,
          17073.1707317073,
          17073.1707317073,
          20000,
          20851.0638297872,
          20851.0638297872,
          8000,
          10714.2857142857,
          10238.0952380952,
          15476.1904761905,
          13274.2068965517,
          10000,
          14523.8095238095,
          14534.8837209302,
          15731.7073170732,
          17682.9268292683,
          11578.9473684211,
          11398.9637305699,
          11458.3333333333,
          27439.0243902439,
          10655.737704918,
          11614.1732283465,
          12450,
          14238.0952380952,
          9060.60606060606,
          12500,
          13636.3636363636,
          12244.8979591837,
          15789.4736842105,
          23741,
          15000,
          15865.3846153846,
          8707.12401055409,
          11074.9185667752,
          15454.5454545455,
          15454.5454545455,
          10725.5520504732,
          15863.6363636364,
          16619.0476190476,
          15863.6363636364,
          16778.8461538462,
          15863.6363636364,
          15863.6363636364,
          23326.6666666667,
          12500,
          7291.66666666667,
          10000,
          10079.575596817,
          7916.66666666667,
          10405.4054054054,
          13275.8620689655,
          13275.8620689655,
          13275.8620689655,
          13275.8620689655,
          13275.8620689655,
          17727.2727272727,
          19476.1904761905,
          9522.72727272727,
          20380.9523809524,
          9347.82608695652,
          9347.82608695652,
          20465.1162790698,
          13496.9325153374,
          13496.9325153374,
          13414.6341463415,
          13496.9325153374,
          14769.2307692308,
          15076.9230769231,
          15675.6756756757,
          18153.8461538462,
          18153.8461538462,
          22972.972972973,
          18222.8360957643,
          18226.5193370166,
          18416.2062615101,
          18416.2062615101,
          18416.2062615101,
          18513.8121546961,
          18591.6924493554,
          18876.6114180479,
          18876.6114180479,
          18885.0497237569,
          19000.4475138122,
          19059.3480662983,
          19110.8084714549,
          22099.4475138122,
          13414.6341463415,
          9523.80952380952,
          9230.76923076923,
          6467.64705882353,
          28048.7804878049,
          12195.1219512195,
          5870.02096436059,
          7000,
          5870.02096436059,
          11800,
          11434.1085271318,
          11614.1732283465,
          13636.3636363636,
          13125,
          7780.48780487805,
          14819.8198198198,
          23741.0071942446,
          11694.9152542373,
          11694.9152542373,
          11694.9152542373,
          11694.9152542373,
          11694.9152542373,
          15863.6363636364,
          10753.8461538462,
          11663.3333333333,
          11666.6666666667,
          17500,
          15909.0909090909,
          15909.0909090909,
          11666.6666666667,
          16359.0909090909,
          27692.3076923077,
          9743.58974358974,
          28571.4285714286,
          13103.4482758621,
          10000,
          7916.66666666667,
          12540.7166123778,
          14259.2592592593,
          13275.8620689655,
          13275.8620689655,
          13275.8620689655,
          13275.8620689655,
          13444.8275862069,
          16806.7226890756,
          16806.7226890756,
          10781.6711590296,
          10362.6943005181,
          9375,
          11306.5326633166,
          11306.5326633166,
          11306.5326633166,
          19565.2173913043,
          19367.5889328063,
          16723.8507936508,
          21739.1304347826,
          15813.620498615,
          19047.619047619,
          10909.0909090909,
          11111.1111111111,
          20000,
          15835.2941176471,
          22162.1621621622,
          18858.1333333333,
          19004.183908046,
          19495.4128440367,
          22972.972972973,
          20039.5402298851,
          19993.5779816514,
          20396.7889908257,
          20396.7889908257,
          20467.8532110092,
          20506.880733945,
          20689.6551724138,
          20669.7247706422,
          17924.5283018868,
          17924.5283018868,
          19307.4616895874,
          19038.4615384615,
          18416.2062615101,
          18834.1639042357,
          18885.0478821363,
          19000.4475138122,
          19104.9723756906,
          19436.7790262172,
          19134.438305709,
          22099.4475138122,
          9803.92156862745,
          11568.6274509804,
          7195.12195121951,
          9516.12903225806,
          8436.61971830986,
          11538.4615384615,
          7317.07317073171,
          7682.92682926829,
          7500,
          15333.3333333333,
          14307.6923076923,
          7615.38461538462,
          15151.5151515152,
          18181.8181818182,
          18181.8181818182,
          18571.4285714286,
          22785.7142857143,
          22785.7142857143,
          23472.2222222222,
          23472.2222222222,
          27272.7272727273,
          18232.044198895,
          10000,
          15079.3650793651,
          19696.9696969697,
          22857.1428571429,
          24214.2857142857,
          25642.8571428571,
          11724.1379310345,
          17727.2727272727,
          15980
         ],
         "xaxis": "x",
         "yaxis": "y"
        }
       ],
       "layout": {
        "annotations": [
         {
          "showarrow": false,
          "text": "Average Price per Area R$/m^2: 14,259",
          "x": 14259.062276717352,
          "xanchor": "left",
          "xref": "x",
          "y": 1,
          "yanchor": "top",
          "yref": "y domain"
         },
         {
          "showarrow": false,
          "text": "Median Price per Area R$/m^2: 13,276",
          "x": 13275.8620689655,
          "xanchor": "left",
          "xref": "x",
          "y": 0,
          "yanchor": "bottom",
          "yref": "y domain"
         }
        ],
        "barmode": "relative",
        "legend": {
         "tracegroupgap": 0
        },
        "shapes": [
         {
          "type": "line",
          "x0": 14259.062276717352,
          "x1": 14259.062276717352,
          "xref": "x",
          "y0": 0,
          "y1": 1,
          "yref": "y domain"
         },
         {
          "type": "line",
          "x0": 13275.8620689655,
          "x1": 13275.8620689655,
          "xref": "x",
          "y0": 0,
          "y1": 1,
          "yref": "y domain"
         }
        ],
        "template": {
         "data": {
          "bar": [
           {
            "error_x": {
             "color": "#2a3f5f"
            },
            "error_y": {
             "color": "#2a3f5f"
            },
            "marker": {
             "line": {
              "color": "white",
              "width": 0.5
             },
             "pattern": {
              "fillmode": "overlay",
              "size": 10,
              "solidity": 0.2
             }
            },
            "type": "bar"
           }
          ],
          "barpolar": [
           {
            "marker": {
             "line": {
              "color": "white",
              "width": 0.5
             },
             "pattern": {
              "fillmode": "overlay",
              "size": 10,
              "solidity": 0.2
             }
            },
            "type": "barpolar"
           }
          ],
          "carpet": [
           {
            "aaxis": {
             "endlinecolor": "#2a3f5f",
             "gridcolor": "#C8D4E3",
             "linecolor": "#C8D4E3",
             "minorgridcolor": "#C8D4E3",
             "startlinecolor": "#2a3f5f"
            },
            "baxis": {
             "endlinecolor": "#2a3f5f",
             "gridcolor": "#C8D4E3",
             "linecolor": "#C8D4E3",
             "minorgridcolor": "#C8D4E3",
             "startlinecolor": "#2a3f5f"
            },
            "type": "carpet"
           }
          ],
          "choropleth": [
           {
            "colorbar": {
             "outlinewidth": 0,
             "ticks": ""
            },
            "type": "choropleth"
           }
          ],
          "contour": [
           {
            "colorbar": {
             "outlinewidth": 0,
             "ticks": ""
            },
            "colorscale": [
             [
              0,
              "#0d0887"
             ],
             [
              0.1111111111111111,
              "#46039f"
             ],
             [
              0.2222222222222222,
              "#7201a8"
             ],
             [
              0.3333333333333333,
              "#9c179e"
             ],
             [
              0.4444444444444444,
              "#bd3786"
             ],
             [
              0.5555555555555556,
              "#d8576b"
             ],
             [
              0.6666666666666666,
              "#ed7953"
             ],
             [
              0.7777777777777778,
              "#fb9f3a"
             ],
             [
              0.8888888888888888,
              "#fdca26"
             ],
             [
              1,
              "#f0f921"
             ]
            ],
            "type": "contour"
           }
          ],
          "contourcarpet": [
           {
            "colorbar": {
             "outlinewidth": 0,
             "ticks": ""
            },
            "type": "contourcarpet"
           }
          ],
          "heatmap": [
           {
            "colorbar": {
             "outlinewidth": 0,
             "ticks": ""
            },
            "colorscale": [
             [
              0,
              "#0d0887"
             ],
             [
              0.1111111111111111,
              "#46039f"
             ],
             [
              0.2222222222222222,
              "#7201a8"
             ],
             [
              0.3333333333333333,
              "#9c179e"
             ],
             [
              0.4444444444444444,
              "#bd3786"
             ],
             [
              0.5555555555555556,
              "#d8576b"
             ],
             [
              0.6666666666666666,
              "#ed7953"
             ],
             [
              0.7777777777777778,
              "#fb9f3a"
             ],
             [
              0.8888888888888888,
              "#fdca26"
             ],
             [
              1,
              "#f0f921"
             ]
            ],
            "type": "heatmap"
           }
          ],
          "heatmapgl": [
           {
            "colorbar": {
             "outlinewidth": 0,
             "ticks": ""
            },
            "colorscale": [
             [
              0,
              "#0d0887"
             ],
             [
              0.1111111111111111,
              "#46039f"
             ],
             [
              0.2222222222222222,
              "#7201a8"
             ],
             [
              0.3333333333333333,
              "#9c179e"
             ],
             [
              0.4444444444444444,
              "#bd3786"
             ],
             [
              0.5555555555555556,
              "#d8576b"
             ],
             [
              0.6666666666666666,
              "#ed7953"
             ],
             [
              0.7777777777777778,
              "#fb9f3a"
             ],
             [
              0.8888888888888888,
              "#fdca26"
             ],
             [
              1,
              "#f0f921"
             ]
            ],
            "type": "heatmapgl"
           }
          ],
          "histogram": [
           {
            "marker": {
             "pattern": {
              "fillmode": "overlay",
              "size": 10,
              "solidity": 0.2
             }
            },
            "type": "histogram"
           }
          ],
          "histogram2d": [
           {
            "colorbar": {
             "outlinewidth": 0,
             "ticks": ""
            },
            "colorscale": [
             [
              0,
              "#0d0887"
             ],
             [
              0.1111111111111111,
              "#46039f"
             ],
             [
              0.2222222222222222,
              "#7201a8"
             ],
             [
              0.3333333333333333,
              "#9c179e"
             ],
             [
              0.4444444444444444,
              "#bd3786"
             ],
             [
              0.5555555555555556,
              "#d8576b"
             ],
             [
              0.6666666666666666,
              "#ed7953"
             ],
             [
              0.7777777777777778,
              "#fb9f3a"
             ],
             [
              0.8888888888888888,
              "#fdca26"
             ],
             [
              1,
              "#f0f921"
             ]
            ],
            "type": "histogram2d"
           }
          ],
          "histogram2dcontour": [
           {
            "colorbar": {
             "outlinewidth": 0,
             "ticks": ""
            },
            "colorscale": [
             [
              0,
              "#0d0887"
             ],
             [
              0.1111111111111111,
              "#46039f"
             ],
             [
              0.2222222222222222,
              "#7201a8"
             ],
             [
              0.3333333333333333,
              "#9c179e"
             ],
             [
              0.4444444444444444,
              "#bd3786"
             ],
             [
              0.5555555555555556,
              "#d8576b"
             ],
             [
              0.6666666666666666,
              "#ed7953"
             ],
             [
              0.7777777777777778,
              "#fb9f3a"
             ],
             [
              0.8888888888888888,
              "#fdca26"
             ],
             [
              1,
              "#f0f921"
             ]
            ],
            "type": "histogram2dcontour"
           }
          ],
          "mesh3d": [
           {
            "colorbar": {
             "outlinewidth": 0,
             "ticks": ""
            },
            "type": "mesh3d"
           }
          ],
          "parcoords": [
           {
            "line": {
             "colorbar": {
              "outlinewidth": 0,
              "ticks": ""
             }
            },
            "type": "parcoords"
           }
          ],
          "pie": [
           {
            "automargin": true,
            "type": "pie"
           }
          ],
          "scatter": [
           {
            "fillpattern": {
             "fillmode": "overlay",
             "size": 10,
             "solidity": 0.2
            },
            "type": "scatter"
           }
          ],
          "scatter3d": [
           {
            "line": {
             "colorbar": {
              "outlinewidth": 0,
              "ticks": ""
             }
            },
            "marker": {
             "colorbar": {
              "outlinewidth": 0,
              "ticks": ""
             }
            },
            "type": "scatter3d"
           }
          ],
          "scattercarpet": [
           {
            "marker": {
             "colorbar": {
              "outlinewidth": 0,
              "ticks": ""
             }
            },
            "type": "scattercarpet"
           }
          ],
          "scattergeo": [
           {
            "marker": {
             "colorbar": {
              "outlinewidth": 0,
              "ticks": ""
             }
            },
            "type": "scattergeo"
           }
          ],
          "scattergl": [
           {
            "marker": {
             "colorbar": {
              "outlinewidth": 0,
              "ticks": ""
             }
            },
            "type": "scattergl"
           }
          ],
          "scattermapbox": [
           {
            "marker": {
             "colorbar": {
              "outlinewidth": 0,
              "ticks": ""
             }
            },
            "type": "scattermapbox"
           }
          ],
          "scatterpolar": [
           {
            "marker": {
             "colorbar": {
              "outlinewidth": 0,
              "ticks": ""
             }
            },
            "type": "scatterpolar"
           }
          ],
          "scatterpolargl": [
           {
            "marker": {
             "colorbar": {
              "outlinewidth": 0,
              "ticks": ""
             }
            },
            "type": "scatterpolargl"
           }
          ],
          "scatterternary": [
           {
            "marker": {
             "colorbar": {
              "outlinewidth": 0,
              "ticks": ""
             }
            },
            "type": "scatterternary"
           }
          ],
          "surface": [
           {
            "colorbar": {
             "outlinewidth": 0,
             "ticks": ""
            },
            "colorscale": [
             [
              0,
              "#0d0887"
             ],
             [
              0.1111111111111111,
              "#46039f"
             ],
             [
              0.2222222222222222,
              "#7201a8"
             ],
             [
              0.3333333333333333,
              "#9c179e"
             ],
             [
              0.4444444444444444,
              "#bd3786"
             ],
             [
              0.5555555555555556,
              "#d8576b"
             ],
             [
              0.6666666666666666,
              "#ed7953"
             ],
             [
              0.7777777777777778,
              "#fb9f3a"
             ],
             [
              0.8888888888888888,
              "#fdca26"
             ],
             [
              1,
              "#f0f921"
             ]
            ],
            "type": "surface"
           }
          ],
          "table": [
           {
            "cells": {
             "fill": {
              "color": "#EBF0F8"
             },
             "line": {
              "color": "white"
             }
            },
            "header": {
             "fill": {
              "color": "#C8D4E3"
             },
             "line": {
              "color": "white"
             }
            },
            "type": "table"
           }
          ]
         },
         "layout": {
          "annotationdefaults": {
           "arrowcolor": "#2a3f5f",
           "arrowhead": 0,
           "arrowwidth": 1
          },
          "autotypenumbers": "strict",
          "coloraxis": {
           "colorbar": {
            "outlinewidth": 0,
            "ticks": ""
           }
          },
          "colorscale": {
           "diverging": [
            [
             0,
             "#8e0152"
            ],
            [
             0.1,
             "#c51b7d"
            ],
            [
             0.2,
             "#de77ae"
            ],
            [
             0.3,
             "#f1b6da"
            ],
            [
             0.4,
             "#fde0ef"
            ],
            [
             0.5,
             "#f7f7f7"
            ],
            [
             0.6,
             "#e6f5d0"
            ],
            [
             0.7,
             "#b8e186"
            ],
            [
             0.8,
             "#7fbc41"
            ],
            [
             0.9,
             "#4d9221"
            ],
            [
             1,
             "#276419"
            ]
           ],
           "sequential": [
            [
             0,
             "#0d0887"
            ],
            [
             0.1111111111111111,
             "#46039f"
            ],
            [
             0.2222222222222222,
             "#7201a8"
            ],
            [
             0.3333333333333333,
             "#9c179e"
            ],
            [
             0.4444444444444444,
             "#bd3786"
            ],
            [
             0.5555555555555556,
             "#d8576b"
            ],
            [
             0.6666666666666666,
             "#ed7953"
            ],
            [
             0.7777777777777778,
             "#fb9f3a"
            ],
            [
             0.8888888888888888,
             "#fdca26"
            ],
            [
             1,
             "#f0f921"
            ]
           ],
           "sequentialminus": [
            [
             0,
             "#0d0887"
            ],
            [
             0.1111111111111111,
             "#46039f"
            ],
            [
             0.2222222222222222,
             "#7201a8"
            ],
            [
             0.3333333333333333,
             "#9c179e"
            ],
            [
             0.4444444444444444,
             "#bd3786"
            ],
            [
             0.5555555555555556,
             "#d8576b"
            ],
            [
             0.6666666666666666,
             "#ed7953"
            ],
            [
             0.7777777777777778,
             "#fb9f3a"
            ],
            [
             0.8888888888888888,
             "#fdca26"
            ],
            [
             1,
             "#f0f921"
            ]
           ]
          },
          "colorway": [
           "#636efa",
           "#EF553B",
           "#00cc96",
           "#ab63fa",
           "#FFA15A",
           "#19d3f3",
           "#FF6692",
           "#B6E880",
           "#FF97FF",
           "#FECB52"
          ],
          "font": {
           "color": "#2a3f5f"
          },
          "geo": {
           "bgcolor": "white",
           "lakecolor": "white",
           "landcolor": "white",
           "showlakes": true,
           "showland": true,
           "subunitcolor": "#C8D4E3"
          },
          "hoverlabel": {
           "align": "left"
          },
          "hovermode": "closest",
          "mapbox": {
           "style": "light"
          },
          "paper_bgcolor": "white",
          "plot_bgcolor": "white",
          "polar": {
           "angularaxis": {
            "gridcolor": "#EBF0F8",
            "linecolor": "#EBF0F8",
            "ticks": ""
           },
           "bgcolor": "white",
           "radialaxis": {
            "gridcolor": "#EBF0F8",
            "linecolor": "#EBF0F8",
            "ticks": ""
           }
          },
          "scene": {
           "xaxis": {
            "backgroundcolor": "white",
            "gridcolor": "#DFE8F3",
            "gridwidth": 2,
            "linecolor": "#EBF0F8",
            "showbackground": true,
            "ticks": "",
            "zerolinecolor": "#EBF0F8"
           },
           "yaxis": {
            "backgroundcolor": "white",
            "gridcolor": "#DFE8F3",
            "gridwidth": 2,
            "linecolor": "#EBF0F8",
            "showbackground": true,
            "ticks": "",
            "zerolinecolor": "#EBF0F8"
           },
           "zaxis": {
            "backgroundcolor": "white",
            "gridcolor": "#DFE8F3",
            "gridwidth": 2,
            "linecolor": "#EBF0F8",
            "showbackground": true,
            "ticks": "",
            "zerolinecolor": "#EBF0F8"
           }
          },
          "shapedefaults": {
           "line": {
            "color": "#2a3f5f"
           }
          },
          "ternary": {
           "aaxis": {
            "gridcolor": "#DFE8F3",
            "linecolor": "#A2B1C6",
            "ticks": ""
           },
           "baxis": {
            "gridcolor": "#DFE8F3",
            "linecolor": "#A2B1C6",
            "ticks": ""
           },
           "bgcolor": "white",
           "caxis": {
            "gridcolor": "#DFE8F3",
            "linecolor": "#A2B1C6",
            "ticks": ""
           }
          },
          "title": {
           "x": 0.05
          },
          "xaxis": {
           "automargin": true,
           "gridcolor": "#EBF0F8",
           "linecolor": "#EBF0F8",
           "ticks": "",
           "title": {
            "standoff": 15
           },
           "zerolinecolor": "#EBF0F8",
           "zerolinewidth": 2
          },
          "yaxis": {
           "automargin": true,
           "gridcolor": "#EBF0F8",
           "linecolor": "#EBF0F8",
           "ticks": "",
           "title": {
            "standoff": 15
           },
           "zerolinecolor": "#EBF0F8",
           "zerolinewidth": 2
          }
         }
        },
        "title": {
         "text": "Price per Area distribution for all listings"
        },
        "xaxis": {
         "anchor": "y",
         "domain": [
          0,
          1
         ],
         "title": {
          "text": "price_per_area"
         }
        },
        "yaxis": {
         "anchor": "x",
         "domain": [
          0,
          1
         ],
         "title": {
          "text": "count"
         }
        }
       }
      }
     },
     "metadata": {},
     "output_type": "display_data"
    }
   ],
   "source": [
    "# Create\n",
    "create_price_per_area_histogram(beira_mar_listings)"
   ]
  },
  {
   "cell_type": "code",
   "execution_count": 187,
   "metadata": {},
   "outputs": [],
   "source": [
    "def calculate_average_price_per_area_with_margin(listings, column_to_group):\n",
    "\n",
    "# Group the data by 'semesters_listed'\n",
    "     \n",
    "    grouped = listings.groupby(column_to_group)\n",
    "# Calculate mean, standard deviation, and sample size for each group\n",
    "    stats = grouped['price_per_area'].agg(['mean', 'std', 'count']).dropna()\n",
    "    print(stats.index.dtype)\n",
    "# Assuming a 95% confidence level, for t-distribution (if sample size is small)\n",
    "    confidence_level = 0.95\n",
    "# Calculate the margin of error for each group\n",
    "    stats['sem'] = stats['std'] / stats['count'].apply(sqrt)  # Standard Error of the Mean\n",
    "    stats['z_score'] = t.ppf((1 + confidence_level) / 2, df=(stats['count'] - 1))  # t-score for 95% confidence\n",
    "    stats['moe'] = stats['z_score'] * stats['sem']\n",
    "    # stats = stats.reset_index()\n",
    "    stats = stats.sort_index()\n",
    "# The 'stats' DataFrame now contains the margin of error for each group\n",
    "\n",
    "    display(stats)\n",
    "    fig = px.line(data_frame=stats,\n",
    "                  x=stats.index.astype(str),\n",
    "                  error_y='moe',\n",
    "                  y='mean',\n",
    "                  title=f'Average Price per Area by {column_to_group}'\n",
    "                  )\n",
    "    fig.add_hline(y=listings['price_per_area'].mean(), line_dash='dash', line_color='red', annotation_text=f'Average Price per Area: {listings['price_per_area'].mean():.2f}')\n",
    "    fig.update_xaxes(type='category')\n",
    "    return fig.show()"
   ]
  },
  {
   "cell_type": "code",
   "execution_count": 188,
   "metadata": {},
   "outputs": [
    {
     "name": "stdout",
     "output_type": "stream",
     "text": [
      "int32\n"
     ]
    },
    {
     "data": {
      "text/html": [
       "<div>\n",
       "<style scoped>\n",
       "    .dataframe tbody tr th:only-of-type {\n",
       "        vertical-align: middle;\n",
       "    }\n",
       "\n",
       "    .dataframe tbody tr th {\n",
       "        vertical-align: top;\n",
       "    }\n",
       "\n",
       "    .dataframe thead th {\n",
       "        text-align: right;\n",
       "    }\n",
       "</style>\n",
       "<table border=\"1\" class=\"dataframe\">\n",
       "  <thead>\n",
       "    <tr style=\"text-align: right;\">\n",
       "      <th></th>\n",
       "      <th>mean</th>\n",
       "      <th>std</th>\n",
       "      <th>count</th>\n",
       "      <th>sem</th>\n",
       "      <th>z_score</th>\n",
       "      <th>moe</th>\n",
       "    </tr>\n",
       "    <tr>\n",
       "      <th>semesters_listed</th>\n",
       "      <th></th>\n",
       "      <th></th>\n",
       "      <th></th>\n",
       "      <th></th>\n",
       "      <th></th>\n",
       "      <th></th>\n",
       "    </tr>\n",
       "  </thead>\n",
       "  <tbody>\n",
       "    <tr>\n",
       "      <th>0</th>\n",
       "      <td>14381.044183</td>\n",
       "      <td>4969.162971</td>\n",
       "      <td>179</td>\n",
       "      <td>371.412679</td>\n",
       "      <td>1.973381</td>\n",
       "      <td>732.938682</td>\n",
       "    </tr>\n",
       "    <tr>\n",
       "      <th>1</th>\n",
       "      <td>12789.736327</td>\n",
       "      <td>4796.454024</td>\n",
       "      <td>73</td>\n",
       "      <td>561.382481</td>\n",
       "      <td>1.993464</td>\n",
       "      <td>1119.095524</td>\n",
       "    </tr>\n",
       "    <tr>\n",
       "      <th>2</th>\n",
       "      <td>15603.669609</td>\n",
       "      <td>5561.156673</td>\n",
       "      <td>43</td>\n",
       "      <td>848.068442</td>\n",
       "      <td>2.018082</td>\n",
       "      <td>1711.471406</td>\n",
       "    </tr>\n",
       "    <tr>\n",
       "      <th>3</th>\n",
       "      <td>14851.269452</td>\n",
       "      <td>5087.455722</td>\n",
       "      <td>25</td>\n",
       "      <td>1017.491144</td>\n",
       "      <td>2.063899</td>\n",
       "      <td>2099.998509</td>\n",
       "    </tr>\n",
       "    <tr>\n",
       "      <th>4</th>\n",
       "      <td>14226.254548</td>\n",
       "      <td>4640.824366</td>\n",
       "      <td>10</td>\n",
       "      <td>1467.557522</td>\n",
       "      <td>2.262157</td>\n",
       "      <td>3319.845759</td>\n",
       "    </tr>\n",
       "    <tr>\n",
       "      <th>5</th>\n",
       "      <td>15178.356833</td>\n",
       "      <td>4571.220121</td>\n",
       "      <td>8</td>\n",
       "      <td>1616.170373</td>\n",
       "      <td>2.364624</td>\n",
       "      <td>3821.635658</td>\n",
       "    </tr>\n",
       "    <tr>\n",
       "      <th>6</th>\n",
       "      <td>13506.810249</td>\n",
       "      <td>3262.322340</td>\n",
       "      <td>2</td>\n",
       "      <td>2306.810249</td>\n",
       "      <td>12.706205</td>\n",
       "      <td>29310.803316</td>\n",
       "    </tr>\n",
       "  </tbody>\n",
       "</table>\n",
       "</div>"
      ],
      "text/plain": [
       "                          mean          std  count          sem    z_score  \\\n",
       "semesters_listed                                                             \n",
       "0                 14381.044183  4969.162971    179   371.412679   1.973381   \n",
       "1                 12789.736327  4796.454024     73   561.382481   1.993464   \n",
       "2                 15603.669609  5561.156673     43   848.068442   2.018082   \n",
       "3                 14851.269452  5087.455722     25  1017.491144   2.063899   \n",
       "4                 14226.254548  4640.824366     10  1467.557522   2.262157   \n",
       "5                 15178.356833  4571.220121      8  1616.170373   2.364624   \n",
       "6                 13506.810249  3262.322340      2  2306.810249  12.706205   \n",
       "\n",
       "                           moe  \n",
       "semesters_listed                \n",
       "0                   732.938682  \n",
       "1                  1119.095524  \n",
       "2                  1711.471406  \n",
       "3                  2099.998509  \n",
       "4                  3319.845759  \n",
       "5                  3821.635658  \n",
       "6                 29310.803316  "
      ]
     },
     "metadata": {},
     "output_type": "display_data"
    },
    {
     "data": {
      "application/vnd.plotly.v1+json": {
       "config": {
        "plotlyServerURL": "https://plot.ly"
       },
       "data": [
        {
         "error_y": {
          "array": [
           732.9386817402585,
           1119.095523754634,
           1711.4714056385812,
           2099.998509378692,
           3319.8457593580215,
           3821.6356583266224,
           29310.80331580106
          ]
         },
         "hovertemplate": "x=%{x}<br>mean=%{y}<extra></extra>",
         "legendgroup": "",
         "line": {
          "color": "#636efa",
          "dash": "solid"
         },
         "marker": {
          "symbol": "circle"
         },
         "mode": "lines",
         "name": "",
         "orientation": "v",
         "showlegend": false,
         "type": "scatter",
         "x": [
          "0",
          "1",
          "2",
          "3",
          "4",
          "5",
          "6"
         ],
         "xaxis": "x",
         "y": [
          14381.044183467135,
          12789.73632674638,
          15603.66960879789,
          14851.269452315557,
          14226.25454791922,
          15178.3568326614,
          13506.8102493075
         ],
         "yaxis": "y"
        }
       ],
       "layout": {
        "annotations": [
         {
          "showarrow": false,
          "text": "Average Price per Area: 14259.06",
          "x": 1,
          "xanchor": "right",
          "xref": "x domain",
          "y": 14259.062276717352,
          "yanchor": "bottom",
          "yref": "y"
         }
        ],
        "legend": {
         "tracegroupgap": 0
        },
        "shapes": [
         {
          "line": {
           "color": "red",
           "dash": "dash"
          },
          "type": "line",
          "x0": 0,
          "x1": 1,
          "xref": "x domain",
          "y0": 14259.062276717352,
          "y1": 14259.062276717352,
          "yref": "y"
         }
        ],
        "template": {
         "data": {
          "bar": [
           {
            "error_x": {
             "color": "#2a3f5f"
            },
            "error_y": {
             "color": "#2a3f5f"
            },
            "marker": {
             "line": {
              "color": "white",
              "width": 0.5
             },
             "pattern": {
              "fillmode": "overlay",
              "size": 10,
              "solidity": 0.2
             }
            },
            "type": "bar"
           }
          ],
          "barpolar": [
           {
            "marker": {
             "line": {
              "color": "white",
              "width": 0.5
             },
             "pattern": {
              "fillmode": "overlay",
              "size": 10,
              "solidity": 0.2
             }
            },
            "type": "barpolar"
           }
          ],
          "carpet": [
           {
            "aaxis": {
             "endlinecolor": "#2a3f5f",
             "gridcolor": "#C8D4E3",
             "linecolor": "#C8D4E3",
             "minorgridcolor": "#C8D4E3",
             "startlinecolor": "#2a3f5f"
            },
            "baxis": {
             "endlinecolor": "#2a3f5f",
             "gridcolor": "#C8D4E3",
             "linecolor": "#C8D4E3",
             "minorgridcolor": "#C8D4E3",
             "startlinecolor": "#2a3f5f"
            },
            "type": "carpet"
           }
          ],
          "choropleth": [
           {
            "colorbar": {
             "outlinewidth": 0,
             "ticks": ""
            },
            "type": "choropleth"
           }
          ],
          "contour": [
           {
            "colorbar": {
             "outlinewidth": 0,
             "ticks": ""
            },
            "colorscale": [
             [
              0,
              "#0d0887"
             ],
             [
              0.1111111111111111,
              "#46039f"
             ],
             [
              0.2222222222222222,
              "#7201a8"
             ],
             [
              0.3333333333333333,
              "#9c179e"
             ],
             [
              0.4444444444444444,
              "#bd3786"
             ],
             [
              0.5555555555555556,
              "#d8576b"
             ],
             [
              0.6666666666666666,
              "#ed7953"
             ],
             [
              0.7777777777777778,
              "#fb9f3a"
             ],
             [
              0.8888888888888888,
              "#fdca26"
             ],
             [
              1,
              "#f0f921"
             ]
            ],
            "type": "contour"
           }
          ],
          "contourcarpet": [
           {
            "colorbar": {
             "outlinewidth": 0,
             "ticks": ""
            },
            "type": "contourcarpet"
           }
          ],
          "heatmap": [
           {
            "colorbar": {
             "outlinewidth": 0,
             "ticks": ""
            },
            "colorscale": [
             [
              0,
              "#0d0887"
             ],
             [
              0.1111111111111111,
              "#46039f"
             ],
             [
              0.2222222222222222,
              "#7201a8"
             ],
             [
              0.3333333333333333,
              "#9c179e"
             ],
             [
              0.4444444444444444,
              "#bd3786"
             ],
             [
              0.5555555555555556,
              "#d8576b"
             ],
             [
              0.6666666666666666,
              "#ed7953"
             ],
             [
              0.7777777777777778,
              "#fb9f3a"
             ],
             [
              0.8888888888888888,
              "#fdca26"
             ],
             [
              1,
              "#f0f921"
             ]
            ],
            "type": "heatmap"
           }
          ],
          "heatmapgl": [
           {
            "colorbar": {
             "outlinewidth": 0,
             "ticks": ""
            },
            "colorscale": [
             [
              0,
              "#0d0887"
             ],
             [
              0.1111111111111111,
              "#46039f"
             ],
             [
              0.2222222222222222,
              "#7201a8"
             ],
             [
              0.3333333333333333,
              "#9c179e"
             ],
             [
              0.4444444444444444,
              "#bd3786"
             ],
             [
              0.5555555555555556,
              "#d8576b"
             ],
             [
              0.6666666666666666,
              "#ed7953"
             ],
             [
              0.7777777777777778,
              "#fb9f3a"
             ],
             [
              0.8888888888888888,
              "#fdca26"
             ],
             [
              1,
              "#f0f921"
             ]
            ],
            "type": "heatmapgl"
           }
          ],
          "histogram": [
           {
            "marker": {
             "pattern": {
              "fillmode": "overlay",
              "size": 10,
              "solidity": 0.2
             }
            },
            "type": "histogram"
           }
          ],
          "histogram2d": [
           {
            "colorbar": {
             "outlinewidth": 0,
             "ticks": ""
            },
            "colorscale": [
             [
              0,
              "#0d0887"
             ],
             [
              0.1111111111111111,
              "#46039f"
             ],
             [
              0.2222222222222222,
              "#7201a8"
             ],
             [
              0.3333333333333333,
              "#9c179e"
             ],
             [
              0.4444444444444444,
              "#bd3786"
             ],
             [
              0.5555555555555556,
              "#d8576b"
             ],
             [
              0.6666666666666666,
              "#ed7953"
             ],
             [
              0.7777777777777778,
              "#fb9f3a"
             ],
             [
              0.8888888888888888,
              "#fdca26"
             ],
             [
              1,
              "#f0f921"
             ]
            ],
            "type": "histogram2d"
           }
          ],
          "histogram2dcontour": [
           {
            "colorbar": {
             "outlinewidth": 0,
             "ticks": ""
            },
            "colorscale": [
             [
              0,
              "#0d0887"
             ],
             [
              0.1111111111111111,
              "#46039f"
             ],
             [
              0.2222222222222222,
              "#7201a8"
             ],
             [
              0.3333333333333333,
              "#9c179e"
             ],
             [
              0.4444444444444444,
              "#bd3786"
             ],
             [
              0.5555555555555556,
              "#d8576b"
             ],
             [
              0.6666666666666666,
              "#ed7953"
             ],
             [
              0.7777777777777778,
              "#fb9f3a"
             ],
             [
              0.8888888888888888,
              "#fdca26"
             ],
             [
              1,
              "#f0f921"
             ]
            ],
            "type": "histogram2dcontour"
           }
          ],
          "mesh3d": [
           {
            "colorbar": {
             "outlinewidth": 0,
             "ticks": ""
            },
            "type": "mesh3d"
           }
          ],
          "parcoords": [
           {
            "line": {
             "colorbar": {
              "outlinewidth": 0,
              "ticks": ""
             }
            },
            "type": "parcoords"
           }
          ],
          "pie": [
           {
            "automargin": true,
            "type": "pie"
           }
          ],
          "scatter": [
           {
            "fillpattern": {
             "fillmode": "overlay",
             "size": 10,
             "solidity": 0.2
            },
            "type": "scatter"
           }
          ],
          "scatter3d": [
           {
            "line": {
             "colorbar": {
              "outlinewidth": 0,
              "ticks": ""
             }
            },
            "marker": {
             "colorbar": {
              "outlinewidth": 0,
              "ticks": ""
             }
            },
            "type": "scatter3d"
           }
          ],
          "scattercarpet": [
           {
            "marker": {
             "colorbar": {
              "outlinewidth": 0,
              "ticks": ""
             }
            },
            "type": "scattercarpet"
           }
          ],
          "scattergeo": [
           {
            "marker": {
             "colorbar": {
              "outlinewidth": 0,
              "ticks": ""
             }
            },
            "type": "scattergeo"
           }
          ],
          "scattergl": [
           {
            "marker": {
             "colorbar": {
              "outlinewidth": 0,
              "ticks": ""
             }
            },
            "type": "scattergl"
           }
          ],
          "scattermapbox": [
           {
            "marker": {
             "colorbar": {
              "outlinewidth": 0,
              "ticks": ""
             }
            },
            "type": "scattermapbox"
           }
          ],
          "scatterpolar": [
           {
            "marker": {
             "colorbar": {
              "outlinewidth": 0,
              "ticks": ""
             }
            },
            "type": "scatterpolar"
           }
          ],
          "scatterpolargl": [
           {
            "marker": {
             "colorbar": {
              "outlinewidth": 0,
              "ticks": ""
             }
            },
            "type": "scatterpolargl"
           }
          ],
          "scatterternary": [
           {
            "marker": {
             "colorbar": {
              "outlinewidth": 0,
              "ticks": ""
             }
            },
            "type": "scatterternary"
           }
          ],
          "surface": [
           {
            "colorbar": {
             "outlinewidth": 0,
             "ticks": ""
            },
            "colorscale": [
             [
              0,
              "#0d0887"
             ],
             [
              0.1111111111111111,
              "#46039f"
             ],
             [
              0.2222222222222222,
              "#7201a8"
             ],
             [
              0.3333333333333333,
              "#9c179e"
             ],
             [
              0.4444444444444444,
              "#bd3786"
             ],
             [
              0.5555555555555556,
              "#d8576b"
             ],
             [
              0.6666666666666666,
              "#ed7953"
             ],
             [
              0.7777777777777778,
              "#fb9f3a"
             ],
             [
              0.8888888888888888,
              "#fdca26"
             ],
             [
              1,
              "#f0f921"
             ]
            ],
            "type": "surface"
           }
          ],
          "table": [
           {
            "cells": {
             "fill": {
              "color": "#EBF0F8"
             },
             "line": {
              "color": "white"
             }
            },
            "header": {
             "fill": {
              "color": "#C8D4E3"
             },
             "line": {
              "color": "white"
             }
            },
            "type": "table"
           }
          ]
         },
         "layout": {
          "annotationdefaults": {
           "arrowcolor": "#2a3f5f",
           "arrowhead": 0,
           "arrowwidth": 1
          },
          "autotypenumbers": "strict",
          "coloraxis": {
           "colorbar": {
            "outlinewidth": 0,
            "ticks": ""
           }
          },
          "colorscale": {
           "diverging": [
            [
             0,
             "#8e0152"
            ],
            [
             0.1,
             "#c51b7d"
            ],
            [
             0.2,
             "#de77ae"
            ],
            [
             0.3,
             "#f1b6da"
            ],
            [
             0.4,
             "#fde0ef"
            ],
            [
             0.5,
             "#f7f7f7"
            ],
            [
             0.6,
             "#e6f5d0"
            ],
            [
             0.7,
             "#b8e186"
            ],
            [
             0.8,
             "#7fbc41"
            ],
            [
             0.9,
             "#4d9221"
            ],
            [
             1,
             "#276419"
            ]
           ],
           "sequential": [
            [
             0,
             "#0d0887"
            ],
            [
             0.1111111111111111,
             "#46039f"
            ],
            [
             0.2222222222222222,
             "#7201a8"
            ],
            [
             0.3333333333333333,
             "#9c179e"
            ],
            [
             0.4444444444444444,
             "#bd3786"
            ],
            [
             0.5555555555555556,
             "#d8576b"
            ],
            [
             0.6666666666666666,
             "#ed7953"
            ],
            [
             0.7777777777777778,
             "#fb9f3a"
            ],
            [
             0.8888888888888888,
             "#fdca26"
            ],
            [
             1,
             "#f0f921"
            ]
           ],
           "sequentialminus": [
            [
             0,
             "#0d0887"
            ],
            [
             0.1111111111111111,
             "#46039f"
            ],
            [
             0.2222222222222222,
             "#7201a8"
            ],
            [
             0.3333333333333333,
             "#9c179e"
            ],
            [
             0.4444444444444444,
             "#bd3786"
            ],
            [
             0.5555555555555556,
             "#d8576b"
            ],
            [
             0.6666666666666666,
             "#ed7953"
            ],
            [
             0.7777777777777778,
             "#fb9f3a"
            ],
            [
             0.8888888888888888,
             "#fdca26"
            ],
            [
             1,
             "#f0f921"
            ]
           ]
          },
          "colorway": [
           "#636efa",
           "#EF553B",
           "#00cc96",
           "#ab63fa",
           "#FFA15A",
           "#19d3f3",
           "#FF6692",
           "#B6E880",
           "#FF97FF",
           "#FECB52"
          ],
          "font": {
           "color": "#2a3f5f"
          },
          "geo": {
           "bgcolor": "white",
           "lakecolor": "white",
           "landcolor": "white",
           "showlakes": true,
           "showland": true,
           "subunitcolor": "#C8D4E3"
          },
          "hoverlabel": {
           "align": "left"
          },
          "hovermode": "closest",
          "mapbox": {
           "style": "light"
          },
          "paper_bgcolor": "white",
          "plot_bgcolor": "white",
          "polar": {
           "angularaxis": {
            "gridcolor": "#EBF0F8",
            "linecolor": "#EBF0F8",
            "ticks": ""
           },
           "bgcolor": "white",
           "radialaxis": {
            "gridcolor": "#EBF0F8",
            "linecolor": "#EBF0F8",
            "ticks": ""
           }
          },
          "scene": {
           "xaxis": {
            "backgroundcolor": "white",
            "gridcolor": "#DFE8F3",
            "gridwidth": 2,
            "linecolor": "#EBF0F8",
            "showbackground": true,
            "ticks": "",
            "zerolinecolor": "#EBF0F8"
           },
           "yaxis": {
            "backgroundcolor": "white",
            "gridcolor": "#DFE8F3",
            "gridwidth": 2,
            "linecolor": "#EBF0F8",
            "showbackground": true,
            "ticks": "",
            "zerolinecolor": "#EBF0F8"
           },
           "zaxis": {
            "backgroundcolor": "white",
            "gridcolor": "#DFE8F3",
            "gridwidth": 2,
            "linecolor": "#EBF0F8",
            "showbackground": true,
            "ticks": "",
            "zerolinecolor": "#EBF0F8"
           }
          },
          "shapedefaults": {
           "line": {
            "color": "#2a3f5f"
           }
          },
          "ternary": {
           "aaxis": {
            "gridcolor": "#DFE8F3",
            "linecolor": "#A2B1C6",
            "ticks": ""
           },
           "baxis": {
            "gridcolor": "#DFE8F3",
            "linecolor": "#A2B1C6",
            "ticks": ""
           },
           "bgcolor": "white",
           "caxis": {
            "gridcolor": "#DFE8F3",
            "linecolor": "#A2B1C6",
            "ticks": ""
           }
          },
          "title": {
           "x": 0.05
          },
          "xaxis": {
           "automargin": true,
           "gridcolor": "#EBF0F8",
           "linecolor": "#EBF0F8",
           "ticks": "",
           "title": {
            "standoff": 15
           },
           "zerolinecolor": "#EBF0F8",
           "zerolinewidth": 2
          },
          "yaxis": {
           "automargin": true,
           "gridcolor": "#EBF0F8",
           "linecolor": "#EBF0F8",
           "ticks": "",
           "title": {
            "standoff": 15
           },
           "zerolinecolor": "#EBF0F8",
           "zerolinewidth": 2
          }
         }
        },
        "title": {
         "text": "Average Price per Area by semesters_listed"
        },
        "xaxis": {
         "anchor": "y",
         "domain": [
          0,
          1
         ],
         "title": {
          "text": "x"
         },
         "type": "category"
        },
        "yaxis": {
         "anchor": "x",
         "domain": [
          0,
          1
         ],
         "title": {
          "text": "mean"
         }
        }
       }
      }
     },
     "metadata": {},
     "output_type": "display_data"
    }
   ],
   "source": [
    "calculate_average_price_per_area_with_margin(beira_mar_listings, \"semesters_listed\")"
   ]
  },
  {
   "cell_type": "code",
   "execution_count": 189,
   "metadata": {},
   "outputs": [
    {
     "name": "stdout",
     "output_type": "stream",
     "text": [
      "category\n"
     ]
    },
    {
     "name": "stderr",
     "output_type": "stream",
     "text": [
      "C:\\Users\\Public\\Documents\\Wondershare\\CreatorTemp\\ipykernel_15680\\745169158.py:5: FutureWarning:\n",
      "\n",
      "The default of observed=False is deprecated and will be changed to True in a future version of pandas. Pass observed=False to retain current behavior or observed=True to adopt the future default and silence this warning.\n",
      "\n"
     ]
    },
    {
     "data": {
      "text/html": [
       "<div>\n",
       "<style scoped>\n",
       "    .dataframe tbody tr th:only-of-type {\n",
       "        vertical-align: middle;\n",
       "    }\n",
       "\n",
       "    .dataframe tbody tr th {\n",
       "        vertical-align: top;\n",
       "    }\n",
       "\n",
       "    .dataframe thead th {\n",
       "        text-align: right;\n",
       "    }\n",
       "</style>\n",
       "<table border=\"1\" class=\"dataframe\">\n",
       "  <thead>\n",
       "    <tr style=\"text-align: right;\">\n",
       "      <th></th>\n",
       "      <th>mean</th>\n",
       "      <th>std</th>\n",
       "      <th>count</th>\n",
       "      <th>sem</th>\n",
       "      <th>z_score</th>\n",
       "      <th>moe</th>\n",
       "    </tr>\n",
       "    <tr>\n",
       "      <th>total_area_m2_quartiles</th>\n",
       "      <th></th>\n",
       "      <th></th>\n",
       "      <th></th>\n",
       "      <th></th>\n",
       "      <th></th>\n",
       "      <th></th>\n",
       "    </tr>\n",
       "  </thead>\n",
       "  <tbody>\n",
       "    <tr>\n",
       "      <th>(28.999, 65.0]</th>\n",
       "      <td>11708.884861</td>\n",
       "      <td>3938.302108</td>\n",
       "      <td>87</td>\n",
       "      <td>422.230306</td>\n",
       "      <td>1.987934</td>\n",
       "      <td>839.366067</td>\n",
       "    </tr>\n",
       "    <tr>\n",
       "      <th>(65.0, 220.0]</th>\n",
       "      <td>16536.482926</td>\n",
       "      <td>6190.261135</td>\n",
       "      <td>91</td>\n",
       "      <td>648.915688</td>\n",
       "      <td>1.986675</td>\n",
       "      <td>1289.184277</td>\n",
       "    </tr>\n",
       "    <tr>\n",
       "      <th>(220.0, 335.0]</th>\n",
       "      <td>13411.687992</td>\n",
       "      <td>2554.389841</td>\n",
       "      <td>79</td>\n",
       "      <td>287.391310</td>\n",
       "      <td>1.990847</td>\n",
       "      <td>572.152148</td>\n",
       "    </tr>\n",
       "    <tr>\n",
       "      <th>(335.0, 560.0]</th>\n",
       "      <td>15207.466051</td>\n",
       "      <td>5103.064599</td>\n",
       "      <td>86</td>\n",
       "      <td>550.277608</td>\n",
       "      <td>1.988268</td>\n",
       "      <td>1094.099307</td>\n",
       "    </tr>\n",
       "  </tbody>\n",
       "</table>\n",
       "</div>"
      ],
      "text/plain": [
       "                                 mean          std  count         sem  \\\n",
       "total_area_m2_quartiles                                                 \n",
       "(28.999, 65.0]           11708.884861  3938.302108     87  422.230306   \n",
       "(65.0, 220.0]            16536.482926  6190.261135     91  648.915688   \n",
       "(220.0, 335.0]           13411.687992  2554.389841     79  287.391310   \n",
       "(335.0, 560.0]           15207.466051  5103.064599     86  550.277608   \n",
       "\n",
       "                          z_score          moe  \n",
       "total_area_m2_quartiles                         \n",
       "(28.999, 65.0]           1.987934   839.366067  \n",
       "(65.0, 220.0]            1.986675  1289.184277  \n",
       "(220.0, 335.0]           1.990847   572.152148  \n",
       "(335.0, 560.0]           1.988268  1094.099307  "
      ]
     },
     "metadata": {},
     "output_type": "display_data"
    },
    {
     "data": {
      "application/vnd.plotly.v1+json": {
       "config": {
        "plotlyServerURL": "https://plot.ly"
       },
       "data": [
        {
         "error_y": {
          "array": [
           839.366067439811,
           1289.1842771433721,
           572.1521480453571,
           1094.0993073589545
          ]
         },
         "hovertemplate": "x=%{x}<br>mean=%{y}<extra></extra>",
         "legendgroup": "",
         "line": {
          "color": "#636efa",
          "dash": "solid"
         },
         "marker": {
          "symbol": "circle"
         },
         "mode": "lines",
         "name": "",
         "orientation": "v",
         "showlegend": false,
         "type": "scatter",
         "x": [
          "(28.999, 65.0]",
          "(65.0, 220.0]",
          "(220.0, 335.0]",
          "(335.0, 560.0]"
         ],
         "xaxis": "x",
         "y": [
          11708.88486111532,
          16536.482925773875,
          13411.687992457366,
          15207.466050551906
         ],
         "yaxis": "y"
        }
       ],
       "layout": {
        "annotations": [
         {
          "showarrow": false,
          "text": "Average Price per Area: 14259.06",
          "x": 1,
          "xanchor": "right",
          "xref": "x domain",
          "y": 14259.062276717352,
          "yanchor": "bottom",
          "yref": "y"
         }
        ],
        "legend": {
         "tracegroupgap": 0
        },
        "shapes": [
         {
          "line": {
           "color": "red",
           "dash": "dash"
          },
          "type": "line",
          "x0": 0,
          "x1": 1,
          "xref": "x domain",
          "y0": 14259.062276717352,
          "y1": 14259.062276717352,
          "yref": "y"
         }
        ],
        "template": {
         "data": {
          "bar": [
           {
            "error_x": {
             "color": "#2a3f5f"
            },
            "error_y": {
             "color": "#2a3f5f"
            },
            "marker": {
             "line": {
              "color": "white",
              "width": 0.5
             },
             "pattern": {
              "fillmode": "overlay",
              "size": 10,
              "solidity": 0.2
             }
            },
            "type": "bar"
           }
          ],
          "barpolar": [
           {
            "marker": {
             "line": {
              "color": "white",
              "width": 0.5
             },
             "pattern": {
              "fillmode": "overlay",
              "size": 10,
              "solidity": 0.2
             }
            },
            "type": "barpolar"
           }
          ],
          "carpet": [
           {
            "aaxis": {
             "endlinecolor": "#2a3f5f",
             "gridcolor": "#C8D4E3",
             "linecolor": "#C8D4E3",
             "minorgridcolor": "#C8D4E3",
             "startlinecolor": "#2a3f5f"
            },
            "baxis": {
             "endlinecolor": "#2a3f5f",
             "gridcolor": "#C8D4E3",
             "linecolor": "#C8D4E3",
             "minorgridcolor": "#C8D4E3",
             "startlinecolor": "#2a3f5f"
            },
            "type": "carpet"
           }
          ],
          "choropleth": [
           {
            "colorbar": {
             "outlinewidth": 0,
             "ticks": ""
            },
            "type": "choropleth"
           }
          ],
          "contour": [
           {
            "colorbar": {
             "outlinewidth": 0,
             "ticks": ""
            },
            "colorscale": [
             [
              0,
              "#0d0887"
             ],
             [
              0.1111111111111111,
              "#46039f"
             ],
             [
              0.2222222222222222,
              "#7201a8"
             ],
             [
              0.3333333333333333,
              "#9c179e"
             ],
             [
              0.4444444444444444,
              "#bd3786"
             ],
             [
              0.5555555555555556,
              "#d8576b"
             ],
             [
              0.6666666666666666,
              "#ed7953"
             ],
             [
              0.7777777777777778,
              "#fb9f3a"
             ],
             [
              0.8888888888888888,
              "#fdca26"
             ],
             [
              1,
              "#f0f921"
             ]
            ],
            "type": "contour"
           }
          ],
          "contourcarpet": [
           {
            "colorbar": {
             "outlinewidth": 0,
             "ticks": ""
            },
            "type": "contourcarpet"
           }
          ],
          "heatmap": [
           {
            "colorbar": {
             "outlinewidth": 0,
             "ticks": ""
            },
            "colorscale": [
             [
              0,
              "#0d0887"
             ],
             [
              0.1111111111111111,
              "#46039f"
             ],
             [
              0.2222222222222222,
              "#7201a8"
             ],
             [
              0.3333333333333333,
              "#9c179e"
             ],
             [
              0.4444444444444444,
              "#bd3786"
             ],
             [
              0.5555555555555556,
              "#d8576b"
             ],
             [
              0.6666666666666666,
              "#ed7953"
             ],
             [
              0.7777777777777778,
              "#fb9f3a"
             ],
             [
              0.8888888888888888,
              "#fdca26"
             ],
             [
              1,
              "#f0f921"
             ]
            ],
            "type": "heatmap"
           }
          ],
          "heatmapgl": [
           {
            "colorbar": {
             "outlinewidth": 0,
             "ticks": ""
            },
            "colorscale": [
             [
              0,
              "#0d0887"
             ],
             [
              0.1111111111111111,
              "#46039f"
             ],
             [
              0.2222222222222222,
              "#7201a8"
             ],
             [
              0.3333333333333333,
              "#9c179e"
             ],
             [
              0.4444444444444444,
              "#bd3786"
             ],
             [
              0.5555555555555556,
              "#d8576b"
             ],
             [
              0.6666666666666666,
              "#ed7953"
             ],
             [
              0.7777777777777778,
              "#fb9f3a"
             ],
             [
              0.8888888888888888,
              "#fdca26"
             ],
             [
              1,
              "#f0f921"
             ]
            ],
            "type": "heatmapgl"
           }
          ],
          "histogram": [
           {
            "marker": {
             "pattern": {
              "fillmode": "overlay",
              "size": 10,
              "solidity": 0.2
             }
            },
            "type": "histogram"
           }
          ],
          "histogram2d": [
           {
            "colorbar": {
             "outlinewidth": 0,
             "ticks": ""
            },
            "colorscale": [
             [
              0,
              "#0d0887"
             ],
             [
              0.1111111111111111,
              "#46039f"
             ],
             [
              0.2222222222222222,
              "#7201a8"
             ],
             [
              0.3333333333333333,
              "#9c179e"
             ],
             [
              0.4444444444444444,
              "#bd3786"
             ],
             [
              0.5555555555555556,
              "#d8576b"
             ],
             [
              0.6666666666666666,
              "#ed7953"
             ],
             [
              0.7777777777777778,
              "#fb9f3a"
             ],
             [
              0.8888888888888888,
              "#fdca26"
             ],
             [
              1,
              "#f0f921"
             ]
            ],
            "type": "histogram2d"
           }
          ],
          "histogram2dcontour": [
           {
            "colorbar": {
             "outlinewidth": 0,
             "ticks": ""
            },
            "colorscale": [
             [
              0,
              "#0d0887"
             ],
             [
              0.1111111111111111,
              "#46039f"
             ],
             [
              0.2222222222222222,
              "#7201a8"
             ],
             [
              0.3333333333333333,
              "#9c179e"
             ],
             [
              0.4444444444444444,
              "#bd3786"
             ],
             [
              0.5555555555555556,
              "#d8576b"
             ],
             [
              0.6666666666666666,
              "#ed7953"
             ],
             [
              0.7777777777777778,
              "#fb9f3a"
             ],
             [
              0.8888888888888888,
              "#fdca26"
             ],
             [
              1,
              "#f0f921"
             ]
            ],
            "type": "histogram2dcontour"
           }
          ],
          "mesh3d": [
           {
            "colorbar": {
             "outlinewidth": 0,
             "ticks": ""
            },
            "type": "mesh3d"
           }
          ],
          "parcoords": [
           {
            "line": {
             "colorbar": {
              "outlinewidth": 0,
              "ticks": ""
             }
            },
            "type": "parcoords"
           }
          ],
          "pie": [
           {
            "automargin": true,
            "type": "pie"
           }
          ],
          "scatter": [
           {
            "fillpattern": {
             "fillmode": "overlay",
             "size": 10,
             "solidity": 0.2
            },
            "type": "scatter"
           }
          ],
          "scatter3d": [
           {
            "line": {
             "colorbar": {
              "outlinewidth": 0,
              "ticks": ""
             }
            },
            "marker": {
             "colorbar": {
              "outlinewidth": 0,
              "ticks": ""
             }
            },
            "type": "scatter3d"
           }
          ],
          "scattercarpet": [
           {
            "marker": {
             "colorbar": {
              "outlinewidth": 0,
              "ticks": ""
             }
            },
            "type": "scattercarpet"
           }
          ],
          "scattergeo": [
           {
            "marker": {
             "colorbar": {
              "outlinewidth": 0,
              "ticks": ""
             }
            },
            "type": "scattergeo"
           }
          ],
          "scattergl": [
           {
            "marker": {
             "colorbar": {
              "outlinewidth": 0,
              "ticks": ""
             }
            },
            "type": "scattergl"
           }
          ],
          "scattermapbox": [
           {
            "marker": {
             "colorbar": {
              "outlinewidth": 0,
              "ticks": ""
             }
            },
            "type": "scattermapbox"
           }
          ],
          "scatterpolar": [
           {
            "marker": {
             "colorbar": {
              "outlinewidth": 0,
              "ticks": ""
             }
            },
            "type": "scatterpolar"
           }
          ],
          "scatterpolargl": [
           {
            "marker": {
             "colorbar": {
              "outlinewidth": 0,
              "ticks": ""
             }
            },
            "type": "scatterpolargl"
           }
          ],
          "scatterternary": [
           {
            "marker": {
             "colorbar": {
              "outlinewidth": 0,
              "ticks": ""
             }
            },
            "type": "scatterternary"
           }
          ],
          "surface": [
           {
            "colorbar": {
             "outlinewidth": 0,
             "ticks": ""
            },
            "colorscale": [
             [
              0,
              "#0d0887"
             ],
             [
              0.1111111111111111,
              "#46039f"
             ],
             [
              0.2222222222222222,
              "#7201a8"
             ],
             [
              0.3333333333333333,
              "#9c179e"
             ],
             [
              0.4444444444444444,
              "#bd3786"
             ],
             [
              0.5555555555555556,
              "#d8576b"
             ],
             [
              0.6666666666666666,
              "#ed7953"
             ],
             [
              0.7777777777777778,
              "#fb9f3a"
             ],
             [
              0.8888888888888888,
              "#fdca26"
             ],
             [
              1,
              "#f0f921"
             ]
            ],
            "type": "surface"
           }
          ],
          "table": [
           {
            "cells": {
             "fill": {
              "color": "#EBF0F8"
             },
             "line": {
              "color": "white"
             }
            },
            "header": {
             "fill": {
              "color": "#C8D4E3"
             },
             "line": {
              "color": "white"
             }
            },
            "type": "table"
           }
          ]
         },
         "layout": {
          "annotationdefaults": {
           "arrowcolor": "#2a3f5f",
           "arrowhead": 0,
           "arrowwidth": 1
          },
          "autotypenumbers": "strict",
          "coloraxis": {
           "colorbar": {
            "outlinewidth": 0,
            "ticks": ""
           }
          },
          "colorscale": {
           "diverging": [
            [
             0,
             "#8e0152"
            ],
            [
             0.1,
             "#c51b7d"
            ],
            [
             0.2,
             "#de77ae"
            ],
            [
             0.3,
             "#f1b6da"
            ],
            [
             0.4,
             "#fde0ef"
            ],
            [
             0.5,
             "#f7f7f7"
            ],
            [
             0.6,
             "#e6f5d0"
            ],
            [
             0.7,
             "#b8e186"
            ],
            [
             0.8,
             "#7fbc41"
            ],
            [
             0.9,
             "#4d9221"
            ],
            [
             1,
             "#276419"
            ]
           ],
           "sequential": [
            [
             0,
             "#0d0887"
            ],
            [
             0.1111111111111111,
             "#46039f"
            ],
            [
             0.2222222222222222,
             "#7201a8"
            ],
            [
             0.3333333333333333,
             "#9c179e"
            ],
            [
             0.4444444444444444,
             "#bd3786"
            ],
            [
             0.5555555555555556,
             "#d8576b"
            ],
            [
             0.6666666666666666,
             "#ed7953"
            ],
            [
             0.7777777777777778,
             "#fb9f3a"
            ],
            [
             0.8888888888888888,
             "#fdca26"
            ],
            [
             1,
             "#f0f921"
            ]
           ],
           "sequentialminus": [
            [
             0,
             "#0d0887"
            ],
            [
             0.1111111111111111,
             "#46039f"
            ],
            [
             0.2222222222222222,
             "#7201a8"
            ],
            [
             0.3333333333333333,
             "#9c179e"
            ],
            [
             0.4444444444444444,
             "#bd3786"
            ],
            [
             0.5555555555555556,
             "#d8576b"
            ],
            [
             0.6666666666666666,
             "#ed7953"
            ],
            [
             0.7777777777777778,
             "#fb9f3a"
            ],
            [
             0.8888888888888888,
             "#fdca26"
            ],
            [
             1,
             "#f0f921"
            ]
           ]
          },
          "colorway": [
           "#636efa",
           "#EF553B",
           "#00cc96",
           "#ab63fa",
           "#FFA15A",
           "#19d3f3",
           "#FF6692",
           "#B6E880",
           "#FF97FF",
           "#FECB52"
          ],
          "font": {
           "color": "#2a3f5f"
          },
          "geo": {
           "bgcolor": "white",
           "lakecolor": "white",
           "landcolor": "white",
           "showlakes": true,
           "showland": true,
           "subunitcolor": "#C8D4E3"
          },
          "hoverlabel": {
           "align": "left"
          },
          "hovermode": "closest",
          "mapbox": {
           "style": "light"
          },
          "paper_bgcolor": "white",
          "plot_bgcolor": "white",
          "polar": {
           "angularaxis": {
            "gridcolor": "#EBF0F8",
            "linecolor": "#EBF0F8",
            "ticks": ""
           },
           "bgcolor": "white",
           "radialaxis": {
            "gridcolor": "#EBF0F8",
            "linecolor": "#EBF0F8",
            "ticks": ""
           }
          },
          "scene": {
           "xaxis": {
            "backgroundcolor": "white",
            "gridcolor": "#DFE8F3",
            "gridwidth": 2,
            "linecolor": "#EBF0F8",
            "showbackground": true,
            "ticks": "",
            "zerolinecolor": "#EBF0F8"
           },
           "yaxis": {
            "backgroundcolor": "white",
            "gridcolor": "#DFE8F3",
            "gridwidth": 2,
            "linecolor": "#EBF0F8",
            "showbackground": true,
            "ticks": "",
            "zerolinecolor": "#EBF0F8"
           },
           "zaxis": {
            "backgroundcolor": "white",
            "gridcolor": "#DFE8F3",
            "gridwidth": 2,
            "linecolor": "#EBF0F8",
            "showbackground": true,
            "ticks": "",
            "zerolinecolor": "#EBF0F8"
           }
          },
          "shapedefaults": {
           "line": {
            "color": "#2a3f5f"
           }
          },
          "ternary": {
           "aaxis": {
            "gridcolor": "#DFE8F3",
            "linecolor": "#A2B1C6",
            "ticks": ""
           },
           "baxis": {
            "gridcolor": "#DFE8F3",
            "linecolor": "#A2B1C6",
            "ticks": ""
           },
           "bgcolor": "white",
           "caxis": {
            "gridcolor": "#DFE8F3",
            "linecolor": "#A2B1C6",
            "ticks": ""
           }
          },
          "title": {
           "x": 0.05
          },
          "xaxis": {
           "automargin": true,
           "gridcolor": "#EBF0F8",
           "linecolor": "#EBF0F8",
           "ticks": "",
           "title": {
            "standoff": 15
           },
           "zerolinecolor": "#EBF0F8",
           "zerolinewidth": 2
          },
          "yaxis": {
           "automargin": true,
           "gridcolor": "#EBF0F8",
           "linecolor": "#EBF0F8",
           "ticks": "",
           "title": {
            "standoff": 15
           },
           "zerolinecolor": "#EBF0F8",
           "zerolinewidth": 2
          }
         }
        },
        "title": {
         "text": "Average Price per Area by total_area_m2_quartiles"
        },
        "xaxis": {
         "anchor": "y",
         "domain": [
          0,
          1
         ],
         "title": {
          "text": "x"
         },
         "type": "category"
        },
        "yaxis": {
         "anchor": "x",
         "domain": [
          0,
          1
         ],
         "title": {
          "text": "mean"
         }
        }
       }
      }
     },
     "metadata": {},
     "output_type": "display_data"
    }
   ],
   "source": [
    "calculate_average_price_per_area_with_margin(\n",
    "    beira_mar_listings, \"total_area_m2_quartiles\"\n",
    ")"
   ]
  },
  {
   "cell_type": "code",
   "execution_count": 190,
   "metadata": {},
   "outputs": [
    {
     "name": "stdout",
     "output_type": "stream",
     "text": [
      "category\n"
     ]
    },
    {
     "name": "stderr",
     "output_type": "stream",
     "text": [
      "C:\\Users\\Public\\Documents\\Wondershare\\CreatorTemp\\ipykernel_15680\\745169158.py:5: FutureWarning:\n",
      "\n",
      "The default of observed=False is deprecated and will be changed to True in a future version of pandas. Pass observed=False to retain current behavior or observed=True to adopt the future default and silence this warning.\n",
      "\n"
     ]
    },
    {
     "data": {
      "text/html": [
       "<div>\n",
       "<style scoped>\n",
       "    .dataframe tbody tr th:only-of-type {\n",
       "        vertical-align: middle;\n",
       "    }\n",
       "\n",
       "    .dataframe tbody tr th {\n",
       "        vertical-align: top;\n",
       "    }\n",
       "\n",
       "    .dataframe thead th {\n",
       "        text-align: right;\n",
       "    }\n",
       "</style>\n",
       "<table border=\"1\" class=\"dataframe\">\n",
       "  <thead>\n",
       "    <tr style=\"text-align: right;\">\n",
       "      <th></th>\n",
       "      <th>mean</th>\n",
       "      <th>std</th>\n",
       "      <th>count</th>\n",
       "      <th>sem</th>\n",
       "      <th>z_score</th>\n",
       "      <th>moe</th>\n",
       "    </tr>\n",
       "    <tr>\n",
       "      <th>construction_year_quartiles</th>\n",
       "      <th></th>\n",
       "      <th></th>\n",
       "      <th></th>\n",
       "      <th></th>\n",
       "      <th></th>\n",
       "      <th></th>\n",
       "    </tr>\n",
       "  </thead>\n",
       "  <tbody>\n",
       "    <tr>\n",
       "      <th>(1972.999, 2000.0]</th>\n",
       "      <td>11033.206322</td>\n",
       "      <td>2240.871891</td>\n",
       "      <td>54</td>\n",
       "      <td>304.944039</td>\n",
       "      <td>2.005746</td>\n",
       "      <td>611.640286</td>\n",
       "    </tr>\n",
       "    <tr>\n",
       "      <th>(2000.0, 2007.0]</th>\n",
       "      <td>15923.174924</td>\n",
       "      <td>3457.651105</td>\n",
       "      <td>20</td>\n",
       "      <td>773.154291</td>\n",
       "      <td>2.093024</td>\n",
       "      <td>1618.230529</td>\n",
       "    </tr>\n",
       "    <tr>\n",
       "      <th>(2007.0, 2014.0]</th>\n",
       "      <td>19068.901989</td>\n",
       "      <td>5030.266857</td>\n",
       "      <td>35</td>\n",
       "      <td>850.270287</td>\n",
       "      <td>2.032245</td>\n",
       "      <td>1727.957123</td>\n",
       "    </tr>\n",
       "    <tr>\n",
       "      <th>(2014.0, 2024.0]</th>\n",
       "      <td>17634.483180</td>\n",
       "      <td>4034.203948</td>\n",
       "      <td>34</td>\n",
       "      <td>691.860269</td>\n",
       "      <td>2.034515</td>\n",
       "      <td>1407.600301</td>\n",
       "    </tr>\n",
       "  </tbody>\n",
       "</table>\n",
       "</div>"
      ],
      "text/plain": [
       "                                     mean          std  count         sem  \\\n",
       "construction_year_quartiles                                                 \n",
       "(1972.999, 2000.0]           11033.206322  2240.871891     54  304.944039   \n",
       "(2000.0, 2007.0]             15923.174924  3457.651105     20  773.154291   \n",
       "(2007.0, 2014.0]             19068.901989  5030.266857     35  850.270287   \n",
       "(2014.0, 2024.0]             17634.483180  4034.203948     34  691.860269   \n",
       "\n",
       "                              z_score          moe  \n",
       "construction_year_quartiles                         \n",
       "(1972.999, 2000.0]           2.005746   611.640286  \n",
       "(2000.0, 2007.0]             2.093024  1618.230529  \n",
       "(2007.0, 2014.0]             2.032245  1727.957123  \n",
       "(2014.0, 2024.0]             2.034515  1407.600301  "
      ]
     },
     "metadata": {},
     "output_type": "display_data"
    },
    {
     "data": {
      "application/vnd.plotly.v1+json": {
       "config": {
        "plotlyServerURL": "https://plot.ly"
       },
       "data": [
        {
         "error_y": {
          "array": [
           611.6402860075254,
           1618.2305293644322,
           1727.957122701537,
           1407.6003014375608
          ]
         },
         "hovertemplate": "x=%{x}<br>mean=%{y}<extra></extra>",
         "legendgroup": "",
         "line": {
          "color": "#636efa",
          "dash": "solid"
         },
         "marker": {
          "symbol": "circle"
         },
         "mode": "lines",
         "name": "",
         "orientation": "v",
         "showlegend": false,
         "type": "scatter",
         "x": [
          "(1972.999, 2000.0]",
          "(2000.0, 2007.0]",
          "(2007.0, 2014.0]",
          "(2014.0, 2024.0]"
         ],
         "xaxis": "x",
         "y": [
          11033.206322307362,
          15923.17492396772,
          19068.901988790283,
          17634.483179805386
         ],
         "yaxis": "y"
        }
       ],
       "layout": {
        "annotations": [
         {
          "showarrow": false,
          "text": "Average Price per Area: 14259.06",
          "x": 1,
          "xanchor": "right",
          "xref": "x domain",
          "y": 14259.062276717352,
          "yanchor": "bottom",
          "yref": "y"
         }
        ],
        "legend": {
         "tracegroupgap": 0
        },
        "shapes": [
         {
          "line": {
           "color": "red",
           "dash": "dash"
          },
          "type": "line",
          "x0": 0,
          "x1": 1,
          "xref": "x domain",
          "y0": 14259.062276717352,
          "y1": 14259.062276717352,
          "yref": "y"
         }
        ],
        "template": {
         "data": {
          "bar": [
           {
            "error_x": {
             "color": "#2a3f5f"
            },
            "error_y": {
             "color": "#2a3f5f"
            },
            "marker": {
             "line": {
              "color": "white",
              "width": 0.5
             },
             "pattern": {
              "fillmode": "overlay",
              "size": 10,
              "solidity": 0.2
             }
            },
            "type": "bar"
           }
          ],
          "barpolar": [
           {
            "marker": {
             "line": {
              "color": "white",
              "width": 0.5
             },
             "pattern": {
              "fillmode": "overlay",
              "size": 10,
              "solidity": 0.2
             }
            },
            "type": "barpolar"
           }
          ],
          "carpet": [
           {
            "aaxis": {
             "endlinecolor": "#2a3f5f",
             "gridcolor": "#C8D4E3",
             "linecolor": "#C8D4E3",
             "minorgridcolor": "#C8D4E3",
             "startlinecolor": "#2a3f5f"
            },
            "baxis": {
             "endlinecolor": "#2a3f5f",
             "gridcolor": "#C8D4E3",
             "linecolor": "#C8D4E3",
             "minorgridcolor": "#C8D4E3",
             "startlinecolor": "#2a3f5f"
            },
            "type": "carpet"
           }
          ],
          "choropleth": [
           {
            "colorbar": {
             "outlinewidth": 0,
             "ticks": ""
            },
            "type": "choropleth"
           }
          ],
          "contour": [
           {
            "colorbar": {
             "outlinewidth": 0,
             "ticks": ""
            },
            "colorscale": [
             [
              0,
              "#0d0887"
             ],
             [
              0.1111111111111111,
              "#46039f"
             ],
             [
              0.2222222222222222,
              "#7201a8"
             ],
             [
              0.3333333333333333,
              "#9c179e"
             ],
             [
              0.4444444444444444,
              "#bd3786"
             ],
             [
              0.5555555555555556,
              "#d8576b"
             ],
             [
              0.6666666666666666,
              "#ed7953"
             ],
             [
              0.7777777777777778,
              "#fb9f3a"
             ],
             [
              0.8888888888888888,
              "#fdca26"
             ],
             [
              1,
              "#f0f921"
             ]
            ],
            "type": "contour"
           }
          ],
          "contourcarpet": [
           {
            "colorbar": {
             "outlinewidth": 0,
             "ticks": ""
            },
            "type": "contourcarpet"
           }
          ],
          "heatmap": [
           {
            "colorbar": {
             "outlinewidth": 0,
             "ticks": ""
            },
            "colorscale": [
             [
              0,
              "#0d0887"
             ],
             [
              0.1111111111111111,
              "#46039f"
             ],
             [
              0.2222222222222222,
              "#7201a8"
             ],
             [
              0.3333333333333333,
              "#9c179e"
             ],
             [
              0.4444444444444444,
              "#bd3786"
             ],
             [
              0.5555555555555556,
              "#d8576b"
             ],
             [
              0.6666666666666666,
              "#ed7953"
             ],
             [
              0.7777777777777778,
              "#fb9f3a"
             ],
             [
              0.8888888888888888,
              "#fdca26"
             ],
             [
              1,
              "#f0f921"
             ]
            ],
            "type": "heatmap"
           }
          ],
          "heatmapgl": [
           {
            "colorbar": {
             "outlinewidth": 0,
             "ticks": ""
            },
            "colorscale": [
             [
              0,
              "#0d0887"
             ],
             [
              0.1111111111111111,
              "#46039f"
             ],
             [
              0.2222222222222222,
              "#7201a8"
             ],
             [
              0.3333333333333333,
              "#9c179e"
             ],
             [
              0.4444444444444444,
              "#bd3786"
             ],
             [
              0.5555555555555556,
              "#d8576b"
             ],
             [
              0.6666666666666666,
              "#ed7953"
             ],
             [
              0.7777777777777778,
              "#fb9f3a"
             ],
             [
              0.8888888888888888,
              "#fdca26"
             ],
             [
              1,
              "#f0f921"
             ]
            ],
            "type": "heatmapgl"
           }
          ],
          "histogram": [
           {
            "marker": {
             "pattern": {
              "fillmode": "overlay",
              "size": 10,
              "solidity": 0.2
             }
            },
            "type": "histogram"
           }
          ],
          "histogram2d": [
           {
            "colorbar": {
             "outlinewidth": 0,
             "ticks": ""
            },
            "colorscale": [
             [
              0,
              "#0d0887"
             ],
             [
              0.1111111111111111,
              "#46039f"
             ],
             [
              0.2222222222222222,
              "#7201a8"
             ],
             [
              0.3333333333333333,
              "#9c179e"
             ],
             [
              0.4444444444444444,
              "#bd3786"
             ],
             [
              0.5555555555555556,
              "#d8576b"
             ],
             [
              0.6666666666666666,
              "#ed7953"
             ],
             [
              0.7777777777777778,
              "#fb9f3a"
             ],
             [
              0.8888888888888888,
              "#fdca26"
             ],
             [
              1,
              "#f0f921"
             ]
            ],
            "type": "histogram2d"
           }
          ],
          "histogram2dcontour": [
           {
            "colorbar": {
             "outlinewidth": 0,
             "ticks": ""
            },
            "colorscale": [
             [
              0,
              "#0d0887"
             ],
             [
              0.1111111111111111,
              "#46039f"
             ],
             [
              0.2222222222222222,
              "#7201a8"
             ],
             [
              0.3333333333333333,
              "#9c179e"
             ],
             [
              0.4444444444444444,
              "#bd3786"
             ],
             [
              0.5555555555555556,
              "#d8576b"
             ],
             [
              0.6666666666666666,
              "#ed7953"
             ],
             [
              0.7777777777777778,
              "#fb9f3a"
             ],
             [
              0.8888888888888888,
              "#fdca26"
             ],
             [
              1,
              "#f0f921"
             ]
            ],
            "type": "histogram2dcontour"
           }
          ],
          "mesh3d": [
           {
            "colorbar": {
             "outlinewidth": 0,
             "ticks": ""
            },
            "type": "mesh3d"
           }
          ],
          "parcoords": [
           {
            "line": {
             "colorbar": {
              "outlinewidth": 0,
              "ticks": ""
             }
            },
            "type": "parcoords"
           }
          ],
          "pie": [
           {
            "automargin": true,
            "type": "pie"
           }
          ],
          "scatter": [
           {
            "fillpattern": {
             "fillmode": "overlay",
             "size": 10,
             "solidity": 0.2
            },
            "type": "scatter"
           }
          ],
          "scatter3d": [
           {
            "line": {
             "colorbar": {
              "outlinewidth": 0,
              "ticks": ""
             }
            },
            "marker": {
             "colorbar": {
              "outlinewidth": 0,
              "ticks": ""
             }
            },
            "type": "scatter3d"
           }
          ],
          "scattercarpet": [
           {
            "marker": {
             "colorbar": {
              "outlinewidth": 0,
              "ticks": ""
             }
            },
            "type": "scattercarpet"
           }
          ],
          "scattergeo": [
           {
            "marker": {
             "colorbar": {
              "outlinewidth": 0,
              "ticks": ""
             }
            },
            "type": "scattergeo"
           }
          ],
          "scattergl": [
           {
            "marker": {
             "colorbar": {
              "outlinewidth": 0,
              "ticks": ""
             }
            },
            "type": "scattergl"
           }
          ],
          "scattermapbox": [
           {
            "marker": {
             "colorbar": {
              "outlinewidth": 0,
              "ticks": ""
             }
            },
            "type": "scattermapbox"
           }
          ],
          "scatterpolar": [
           {
            "marker": {
             "colorbar": {
              "outlinewidth": 0,
              "ticks": ""
             }
            },
            "type": "scatterpolar"
           }
          ],
          "scatterpolargl": [
           {
            "marker": {
             "colorbar": {
              "outlinewidth": 0,
              "ticks": ""
             }
            },
            "type": "scatterpolargl"
           }
          ],
          "scatterternary": [
           {
            "marker": {
             "colorbar": {
              "outlinewidth": 0,
              "ticks": ""
             }
            },
            "type": "scatterternary"
           }
          ],
          "surface": [
           {
            "colorbar": {
             "outlinewidth": 0,
             "ticks": ""
            },
            "colorscale": [
             [
              0,
              "#0d0887"
             ],
             [
              0.1111111111111111,
              "#46039f"
             ],
             [
              0.2222222222222222,
              "#7201a8"
             ],
             [
              0.3333333333333333,
              "#9c179e"
             ],
             [
              0.4444444444444444,
              "#bd3786"
             ],
             [
              0.5555555555555556,
              "#d8576b"
             ],
             [
              0.6666666666666666,
              "#ed7953"
             ],
             [
              0.7777777777777778,
              "#fb9f3a"
             ],
             [
              0.8888888888888888,
              "#fdca26"
             ],
             [
              1,
              "#f0f921"
             ]
            ],
            "type": "surface"
           }
          ],
          "table": [
           {
            "cells": {
             "fill": {
              "color": "#EBF0F8"
             },
             "line": {
              "color": "white"
             }
            },
            "header": {
             "fill": {
              "color": "#C8D4E3"
             },
             "line": {
              "color": "white"
             }
            },
            "type": "table"
           }
          ]
         },
         "layout": {
          "annotationdefaults": {
           "arrowcolor": "#2a3f5f",
           "arrowhead": 0,
           "arrowwidth": 1
          },
          "autotypenumbers": "strict",
          "coloraxis": {
           "colorbar": {
            "outlinewidth": 0,
            "ticks": ""
           }
          },
          "colorscale": {
           "diverging": [
            [
             0,
             "#8e0152"
            ],
            [
             0.1,
             "#c51b7d"
            ],
            [
             0.2,
             "#de77ae"
            ],
            [
             0.3,
             "#f1b6da"
            ],
            [
             0.4,
             "#fde0ef"
            ],
            [
             0.5,
             "#f7f7f7"
            ],
            [
             0.6,
             "#e6f5d0"
            ],
            [
             0.7,
             "#b8e186"
            ],
            [
             0.8,
             "#7fbc41"
            ],
            [
             0.9,
             "#4d9221"
            ],
            [
             1,
             "#276419"
            ]
           ],
           "sequential": [
            [
             0,
             "#0d0887"
            ],
            [
             0.1111111111111111,
             "#46039f"
            ],
            [
             0.2222222222222222,
             "#7201a8"
            ],
            [
             0.3333333333333333,
             "#9c179e"
            ],
            [
             0.4444444444444444,
             "#bd3786"
            ],
            [
             0.5555555555555556,
             "#d8576b"
            ],
            [
             0.6666666666666666,
             "#ed7953"
            ],
            [
             0.7777777777777778,
             "#fb9f3a"
            ],
            [
             0.8888888888888888,
             "#fdca26"
            ],
            [
             1,
             "#f0f921"
            ]
           ],
           "sequentialminus": [
            [
             0,
             "#0d0887"
            ],
            [
             0.1111111111111111,
             "#46039f"
            ],
            [
             0.2222222222222222,
             "#7201a8"
            ],
            [
             0.3333333333333333,
             "#9c179e"
            ],
            [
             0.4444444444444444,
             "#bd3786"
            ],
            [
             0.5555555555555556,
             "#d8576b"
            ],
            [
             0.6666666666666666,
             "#ed7953"
            ],
            [
             0.7777777777777778,
             "#fb9f3a"
            ],
            [
             0.8888888888888888,
             "#fdca26"
            ],
            [
             1,
             "#f0f921"
            ]
           ]
          },
          "colorway": [
           "#636efa",
           "#EF553B",
           "#00cc96",
           "#ab63fa",
           "#FFA15A",
           "#19d3f3",
           "#FF6692",
           "#B6E880",
           "#FF97FF",
           "#FECB52"
          ],
          "font": {
           "color": "#2a3f5f"
          },
          "geo": {
           "bgcolor": "white",
           "lakecolor": "white",
           "landcolor": "white",
           "showlakes": true,
           "showland": true,
           "subunitcolor": "#C8D4E3"
          },
          "hoverlabel": {
           "align": "left"
          },
          "hovermode": "closest",
          "mapbox": {
           "style": "light"
          },
          "paper_bgcolor": "white",
          "plot_bgcolor": "white",
          "polar": {
           "angularaxis": {
            "gridcolor": "#EBF0F8",
            "linecolor": "#EBF0F8",
            "ticks": ""
           },
           "bgcolor": "white",
           "radialaxis": {
            "gridcolor": "#EBF0F8",
            "linecolor": "#EBF0F8",
            "ticks": ""
           }
          },
          "scene": {
           "xaxis": {
            "backgroundcolor": "white",
            "gridcolor": "#DFE8F3",
            "gridwidth": 2,
            "linecolor": "#EBF0F8",
            "showbackground": true,
            "ticks": "",
            "zerolinecolor": "#EBF0F8"
           },
           "yaxis": {
            "backgroundcolor": "white",
            "gridcolor": "#DFE8F3",
            "gridwidth": 2,
            "linecolor": "#EBF0F8",
            "showbackground": true,
            "ticks": "",
            "zerolinecolor": "#EBF0F8"
           },
           "zaxis": {
            "backgroundcolor": "white",
            "gridcolor": "#DFE8F3",
            "gridwidth": 2,
            "linecolor": "#EBF0F8",
            "showbackground": true,
            "ticks": "",
            "zerolinecolor": "#EBF0F8"
           }
          },
          "shapedefaults": {
           "line": {
            "color": "#2a3f5f"
           }
          },
          "ternary": {
           "aaxis": {
            "gridcolor": "#DFE8F3",
            "linecolor": "#A2B1C6",
            "ticks": ""
           },
           "baxis": {
            "gridcolor": "#DFE8F3",
            "linecolor": "#A2B1C6",
            "ticks": ""
           },
           "bgcolor": "white",
           "caxis": {
            "gridcolor": "#DFE8F3",
            "linecolor": "#A2B1C6",
            "ticks": ""
           }
          },
          "title": {
           "x": 0.05
          },
          "xaxis": {
           "automargin": true,
           "gridcolor": "#EBF0F8",
           "linecolor": "#EBF0F8",
           "ticks": "",
           "title": {
            "standoff": 15
           },
           "zerolinecolor": "#EBF0F8",
           "zerolinewidth": 2
          },
          "yaxis": {
           "automargin": true,
           "gridcolor": "#EBF0F8",
           "linecolor": "#EBF0F8",
           "ticks": "",
           "title": {
            "standoff": 15
           },
           "zerolinecolor": "#EBF0F8",
           "zerolinewidth": 2
          }
         }
        },
        "title": {
         "text": "Average Price per Area by construction_year_quartiles"
        },
        "xaxis": {
         "anchor": "y",
         "domain": [
          0,
          1
         ],
         "title": {
          "text": "x"
         },
         "type": "category"
        },
        "yaxis": {
         "anchor": "x",
         "domain": [
          0,
          1
         ],
         "title": {
          "text": "mean"
         }
        }
       }
      }
     },
     "metadata": {},
     "output_type": "display_data"
    }
   ],
   "source": [
    "calculate_average_price_per_area_with_margin(\n",
    "    beira_mar_listings, \"construction_year_quartiles\"\n",
    ")"
   ]
  },
  {
   "cell_type": "markdown",
   "metadata": {},
   "source": [
    "Creating a statistical model to predict Price per Area"
   ]
  },
  {
   "cell_type": "code",
   "execution_count": 201,
   "metadata": {},
   "outputs": [
    {
     "data": {
      "text/html": [
       "<div>\n",
       "<style scoped>\n",
       "    .dataframe tbody tr th:only-of-type {\n",
       "        vertical-align: middle;\n",
       "    }\n",
       "\n",
       "    .dataframe tbody tr th {\n",
       "        vertical-align: top;\n",
       "    }\n",
       "\n",
       "    .dataframe thead th {\n",
       "        text-align: right;\n",
       "    }\n",
       "</style>\n",
       "<table border=\"1\" class=\"dataframe\">\n",
       "  <thead>\n",
       "    <tr style=\"text-align: right;\">\n",
       "      <th></th>\n",
       "      <th>semesters_listed</th>\n",
       "      <th>construction_year_quartiles</th>\n",
       "      <th>street_number_quartiles</th>\n",
       "      <th>total_area_m2_quartiles</th>\n",
       "      <th>condo_fee_quartiles</th>\n",
       "      <th>price_per_area</th>\n",
       "    </tr>\n",
       "    <tr>\n",
       "      <th>listing_id</th>\n",
       "      <th></th>\n",
       "      <th></th>\n",
       "      <th></th>\n",
       "      <th></th>\n",
       "      <th></th>\n",
       "      <th></th>\n",
       "    </tr>\n",
       "  </thead>\n",
       "  <tbody>\n",
       "    <tr>\n",
       "      <th>2638118288</th>\n",
       "      <td>1</td>\n",
       "      <td>(2014.0, 2024.0]</td>\n",
       "      <td>(0.999, 2120.0]</td>\n",
       "      <td>(28.999, 65.0]</td>\n",
       "      <td>(-0.001, 700.0]</td>\n",
       "      <td>10089.793103</td>\n",
       "    </tr>\n",
       "    <tr>\n",
       "      <th>2563609061</th>\n",
       "      <td>3</td>\n",
       "      <td>NaN</td>\n",
       "      <td>(3220.0, 4260.0]</td>\n",
       "      <td>(28.999, 65.0]</td>\n",
       "      <td>(700.0, 1410.0]</td>\n",
       "      <td>7500.000000</td>\n",
       "    </tr>\n",
       "    <tr>\n",
       "      <th>2687921230</th>\n",
       "      <td>0</td>\n",
       "      <td>NaN</td>\n",
       "      <td>(2120.0, 3220.0]</td>\n",
       "      <td>(28.999, 65.0]</td>\n",
       "      <td>(-0.001, 700.0]</td>\n",
       "      <td>9411.764706</td>\n",
       "    </tr>\n",
       "    <tr>\n",
       "      <th>2674086788</th>\n",
       "      <td>0</td>\n",
       "      <td>NaN</td>\n",
       "      <td>(3220.0, 4260.0]</td>\n",
       "      <td>(28.999, 65.0]</td>\n",
       "      <td>(-0.001, 700.0]</td>\n",
       "      <td>8249.950000</td>\n",
       "    </tr>\n",
       "    <tr>\n",
       "      <th>2684005636</th>\n",
       "      <td>0</td>\n",
       "      <td>NaN</td>\n",
       "      <td>(3220.0, 4260.0]</td>\n",
       "      <td>(28.999, 65.0]</td>\n",
       "      <td>(700.0, 1410.0]</td>\n",
       "      <td>7954.545455</td>\n",
       "    </tr>\n",
       "    <tr>\n",
       "      <th>...</th>\n",
       "      <td>...</td>\n",
       "      <td>...</td>\n",
       "      <td>...</td>\n",
       "      <td>...</td>\n",
       "      <td>...</td>\n",
       "      <td>...</td>\n",
       "    </tr>\n",
       "    <tr>\n",
       "      <th>2699278581</th>\n",
       "      <td>0</td>\n",
       "      <td>(2007.0, 2014.0]</td>\n",
       "      <td>(0.999, 2120.0]</td>\n",
       "      <td>(65.0, 220.0]</td>\n",
       "      <td>(700.0, 1410.0]</td>\n",
       "      <td>24214.285714</td>\n",
       "    </tr>\n",
       "    <tr>\n",
       "      <th>2624578012</th>\n",
       "      <td>2</td>\n",
       "      <td>NaN</td>\n",
       "      <td>(0.999, 2120.0]</td>\n",
       "      <td>(65.0, 220.0]</td>\n",
       "      <td>(-0.001, 700.0]</td>\n",
       "      <td>25642.857143</td>\n",
       "    </tr>\n",
       "    <tr>\n",
       "      <th>2705246201</th>\n",
       "      <td>0</td>\n",
       "      <td>NaN</td>\n",
       "      <td>(4260.0, 5543.0]</td>\n",
       "      <td>(220.0, 335.0]</td>\n",
       "      <td>(3000.0, 800000.0]</td>\n",
       "      <td>11724.137931</td>\n",
       "    </tr>\n",
       "    <tr>\n",
       "      <th>2629066087</th>\n",
       "      <td>1</td>\n",
       "      <td>(1972.999, 2000.0]</td>\n",
       "      <td>(2120.0, 3220.0]</td>\n",
       "      <td>(65.0, 220.0]</td>\n",
       "      <td>(1410.0, 3000.0]</td>\n",
       "      <td>17727.272727</td>\n",
       "    </tr>\n",
       "    <tr>\n",
       "      <th>2685991657</th>\n",
       "      <td>0</td>\n",
       "      <td>NaN</td>\n",
       "      <td>(2120.0, 3220.0]</td>\n",
       "      <td>(28.999, 65.0]</td>\n",
       "      <td>(-0.001, 700.0]</td>\n",
       "      <td>15980.000000</td>\n",
       "    </tr>\n",
       "  </tbody>\n",
       "</table>\n",
       "<p>343 rows × 6 columns</p>\n",
       "</div>"
      ],
      "text/plain": [
       "            semesters_listed construction_year_quartiles  \\\n",
       "listing_id                                                 \n",
       "2638118288                 1            (2014.0, 2024.0]   \n",
       "2563609061                 3                         NaN   \n",
       "2687921230                 0                         NaN   \n",
       "2674086788                 0                         NaN   \n",
       "2684005636                 0                         NaN   \n",
       "...                      ...                         ...   \n",
       "2699278581                 0            (2007.0, 2014.0]   \n",
       "2624578012                 2                         NaN   \n",
       "2705246201                 0                         NaN   \n",
       "2629066087                 1          (1972.999, 2000.0]   \n",
       "2685991657                 0                         NaN   \n",
       "\n",
       "           street_number_quartiles total_area_m2_quartiles  \\\n",
       "listing_id                                                   \n",
       "2638118288         (0.999, 2120.0]          (28.999, 65.0]   \n",
       "2563609061        (3220.0, 4260.0]          (28.999, 65.0]   \n",
       "2687921230        (2120.0, 3220.0]          (28.999, 65.0]   \n",
       "2674086788        (3220.0, 4260.0]          (28.999, 65.0]   \n",
       "2684005636        (3220.0, 4260.0]          (28.999, 65.0]   \n",
       "...                            ...                     ...   \n",
       "2699278581         (0.999, 2120.0]           (65.0, 220.0]   \n",
       "2624578012         (0.999, 2120.0]           (65.0, 220.0]   \n",
       "2705246201        (4260.0, 5543.0]          (220.0, 335.0]   \n",
       "2629066087        (2120.0, 3220.0]           (65.0, 220.0]   \n",
       "2685991657        (2120.0, 3220.0]          (28.999, 65.0]   \n",
       "\n",
       "           condo_fee_quartiles  price_per_area  \n",
       "listing_id                                      \n",
       "2638118288     (-0.001, 700.0]    10089.793103  \n",
       "2563609061     (700.0, 1410.0]     7500.000000  \n",
       "2687921230     (-0.001, 700.0]     9411.764706  \n",
       "2674086788     (-0.001, 700.0]     8249.950000  \n",
       "2684005636     (700.0, 1410.0]     7954.545455  \n",
       "...                        ...             ...  \n",
       "2699278581     (700.0, 1410.0]    24214.285714  \n",
       "2624578012     (-0.001, 700.0]    25642.857143  \n",
       "2705246201  (3000.0, 800000.0]    11724.137931  \n",
       "2629066087    (1410.0, 3000.0]    17727.272727  \n",
       "2685991657     (-0.001, 700.0]    15980.000000  \n",
       "\n",
       "[343 rows x 6 columns]"
      ]
     },
     "execution_count": 201,
     "metadata": {},
     "output_type": "execute_result"
    }
   ],
   "source": [
    "input_data = beira_mar_listings[['semesters_listed',\t'construction_year_quartiles',\t'street_number_quartiles',\t'total_area_m2_quartiles', 'condo_fee_quartiles', 'price_per_area']]\n",
    "input_data"
   ]
  },
  {
   "cell_type": "code",
   "execution_count": 235,
   "metadata": {},
   "outputs": [],
   "source": [
    "from sklearn.preprocessing import OrdinalEncoder\n",
    "\n",
    "X = input_data.drop(columns='price_per_area').astype(str)\n",
    "y = input_data['price_per_area']\n",
    "\n",
    "enc = OrdinalEncoder()\n",
    "X_encoded = enc.fit_transform(X)"
   ]
  },
  {
   "cell_type": "code",
   "execution_count": 236,
   "metadata": {},
   "outputs": [],
   "source": [
    "X_test, X_train,  y_test, y_train = train_test_split(X_encoded, y, test_size=0.3, random_state=42)"
   ]
  },
  {
   "cell_type": "code",
   "execution_count": 237,
   "metadata": {},
   "outputs": [],
   "source": [
    "rf = RandomForestRegressor(n_estimators=100, random_state=42)\n",
    "rf.fit(X_train, y_train)\n",
    "y_test_pred = rf.predict(X_test)"
   ]
  },
  {
   "cell_type": "code",
   "execution_count": 238,
   "metadata": {},
   "outputs": [
    {
     "data": {
      "text/plain": [
       "array([['1', '(1972.999, 2000.0]', '(0.999, 2120.0]', '(28.999, 65.0]',\n",
       "        '(-0.001, 700.0]']], dtype=object)"
      ]
     },
     "execution_count": 238,
     "metadata": {},
     "output_type": "execute_result"
    }
   ],
   "source": [
    "enc.inverse_transform(X_test[0].reshape(1, -1))"
   ]
  },
  {
   "cell_type": "code",
   "execution_count": 244,
   "metadata": {},
   "outputs": [
    {
     "data": {
      "text/plain": [
       "0                     1\n",
       "1    (1972.999, 2000.0]\n",
       "2       (0.999, 2120.0]\n",
       "3        (28.999, 65.0]\n",
       "4       (-0.001, 700.0]\n",
       "dtype: object"
      ]
     },
     "execution_count": 244,
     "metadata": {},
     "output_type": "execute_result"
    }
   ],
   "source": [
    "pd.Series(['1', '(1972.999, 2000.0]', '(0.999, 2120.0]', '(28.999, 65.0]','(-0.001, 700.0]'])"
   ]
  },
  {
   "cell_type": "code",
   "execution_count": 243,
   "metadata": {},
   "outputs": [
    {
     "name": "stderr",
     "output_type": "stream",
     "text": [
      "c:\\Users\\58781\\zapimoveis-scraper\\.venv\\Lib\\site-packages\\sklearn\\base.py:493: UserWarning:\n",
      "\n",
      "X does not have valid feature names, but OrdinalEncoder was fitted with feature names\n",
      "\n"
     ]
    },
    {
     "ename": "ValueError",
     "evalue": "X has 1 features, but OrdinalEncoder is expecting 5 features as input.",
     "output_type": "error",
     "traceback": [
      "\u001b[1;31m---------------------------------------------------------------------------\u001b[0m",
      "\u001b[1;31mValueError\u001b[0m                                Traceback (most recent call last)",
      "Cell \u001b[1;32mIn[243], line 1\u001b[0m\n\u001b[1;32m----> 1\u001b[0m ap_data \u001b[38;5;241m=\u001b[39m \u001b[43menc\u001b[49m\u001b[38;5;241;43m.\u001b[39;49m\u001b[43mtransform\u001b[49m\u001b[43m(\u001b[49m\u001b[43mnp\u001b[49m\u001b[38;5;241;43m.\u001b[39;49m\u001b[43marray\u001b[49m\u001b[43m(\u001b[49m\u001b[43m[\u001b[49m\u001b[38;5;124;43m'\u001b[39;49m\u001b[38;5;124;43m1\u001b[39;49m\u001b[38;5;124;43m'\u001b[39;49m\u001b[43m,\u001b[49m\u001b[43m \u001b[49m\u001b[38;5;124;43m'\u001b[39;49m\u001b[38;5;124;43m(1972.999, 2000.0]\u001b[39;49m\u001b[38;5;124;43m'\u001b[39;49m\u001b[43m,\u001b[49m\u001b[43m \u001b[49m\u001b[38;5;124;43m'\u001b[39;49m\u001b[38;5;124;43m(0.999, 2120.0]\u001b[39;49m\u001b[38;5;124;43m'\u001b[39;49m\u001b[43m,\u001b[49m\u001b[43m \u001b[49m\u001b[38;5;124;43m'\u001b[39;49m\u001b[38;5;124;43m(28.999, 65.0]\u001b[39;49m\u001b[38;5;124;43m'\u001b[39;49m\u001b[43m,\u001b[49m\u001b[38;5;124;43m'\u001b[39;49m\u001b[38;5;124;43m(-0.001, 700.0]\u001b[39;49m\u001b[38;5;124;43m'\u001b[39;49m\u001b[43m]\u001b[49m\u001b[43m)\u001b[49m\u001b[38;5;241;43m.\u001b[39;49m\u001b[43mreshape\u001b[49m\u001b[43m(\u001b[49m\u001b[38;5;241;43m-\u001b[39;49m\u001b[38;5;241;43m1\u001b[39;49m\u001b[43m,\u001b[49m\u001b[43m \u001b[49m\u001b[38;5;241;43m1\u001b[39;49m\u001b[43m)\u001b[49m\u001b[43m)\u001b[49m\n",
      "File \u001b[1;32mc:\\Users\\58781\\zapimoveis-scraper\\.venv\\Lib\\site-packages\\sklearn\\utils\\_set_output.py:295\u001b[0m, in \u001b[0;36m_wrap_method_output.<locals>.wrapped\u001b[1;34m(self, X, *args, **kwargs)\u001b[0m\n\u001b[0;32m    293\u001b[0m \u001b[38;5;129m@wraps\u001b[39m(f)\n\u001b[0;32m    294\u001b[0m \u001b[38;5;28;01mdef\u001b[39;00m \u001b[38;5;21mwrapped\u001b[39m(\u001b[38;5;28mself\u001b[39m, X, \u001b[38;5;241m*\u001b[39margs, \u001b[38;5;241m*\u001b[39m\u001b[38;5;241m*\u001b[39mkwargs):\n\u001b[1;32m--> 295\u001b[0m     data_to_wrap \u001b[38;5;241m=\u001b[39m \u001b[43mf\u001b[49m\u001b[43m(\u001b[49m\u001b[38;5;28;43mself\u001b[39;49m\u001b[43m,\u001b[49m\u001b[43m \u001b[49m\u001b[43mX\u001b[49m\u001b[43m,\u001b[49m\u001b[43m \u001b[49m\u001b[38;5;241;43m*\u001b[39;49m\u001b[43margs\u001b[49m\u001b[43m,\u001b[49m\u001b[43m \u001b[49m\u001b[38;5;241;43m*\u001b[39;49m\u001b[38;5;241;43m*\u001b[39;49m\u001b[43mkwargs\u001b[49m\u001b[43m)\u001b[49m\n\u001b[0;32m    296\u001b[0m     \u001b[38;5;28;01mif\u001b[39;00m \u001b[38;5;28misinstance\u001b[39m(data_to_wrap, \u001b[38;5;28mtuple\u001b[39m):\n\u001b[0;32m    297\u001b[0m         \u001b[38;5;66;03m# only wrap the first output for cross decomposition\u001b[39;00m\n\u001b[0;32m    298\u001b[0m         return_tuple \u001b[38;5;241m=\u001b[39m (\n\u001b[0;32m    299\u001b[0m             _wrap_data_with_container(method, data_to_wrap[\u001b[38;5;241m0\u001b[39m], X, \u001b[38;5;28mself\u001b[39m),\n\u001b[0;32m    300\u001b[0m             \u001b[38;5;241m*\u001b[39mdata_to_wrap[\u001b[38;5;241m1\u001b[39m:],\n\u001b[0;32m    301\u001b[0m         )\n",
      "File \u001b[1;32mc:\\Users\\58781\\zapimoveis-scraper\\.venv\\Lib\\site-packages\\sklearn\\preprocessing\\_encoders.py:1577\u001b[0m, in \u001b[0;36mOrdinalEncoder.transform\u001b[1;34m(self, X)\u001b[0m\n\u001b[0;32m   1563\u001b[0m \u001b[38;5;250m\u001b[39m\u001b[38;5;124;03m\"\"\"\u001b[39;00m\n\u001b[0;32m   1564\u001b[0m \u001b[38;5;124;03mTransform X to ordinal codes.\u001b[39;00m\n\u001b[0;32m   1565\u001b[0m \n\u001b[1;32m   (...)\u001b[0m\n\u001b[0;32m   1574\u001b[0m \u001b[38;5;124;03m    Transformed input.\u001b[39;00m\n\u001b[0;32m   1575\u001b[0m \u001b[38;5;124;03m\"\"\"\u001b[39;00m\n\u001b[0;32m   1576\u001b[0m check_is_fitted(\u001b[38;5;28mself\u001b[39m, \u001b[38;5;124m\"\u001b[39m\u001b[38;5;124mcategories_\u001b[39m\u001b[38;5;124m\"\u001b[39m)\n\u001b[1;32m-> 1577\u001b[0m X_int, X_mask \u001b[38;5;241m=\u001b[39m \u001b[38;5;28;43mself\u001b[39;49m\u001b[38;5;241;43m.\u001b[39;49m\u001b[43m_transform\u001b[49m\u001b[43m(\u001b[49m\n\u001b[0;32m   1578\u001b[0m \u001b[43m    \u001b[49m\u001b[43mX\u001b[49m\u001b[43m,\u001b[49m\n\u001b[0;32m   1579\u001b[0m \u001b[43m    \u001b[49m\u001b[43mhandle_unknown\u001b[49m\u001b[38;5;241;43m=\u001b[39;49m\u001b[38;5;28;43mself\u001b[39;49m\u001b[38;5;241;43m.\u001b[39;49m\u001b[43mhandle_unknown\u001b[49m\u001b[43m,\u001b[49m\n\u001b[0;32m   1580\u001b[0m \u001b[43m    \u001b[49m\u001b[43mforce_all_finite\u001b[49m\u001b[38;5;241;43m=\u001b[39;49m\u001b[38;5;124;43m\"\u001b[39;49m\u001b[38;5;124;43mallow-nan\u001b[39;49m\u001b[38;5;124;43m\"\u001b[39;49m\u001b[43m,\u001b[49m\n\u001b[0;32m   1581\u001b[0m \u001b[43m    \u001b[49m\u001b[43mignore_category_indices\u001b[49m\u001b[38;5;241;43m=\u001b[39;49m\u001b[38;5;28;43mself\u001b[39;49m\u001b[38;5;241;43m.\u001b[39;49m\u001b[43m_missing_indices\u001b[49m\u001b[43m,\u001b[49m\n\u001b[0;32m   1582\u001b[0m \u001b[43m\u001b[49m\u001b[43m)\u001b[49m\n\u001b[0;32m   1583\u001b[0m X_trans \u001b[38;5;241m=\u001b[39m X_int\u001b[38;5;241m.\u001b[39mastype(\u001b[38;5;28mself\u001b[39m\u001b[38;5;241m.\u001b[39mdtype, copy\u001b[38;5;241m=\u001b[39m\u001b[38;5;28;01mFalse\u001b[39;00m)\n\u001b[0;32m   1585\u001b[0m \u001b[38;5;28;01mfor\u001b[39;00m cat_idx, missing_idx \u001b[38;5;129;01min\u001b[39;00m \u001b[38;5;28mself\u001b[39m\u001b[38;5;241m.\u001b[39m_missing_indices\u001b[38;5;241m.\u001b[39mitems():\n",
      "File \u001b[1;32mc:\\Users\\58781\\zapimoveis-scraper\\.venv\\Lib\\site-packages\\sklearn\\preprocessing\\_encoders.py:197\u001b[0m, in \u001b[0;36m_BaseEncoder._transform\u001b[1;34m(self, X, handle_unknown, force_all_finite, warn_on_unknown, ignore_category_indices)\u001b[0m\n\u001b[0;32m    193\u001b[0m X_list, n_samples, n_features \u001b[38;5;241m=\u001b[39m \u001b[38;5;28mself\u001b[39m\u001b[38;5;241m.\u001b[39m_check_X(\n\u001b[0;32m    194\u001b[0m     X, force_all_finite\u001b[38;5;241m=\u001b[39mforce_all_finite\n\u001b[0;32m    195\u001b[0m )\n\u001b[0;32m    196\u001b[0m \u001b[38;5;28mself\u001b[39m\u001b[38;5;241m.\u001b[39m_check_feature_names(X, reset\u001b[38;5;241m=\u001b[39m\u001b[38;5;28;01mFalse\u001b[39;00m)\n\u001b[1;32m--> 197\u001b[0m \u001b[38;5;28;43mself\u001b[39;49m\u001b[38;5;241;43m.\u001b[39;49m\u001b[43m_check_n_features\u001b[49m\u001b[43m(\u001b[49m\u001b[43mX\u001b[49m\u001b[43m,\u001b[49m\u001b[43m \u001b[49m\u001b[43mreset\u001b[49m\u001b[38;5;241;43m=\u001b[39;49m\u001b[38;5;28;43;01mFalse\u001b[39;49;00m\u001b[43m)\u001b[49m\n\u001b[0;32m    199\u001b[0m X_int \u001b[38;5;241m=\u001b[39m np\u001b[38;5;241m.\u001b[39mzeros((n_samples, n_features), dtype\u001b[38;5;241m=\u001b[39m\u001b[38;5;28mint\u001b[39m)\n\u001b[0;32m    200\u001b[0m X_mask \u001b[38;5;241m=\u001b[39m np\u001b[38;5;241m.\u001b[39mones((n_samples, n_features), dtype\u001b[38;5;241m=\u001b[39m\u001b[38;5;28mbool\u001b[39m)\n",
      "File \u001b[1;32mc:\\Users\\58781\\zapimoveis-scraper\\.venv\\Lib\\site-packages\\sklearn\\base.py:443\u001b[0m, in \u001b[0;36mBaseEstimator._check_n_features\u001b[1;34m(self, X, reset)\u001b[0m\n\u001b[0;32m    440\u001b[0m     \u001b[38;5;28;01mreturn\u001b[39;00m\n\u001b[0;32m    442\u001b[0m \u001b[38;5;28;01mif\u001b[39;00m n_features \u001b[38;5;241m!=\u001b[39m \u001b[38;5;28mself\u001b[39m\u001b[38;5;241m.\u001b[39mn_features_in_:\n\u001b[1;32m--> 443\u001b[0m     \u001b[38;5;28;01mraise\u001b[39;00m \u001b[38;5;167;01mValueError\u001b[39;00m(\n\u001b[0;32m    444\u001b[0m         \u001b[38;5;124mf\u001b[39m\u001b[38;5;124m\"\u001b[39m\u001b[38;5;124mX has \u001b[39m\u001b[38;5;132;01m{\u001b[39;00mn_features\u001b[38;5;132;01m}\u001b[39;00m\u001b[38;5;124m features, but \u001b[39m\u001b[38;5;132;01m{\u001b[39;00m\u001b[38;5;28mself\u001b[39m\u001b[38;5;241m.\u001b[39m\u001b[38;5;18m__class__\u001b[39m\u001b[38;5;241m.\u001b[39m\u001b[38;5;18m__name__\u001b[39m\u001b[38;5;132;01m}\u001b[39;00m\u001b[38;5;124m \u001b[39m\u001b[38;5;124m\"\u001b[39m\n\u001b[0;32m    445\u001b[0m         \u001b[38;5;124mf\u001b[39m\u001b[38;5;124m\"\u001b[39m\u001b[38;5;124mis expecting \u001b[39m\u001b[38;5;132;01m{\u001b[39;00m\u001b[38;5;28mself\u001b[39m\u001b[38;5;241m.\u001b[39mn_features_in_\u001b[38;5;132;01m}\u001b[39;00m\u001b[38;5;124m features as input.\u001b[39m\u001b[38;5;124m\"\u001b[39m\n\u001b[0;32m    446\u001b[0m     )\n",
      "\u001b[1;31mValueError\u001b[0m: X has 1 features, but OrdinalEncoder is expecting 5 features as input."
     ]
    }
   ],
   "source": [
    "ap_data = enc.transform(np.array(['1', '(1972.999, 2000.0]', '(0.999, 2120.0]', '(28.999, 65.0]','(-0.001, 700.0]']).reshape(-1, 1))"
   ]
  },
  {
   "cell_type": "code",
   "execution_count": 224,
   "metadata": {},
   "outputs": [
    {
     "ename": "ValueError",
     "evalue": "could not convert string to float: '(1972.999, 2000.0]'",
     "output_type": "error",
     "traceback": [
      "\u001b[1;31m---------------------------------------------------------------------------\u001b[0m",
      "\u001b[1;31mValueError\u001b[0m                                Traceback (most recent call last)",
      "Cell \u001b[1;32mIn[224], line 1\u001b[0m\n\u001b[1;32m----> 1\u001b[0m \u001b[43mrf\u001b[49m\u001b[38;5;241;43m.\u001b[39;49m\u001b[43mpredict\u001b[49m\u001b[43m(\u001b[49m\u001b[43map_data\u001b[49m\u001b[43m)\u001b[49m\n",
      "File \u001b[1;32mc:\\Users\\58781\\zapimoveis-scraper\\.venv\\Lib\\site-packages\\sklearn\\ensemble\\_forest.py:1064\u001b[0m, in \u001b[0;36mForestRegressor.predict\u001b[1;34m(self, X)\u001b[0m\n\u001b[0;32m   1062\u001b[0m check_is_fitted(\u001b[38;5;28mself\u001b[39m)\n\u001b[0;32m   1063\u001b[0m \u001b[38;5;66;03m# Check data\u001b[39;00m\n\u001b[1;32m-> 1064\u001b[0m X \u001b[38;5;241m=\u001b[39m \u001b[38;5;28;43mself\u001b[39;49m\u001b[38;5;241;43m.\u001b[39;49m\u001b[43m_validate_X_predict\u001b[49m\u001b[43m(\u001b[49m\u001b[43mX\u001b[49m\u001b[43m)\u001b[49m\n\u001b[0;32m   1066\u001b[0m \u001b[38;5;66;03m# Assign chunk of trees to jobs\u001b[39;00m\n\u001b[0;32m   1067\u001b[0m n_jobs, _, _ \u001b[38;5;241m=\u001b[39m _partition_estimators(\u001b[38;5;28mself\u001b[39m\u001b[38;5;241m.\u001b[39mn_estimators, \u001b[38;5;28mself\u001b[39m\u001b[38;5;241m.\u001b[39mn_jobs)\n",
      "File \u001b[1;32mc:\\Users\\58781\\zapimoveis-scraper\\.venv\\Lib\\site-packages\\sklearn\\ensemble\\_forest.py:641\u001b[0m, in \u001b[0;36mBaseForest._validate_X_predict\u001b[1;34m(self, X)\u001b[0m\n\u001b[0;32m    638\u001b[0m \u001b[38;5;28;01melse\u001b[39;00m:\n\u001b[0;32m    639\u001b[0m     force_all_finite \u001b[38;5;241m=\u001b[39m \u001b[38;5;28;01mTrue\u001b[39;00m\n\u001b[1;32m--> 641\u001b[0m X \u001b[38;5;241m=\u001b[39m \u001b[38;5;28;43mself\u001b[39;49m\u001b[38;5;241;43m.\u001b[39;49m\u001b[43m_validate_data\u001b[49m\u001b[43m(\u001b[49m\n\u001b[0;32m    642\u001b[0m \u001b[43m    \u001b[49m\u001b[43mX\u001b[49m\u001b[43m,\u001b[49m\n\u001b[0;32m    643\u001b[0m \u001b[43m    \u001b[49m\u001b[43mdtype\u001b[49m\u001b[38;5;241;43m=\u001b[39;49m\u001b[43mDTYPE\u001b[49m\u001b[43m,\u001b[49m\n\u001b[0;32m    644\u001b[0m \u001b[43m    \u001b[49m\u001b[43maccept_sparse\u001b[49m\u001b[38;5;241;43m=\u001b[39;49m\u001b[38;5;124;43m\"\u001b[39;49m\u001b[38;5;124;43mcsr\u001b[39;49m\u001b[38;5;124;43m\"\u001b[39;49m\u001b[43m,\u001b[49m\n\u001b[0;32m    645\u001b[0m \u001b[43m    \u001b[49m\u001b[43mreset\u001b[49m\u001b[38;5;241;43m=\u001b[39;49m\u001b[38;5;28;43;01mFalse\u001b[39;49;00m\u001b[43m,\u001b[49m\n\u001b[0;32m    646\u001b[0m \u001b[43m    \u001b[49m\u001b[43mforce_all_finite\u001b[49m\u001b[38;5;241;43m=\u001b[39;49m\u001b[43mforce_all_finite\u001b[49m\u001b[43m,\u001b[49m\n\u001b[0;32m    647\u001b[0m \u001b[43m\u001b[49m\u001b[43m)\u001b[49m\n\u001b[0;32m    648\u001b[0m \u001b[38;5;28;01mif\u001b[39;00m issparse(X) \u001b[38;5;129;01mand\u001b[39;00m (X\u001b[38;5;241m.\u001b[39mindices\u001b[38;5;241m.\u001b[39mdtype \u001b[38;5;241m!=\u001b[39m np\u001b[38;5;241m.\u001b[39mintc \u001b[38;5;129;01mor\u001b[39;00m X\u001b[38;5;241m.\u001b[39mindptr\u001b[38;5;241m.\u001b[39mdtype \u001b[38;5;241m!=\u001b[39m np\u001b[38;5;241m.\u001b[39mintc):\n\u001b[0;32m    649\u001b[0m     \u001b[38;5;28;01mraise\u001b[39;00m \u001b[38;5;167;01mValueError\u001b[39;00m(\u001b[38;5;124m\"\u001b[39m\u001b[38;5;124mNo support for np.int64 index based sparse matrices\u001b[39m\u001b[38;5;124m\"\u001b[39m)\n",
      "File \u001b[1;32mc:\\Users\\58781\\zapimoveis-scraper\\.venv\\Lib\\site-packages\\sklearn\\base.py:633\u001b[0m, in \u001b[0;36mBaseEstimator._validate_data\u001b[1;34m(self, X, y, reset, validate_separately, cast_to_ndarray, **check_params)\u001b[0m\n\u001b[0;32m    631\u001b[0m         out \u001b[38;5;241m=\u001b[39m X, y\n\u001b[0;32m    632\u001b[0m \u001b[38;5;28;01melif\u001b[39;00m \u001b[38;5;129;01mnot\u001b[39;00m no_val_X \u001b[38;5;129;01mand\u001b[39;00m no_val_y:\n\u001b[1;32m--> 633\u001b[0m     out \u001b[38;5;241m=\u001b[39m \u001b[43mcheck_array\u001b[49m\u001b[43m(\u001b[49m\u001b[43mX\u001b[49m\u001b[43m,\u001b[49m\u001b[43m \u001b[49m\u001b[43minput_name\u001b[49m\u001b[38;5;241;43m=\u001b[39;49m\u001b[38;5;124;43m\"\u001b[39;49m\u001b[38;5;124;43mX\u001b[39;49m\u001b[38;5;124;43m\"\u001b[39;49m\u001b[43m,\u001b[49m\u001b[43m \u001b[49m\u001b[38;5;241;43m*\u001b[39;49m\u001b[38;5;241;43m*\u001b[39;49m\u001b[43mcheck_params\u001b[49m\u001b[43m)\u001b[49m\n\u001b[0;32m    634\u001b[0m \u001b[38;5;28;01melif\u001b[39;00m no_val_X \u001b[38;5;129;01mand\u001b[39;00m \u001b[38;5;129;01mnot\u001b[39;00m no_val_y:\n\u001b[0;32m    635\u001b[0m     out \u001b[38;5;241m=\u001b[39m _check_y(y, \u001b[38;5;241m*\u001b[39m\u001b[38;5;241m*\u001b[39mcheck_params)\n",
      "File \u001b[1;32mc:\\Users\\58781\\zapimoveis-scraper\\.venv\\Lib\\site-packages\\sklearn\\utils\\validation.py:997\u001b[0m, in \u001b[0;36mcheck_array\u001b[1;34m(array, accept_sparse, accept_large_sparse, dtype, order, copy, force_all_finite, ensure_2d, allow_nd, ensure_min_samples, ensure_min_features, estimator, input_name)\u001b[0m\n\u001b[0;32m    995\u001b[0m         array \u001b[38;5;241m=\u001b[39m xp\u001b[38;5;241m.\u001b[39mastype(array, dtype, copy\u001b[38;5;241m=\u001b[39m\u001b[38;5;28;01mFalse\u001b[39;00m)\n\u001b[0;32m    996\u001b[0m     \u001b[38;5;28;01melse\u001b[39;00m:\n\u001b[1;32m--> 997\u001b[0m         array \u001b[38;5;241m=\u001b[39m \u001b[43m_asarray_with_order\u001b[49m\u001b[43m(\u001b[49m\u001b[43marray\u001b[49m\u001b[43m,\u001b[49m\u001b[43m \u001b[49m\u001b[43morder\u001b[49m\u001b[38;5;241;43m=\u001b[39;49m\u001b[43morder\u001b[49m\u001b[43m,\u001b[49m\u001b[43m \u001b[49m\u001b[43mdtype\u001b[49m\u001b[38;5;241;43m=\u001b[39;49m\u001b[43mdtype\u001b[49m\u001b[43m,\u001b[49m\u001b[43m \u001b[49m\u001b[43mxp\u001b[49m\u001b[38;5;241;43m=\u001b[39;49m\u001b[43mxp\u001b[49m\u001b[43m)\u001b[49m\n\u001b[0;32m    998\u001b[0m \u001b[38;5;28;01mexcept\u001b[39;00m ComplexWarning \u001b[38;5;28;01mas\u001b[39;00m complex_warning:\n\u001b[0;32m    999\u001b[0m     \u001b[38;5;28;01mraise\u001b[39;00m \u001b[38;5;167;01mValueError\u001b[39;00m(\n\u001b[0;32m   1000\u001b[0m         \u001b[38;5;124m\"\u001b[39m\u001b[38;5;124mComplex data not supported\u001b[39m\u001b[38;5;130;01m\\n\u001b[39;00m\u001b[38;5;132;01m{}\u001b[39;00m\u001b[38;5;130;01m\\n\u001b[39;00m\u001b[38;5;124m\"\u001b[39m\u001b[38;5;241m.\u001b[39mformat(array)\n\u001b[0;32m   1001\u001b[0m     ) \u001b[38;5;28;01mfrom\u001b[39;00m \u001b[38;5;21;01mcomplex_warning\u001b[39;00m\n",
      "File \u001b[1;32mc:\\Users\\58781\\zapimoveis-scraper\\.venv\\Lib\\site-packages\\sklearn\\utils\\_array_api.py:521\u001b[0m, in \u001b[0;36m_asarray_with_order\u001b[1;34m(array, dtype, order, copy, xp)\u001b[0m\n\u001b[0;32m    519\u001b[0m     array \u001b[38;5;241m=\u001b[39m numpy\u001b[38;5;241m.\u001b[39marray(array, order\u001b[38;5;241m=\u001b[39morder, dtype\u001b[38;5;241m=\u001b[39mdtype)\n\u001b[0;32m    520\u001b[0m \u001b[38;5;28;01melse\u001b[39;00m:\n\u001b[1;32m--> 521\u001b[0m     array \u001b[38;5;241m=\u001b[39m \u001b[43mnumpy\u001b[49m\u001b[38;5;241;43m.\u001b[39;49m\u001b[43masarray\u001b[49m\u001b[43m(\u001b[49m\u001b[43marray\u001b[49m\u001b[43m,\u001b[49m\u001b[43m \u001b[49m\u001b[43morder\u001b[49m\u001b[38;5;241;43m=\u001b[39;49m\u001b[43morder\u001b[49m\u001b[43m,\u001b[49m\u001b[43m \u001b[49m\u001b[43mdtype\u001b[49m\u001b[38;5;241;43m=\u001b[39;49m\u001b[43mdtype\u001b[49m\u001b[43m)\u001b[49m\n\u001b[0;32m    523\u001b[0m \u001b[38;5;66;03m# At this point array is a NumPy ndarray. We convert it to an array\u001b[39;00m\n\u001b[0;32m    524\u001b[0m \u001b[38;5;66;03m# container that is consistent with the input's namespace.\u001b[39;00m\n\u001b[0;32m    525\u001b[0m \u001b[38;5;28;01mreturn\u001b[39;00m xp\u001b[38;5;241m.\u001b[39masarray(array)\n",
      "\u001b[1;31mValueError\u001b[0m: could not convert string to float: '(1972.999, 2000.0]'"
     ]
    }
   ],
   "source": [
    "rf.predict(ap_data)"
   ]
  }
 ],
 "metadata": {
  "kernelspec": {
   "display_name": ".venv",
   "language": "python",
   "name": "python3"
  },
  "language_info": {
   "codemirror_mode": {
    "name": "ipython",
    "version": 3
   },
   "file_extension": ".py",
   "mimetype": "text/x-python",
   "name": "python",
   "nbconvert_exporter": "python",
   "pygments_lexer": "ipython3",
   "version": "3.12.3"
  }
 },
 "nbformat": 4,
 "nbformat_minor": 2
}
