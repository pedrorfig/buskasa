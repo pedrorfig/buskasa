{
 "cells": [
  {
   "cell_type": "code",
   "execution_count": 1,
   "metadata": {},
   "outputs": [],
   "source": [
    "import io\n",
    "import os\n",
    "\n",
    "import requests\n",
    "from dotenv import find_dotenv, load_dotenv\n",
    "from PIL import Image\n",
    "from sqlalchemy import create_engine, text\n",
    "import pandas as pd\n",
    "from pprint import pprint"
   ]
  },
  {
   "cell_type": "code",
   "execution_count": 2,
   "metadata": {},
   "outputs": [
    {
     "data": {
      "text/plain": [
       "True"
      ]
     },
     "execution_count": 2,
     "metadata": {},
     "output_type": "execute_result"
    }
   ],
   "source": [
    "load_dotenv(find_dotenv())"
   ]
  },
  {
   "cell_type": "code",
   "execution_count": 3,
   "metadata": {},
   "outputs": [],
   "source": [
    "lat = -23.550654\n",
    "lng = -46.708753"
   ]
  },
  {
   "cell_type": "code",
   "execution_count": 4,
   "metadata": {},
   "outputs": [
    {
     "data": {
      "text/plain": [
       "'CbEOSugqRxxIA_GBLNcqFPC8rmParGtZy9j3eccZ78s'"
      ]
     },
     "execution_count": 4,
     "metadata": {},
     "output_type": "execute_result"
    }
   ],
   "source": [
    "api_key = os.getenv(\"HERE_API_KEY\")\n",
    "api_key"
   ]
  },
  {
   "cell_type": "code",
   "execution_count": 5,
   "metadata": {},
   "outputs": [
    {
     "name": "stdout",
     "output_type": "stream",
     "text": [
      "{'results': [{'currentFlow': {'confidence': 0.87,\n",
      "                              'freeFlow': 9.722222,\n",
      "                              'jamFactor': 0.1,\n",
      "                              'speed': 8.611112,\n",
      "                              'speedUncapped': 8.611112,\n",
      "                              'traversability': 'open'},\n",
      "              'location': {'description': 'Lindenstraße', 'length': 904.0}},\n",
      "             {'currentFlow': {'confidence': 0.98,\n",
      "                              'freeFlow': 9.166667,\n",
      "                              'jamFactor': 0.0,\n",
      "                              'speed': 11.388889,\n",
      "                              'speedUncapped': 11.388889,\n",
      "                              'subSegments': [{'confidence': 0.98,\n",
      "                                               'freeFlow': 9.722222,\n",
      "                                               'jamFactor': 0.0,\n",
      "                                               'length': 903.0,\n",
      "                                               'speed': 11.666667,\n",
      "                                               'speedUncapped': 11.666667,\n",
      "                                               'traversability': 'open'},\n",
      "                                              {'confidence': 0.98,\n",
      "                                               'freeFlow': 5.555556,\n",
      "                                               'jamFactor': 0.0,\n",
      "                                               'length': 85.0,\n",
      "                                               'speed': 9.444445,\n",
      "                                               'speedUncapped': 9.444445,\n",
      "                                               'traversability': 'open'}],\n",
      "                              'traversability': 'open'},\n",
      "              'location': {'description': 'Moritzplatz', 'length': 988.0}}],\n",
      " 'sourceUpdated': '2024-08-13T01:22:29Z'}\n"
     ]
    }
   ],
   "source": [
    "import requests\n",
    "\n",
    "url = \"https://data.traffic.hereapi.com/v7/flow?locationReferencing=none&in=bbox:13.400,52.500,13.405,52.505\"\n",
    "\n",
    "# Make the API request\n",
    "response = requests.get(url, params={\"apiKey\": api_key})\n",
    "\n",
    "# Print the response\n",
    "pprint(response.json())"
   ]
  }
 ],
 "metadata": {
  "kernelspec": {
   "display_name": ".venv",
   "language": "python",
   "name": "python3"
  },
  "language_info": {
   "codemirror_mode": {
    "name": "ipython",
    "version": 3
   },
   "file_extension": ".py",
   "mimetype": "text/x-python",
   "name": "python",
   "nbconvert_exporter": "python",
   "pygments_lexer": "ipython3",
   "version": "3.12.5"
  }
 },
 "nbformat": 4,
 "nbformat_minor": 2
}
