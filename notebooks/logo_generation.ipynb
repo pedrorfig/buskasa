{
 "cells": [
  {
   "cell_type": "code",
   "execution_count": 136,
   "metadata": {},
   "outputs": [],
   "source": [
    "from openai import OpenAI\n",
    "from dotenv import load_dotenv\n",
    "\n",
    "load_dotenv()\n",
    "\n",
    "client = OpenAI()\n"
   ]
  },
  {
   "cell_type": "code",
   "execution_count": 137,
   "metadata": {},
   "outputs": [],
   "source": [
    "logo_prompt = \\\n",
    "    \"\"\"\n",
    "    A simple logo of a house being looked at by a magnifying glass, black and white, vector, outline, flat.\"\"\""
   ]
  },
  {
   "cell_type": "code",
   "execution_count": 138,
   "metadata": {},
   "outputs": [],
   "source": [
    "response = client.images.generate(\n",
    "  model=\"dall-e-3\",\n",
    "  prompt=logo_prompt,\n",
    "  size=\"1792x1024\",\n",
    "  quality=\"standard\",\n",
    "  n=1,\n",
    ")\n"
   ]
  },
  {
   "cell_type": "code",
   "execution_count": 139,
   "metadata": {},
   "outputs": [
    {
     "data": {
      "text/plain": [
       "'https://oaidalleapiprodscus.blob.core.windows.net/private/org-Edw9Vvm6IxAT4DmEXFl12qii/user-1Mjw7ucymOpUeR0ihpVHLko2/img-k7eDZMNVY2kOEqEpJztV3f3R.png?st=2024-06-13T22%3A49%3A37Z&se=2024-06-14T00%3A49%3A37Z&sp=r&sv=2023-11-03&sr=b&rscd=inline&rsct=image/png&skoid=6aaadede-4fb3-4698-a8f6-684d7786b067&sktid=a48cca56-e6da-484e-a814-9c849652bcb3&skt=2024-06-13T18%3A53%3A26Z&ske=2024-06-14T18%3A53%3A26Z&sks=b&skv=2023-11-03&sig=O/ZYpJZlDx1%2Bv8DadEyROnYFGZFjgsC53tIw5RinxtI%3D'"
      ]
     },
     "execution_count": 139,
     "metadata": {},
     "output_type": "execute_result"
    }
   ],
   "source": [
    "image_url = response.data[0].url\n",
    "image_url"
   ]
  },
  {
   "cell_type": "code",
   "execution_count": 140,
   "metadata": {},
   "outputs": [],
   "source": [
    "# for i in range(10):\n",
    "#     print(response.data[i].url)"
   ]
  }
 ],
 "metadata": {
  "kernelspec": {
   "display_name": ".venv",
   "language": "python",
   "name": "python3"
  },
  "language_info": {
   "codemirror_mode": {
    "name": "ipython",
    "version": 3
   },
   "file_extension": ".py",
   "mimetype": "text/x-python",
   "name": "python",
   "nbconvert_exporter": "python",
   "pygments_lexer": "ipython3",
   "version": "3.12.5"
  }
 },
 "nbformat": 4,
 "nbformat_minor": 2
}
