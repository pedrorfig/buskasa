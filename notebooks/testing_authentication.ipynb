{
 "cells": [
  {
   "cell_type": "code",
   "execution_count": 5,
   "metadata": {},
   "outputs": [
    {
     "data": {
      "text/plain": [
       "True"
      ]
     },
     "execution_count": 5,
     "metadata": {},
     "output_type": "execute_result"
    }
   ],
   "source": [
    "import socket\n",
    "\n",
    "\n",
    "def is_running_locally():\n",
    "    try:\n",
    "        # Get the hostname of the machine\n",
    "        hostname = socket.gethostname()\n",
    "\n",
    "        # Get the IP address of the machine\n",
    "        local_ip = socket.gethostbyname(hostname)\n",
    "\n",
    "        # Check if the IP address is in the range of local IP addresses\n",
    "        if local_ip.startswith(\"127.\") or local_ip == \"localhost\" or hostname == \"SAOX1Y6-58781\":\n",
    "            return True\n",
    "\n",
    "        return False\n",
    "    except Exception as e:\n",
    "        print(f\"Error determining local IP: {e}\")\n",
    "        return False\n",
    "\n",
    "is_running_locally()"
   ]
  }
 ],
 "metadata": {
  "kernelspec": {
   "display_name": ".venv",
   "language": "python",
   "name": "python3"
  },
  "language_info": {
   "codemirror_mode": {
    "name": "ipython",
    "version": 3
   },
   "file_extension": ".py",
   "mimetype": "text/x-python",
   "name": "python",
   "nbconvert_exporter": "python",
   "pygments_lexer": "ipython3",
   "version": "3.12.4"
  }
 },
 "nbformat": 4,
 "nbformat_minor": 2
}
