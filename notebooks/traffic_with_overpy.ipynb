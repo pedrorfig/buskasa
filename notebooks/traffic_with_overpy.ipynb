{
 "cells": [
  {
   "cell_type": "code",
   "execution_count": 2,
   "metadata": {},
   "outputs": [],
   "source": [
    "import overpy"
   ]
  },
  {
   "cell_type": "code",
   "execution_count": 20,
   "metadata": {},
   "outputs": [],
   "source": [
    "def define_bounding_box(latitude, longitude, height=0.001, width=0.001):\n",
    "    # Calculate the minimum and maximum latitude\n",
    "\n",
    "    latitude_multiplier = latitude // height\n",
    "    longitude_multiplier = longitude // width\n",
    "\n",
    "    min_lat = round(latitude_multiplier * height, 3)\n",
    "    max_lat = round(min_lat + height, 3)\n",
    "\n",
    "    # Calculate the minimum and maximum longitude\n",
    "    min_lon = round(longitude_multiplier * width, 3)\n",
    "    max_lon = round(min_lon + width, 3)\n",
    "\n",
    "    return min_lat, max_lat, min_lon, max_lon"
   ]
  },
  {
   "cell_type": "code",
   "execution_count": 21,
   "metadata": {},
   "outputs": [
    {
     "name": "stdout",
     "output_type": "stream",
     "text": [
      "Relations: 24, Nodes: 1, Ways: 0\n",
      "477A-10\n",
      "7550-10\n",
      "5154-10\n",
      "669A-10\n",
      "5111-10\n",
      "477A-10\n",
      "5185-10\n",
      "5185-10\n",
      "669A-10\n",
      "5154-10\n",
      "7550-10\n",
      "5111-10\n",
      "5178-10\n",
      "5131-10\n",
      "5131-10\n",
      "5178-10\n",
      "5175-10\n",
      "5175-10\n",
      "967A-10\n",
      "967A-10\n",
      "6412-10\n",
      "475R-10\n",
      "475R-10\n",
      "6412-10\n",
      "920015293\n"
     ]
    }
   ],
   "source": [
    "\n",
    "# Initialize the Overpass API\n",
    "api = overpy.Overpass()\n",
    "\n",
    "# Query for all bus routes within a bounding box (latitude/longitude range)\n",
    "\n",
    "min_lat, max_lat, min_lon, max_lon = define_bounding_box(-23.571530, -46.653013)\n",
    "query = \\\n",
    "    query = \\\n",
    "        f'relation[\"route\"=\"bus\"]({\",\".join([str(min_lat), str(min_lon), str(max_lat), str(max_lon)])});out;' \\\n",
    "        f'node[\"highway\"=\"bus_stop\"]({\",\".join([str(min_lat), str(min_lon), str(max_lat), str(max_lon)])});out;'\n",
    "    # f'relation[\"route\"=\"bus\"]({','.join([str(min_lat),str(min_lon), str(max_lat), str(max_lon)])});out;'\n",
    "    # f'node[\"highway\"=\"bus_stop\"]({','.join([str(min_lat),str(min_lon), str(max_lat), str(max_lon)])});out;'\n",
    "    # f'way[\"highway\"][maxspeed]({','.join([str(min_lat),str(min_lon), str(max_lat), str(max_lon)])});out;'\n",
    "    # f'way[\"highway\"]({','.join([str(min_lat),str(min_lon), str(max_lat), str(max_lon)])});out;'\n",
    "    # f'way[\"building\"]({','.join([str(min_lat),str(min_lon), str(max_lat), str(max_lon)])});out;'\n",
    "\n",
    "# Execute the query\n",
    "result = api.query(query)\n",
    "\n",
    "# Output the number of bus stops\n",
    "relations = len(result.relations)\n",
    "nodes = len(result.nodes)\n",
    "ways = len(result.ways)\n",
    "print(f\"Relations: {relations}, Nodes: {nodes}, Ways: {ways}\")\n",
    "\n",
    "for relation in result.relations:\n",
    "    print(relation.tags.get('ref'))\n",
    "\n",
    "for node in result.nodes:\n",
    "    print(node.tags.get('gtfs_id'))"
   ]
  },
  {
   "cell_type": "code",
   "execution_count": 22,
   "metadata": {},
   "outputs": [
    {
     "name": "stdout",
     "output_type": "stream",
     "text": [
      "10184 311\n",
      "way {'leisure': 'park', 'name': 'Praça Sousa Aranha'}\n",
      "way {'addr:city': 'São Paulo', 'addr:housenumber': '455', 'addr:postcode': '05001-900', 'addr:street': 'Avenida Francisco Matarazzo', 'addr:suburb': 'Barra Funda', 'alt_name': 'Parque Doutor Fernando Costa', 'barrier': 'wall', 'leisure': 'park', 'name': 'Parque da Água Branca', 'opening_hours': 'Mo-Su 06:00-20:00', 'phone': '+55 11 3803-4200', 'start_date': '1929-06-02', 'website': 'https://www.infraestruturameioambiente.sp.gov.br/parqueaguabranca', 'wikipedia': 'pt:Parque da Água Branca'}\n",
      "way {'leisure': 'park', 'name': 'Praça Conde Francisco Matarazzo Júnior'}\n",
      "way {'leisure': 'park', 'name': 'Praça Tomás Morus'}\n",
      "way {'leisure': 'park', 'name': 'Praça Marrey Júnior'}\n",
      "way {'leisure': 'park', 'name': 'Praça Irmãos Karmam'}\n",
      "way {'leisure': 'park', 'name': 'Praça Terra do Sol'}\n",
      "way {'leisure': 'park', 'name': 'Praça Myrian de Barros Lima'}\n",
      "way {'leisure': 'park', 'name': 'Praça Professor Lauro Travassos'}\n",
      "way {'leisure': 'park', 'name': 'Praça Sousa Aranha'}\n",
      "way {'leisure': 'park', 'name': 'Praça Tomás Morus'}\n",
      "way {'leisure': 'park', 'name': 'Praça Jorn Carlos Catello Branco'}\n",
      "way {'leisure': 'park'}\n",
      "way {'leisure': 'park', 'name': 'Praça Ciríaco Grisanti'}\n",
      "way {'leisure': 'park', 'name': 'Praça Tadeusz Kosciuszko'}\n",
      "way {'leisure': 'park', 'name': 'Praça Victor Horta'}\n",
      "way {'leisure': 'park', 'name': 'Praça Doutor Washington de Barros Monteiro'}\n",
      "way {'leisure': 'park', 'name': 'Praça Guimarães Moreira'}\n",
      "way {'leisure': 'park'}\n",
      "way {'leisure': 'park'}\n",
      "way {'landuse': 'forest', 'leisure': 'park'}\n",
      "way {'landuse': 'forest', 'leisure': 'park'}\n",
      "way {'landuse': 'forest', 'leisure': 'park'}\n"
     ]
    },
    {
     "data": {
      "text/plain": [
       "True"
      ]
     },
     "execution_count": 22,
     "metadata": {},
     "output_type": "execute_result"
    }
   ],
   "source": [
    "# Initialize the Overpass API\n",
    "\n",
    "# Query for all bus routes within a bounding box (latitude/longitude range)\n",
    "lat, lon = -23.535, -46.675\n",
    "next_to_park = False\n",
    "api = overpy.Overpass()\n",
    "\n",
    "# query = f'way[\"leisure\"=\"park\"](around:1000, {lat}, {lon});out;'\n",
    "query = f'nwr(around:1000, {lat}, {lon});out;'\n",
    "\n",
    "# Execute the query\n",
    "result = api.query(query)\n",
    "\n",
    "n_parks_ways = len(result.ways)\n",
    "n_parks_relations = len(result.relations)\n",
    "print(n_parks_ways, n_parks_relations)\n",
    "for way in result.nodes:\n",
    "    if way.tags.get('leisure') == 'park':\n",
    "        print('node', way.tags)\n",
    "        next_to_park = True\n",
    "for way in result.ways:\n",
    "    if way.tags.get('leisure') == 'park':\n",
    "        print('way', way.tags)\n",
    "        next_to_park = True\n",
    "for way in result.relations:\n",
    "    if way.tags.get('leisure') == 'park':\n",
    "        print('relation', way.tags)\n",
    "        next_to_park = True\n",
    "next_to_park"
   ]
  }
 ],
 "metadata": {
  "kernelspec": {
   "display_name": ".venv",
   "language": "python",
   "name": "python3"
  },
  "language_info": {
   "codemirror_mode": {
    "name": "ipython",
    "version": 3
   },
   "file_extension": ".py",
   "mimetype": "text/x-python",
   "name": "python",
   "nbconvert_exporter": "python",
   "pygments_lexer": "ipython3",
   "version": "3.12.5"
  }
 },
 "nbformat": 4,
 "nbformat_minor": 2
}
