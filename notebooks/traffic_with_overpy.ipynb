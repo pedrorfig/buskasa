{
 "cells": [
  {
   "cell_type": "code",
   "execution_count": 8,
   "metadata": {},
   "outputs": [
    {
     "name": "stdout",
     "output_type": "stream",
     "text": [
      "Number of Bus Stops: 5\n"
     ]
    }
   ],
   "source": [
    "import overpy"
   ]
  },
  {
   "cell_type": "code",
   "execution_count": 109,
   "metadata": {},
   "outputs": [],
   "source": [
    "def define_bounding_box(latitude, longitude, height=0.001, width=0.001):\n",
    "    # Calculate the minimum and maximum latitude\n",
    "\n",
    "    latitude_multiplier = latitude // height\n",
    "    longitude_multiplier = longitude // width\n",
    "\n",
    "    min_lat = round(latitude_multiplier * height, 3)\n",
    "    max_lat = round(min_lat + height, 3)\n",
    "\n",
    "    # Calculate the minimum and maximum longitude\n",
    "    min_lon = round(longitude_multiplier * width, 3)\n",
    "    max_lon = round(min_lon + width, 3)\n",
    "\n",
    "    return min_lat, max_lat, min_lon, max_lon"
   ]
  },
  {
   "cell_type": "code",
   "execution_count": 110,
   "metadata": {},
   "outputs": [
    {
     "name": "stdout",
     "output_type": "stream",
     "text": [
      "Relations: 24, Nodes: 1, Ways: 0\n",
      "477A-10\n",
      "7550-10\n",
      "5154-10\n",
      "669A-10\n",
      "5111-10\n",
      "477A-10\n",
      "5185-10\n",
      "5185-10\n",
      "669A-10\n",
      "5154-10\n",
      "7550-10\n",
      "5111-10\n",
      "5178-10\n",
      "5131-10\n",
      "5131-10\n",
      "5178-10\n",
      "5175-10\n",
      "5175-10\n",
      "967A-10\n",
      "967A-10\n",
      "6412-10\n",
      "475R-10\n",
      "475R-10\n",
      "6412-10\n",
      "920015293\n"
     ]
    }
   ],
   "source": [
    "\n",
    "# Initialize the Overpass API\n",
    "api = overpy.Overpass()\n",
    "\n",
    "# Query for all bus routes within a bounding box (latitude/longitude range)\n",
    "\n",
    "min_lat, max_lat, min_lon, max_lon = define_bounding_box(-23.571530, -46.653013)\n",
    "query = \\\n",
    "    query = \\\n",
    "        f'relation[\"route\"=\"bus\"]({\",\".join([str(min_lat), str(min_lon), str(max_lat), str(max_lon)])});out;' \\\n",
    "        f'node[\"highway\"=\"bus_stop\"]({\",\".join([str(min_lat), str(min_lon), str(max_lat), str(max_lon)])});out;'\n",
    "    # f'relation[\"route\"=\"bus\"]({','.join([str(min_lat),str(min_lon), str(max_lat), str(max_lon)])});out;'\n",
    "    # f'node[\"highway\"=\"bus_stop\"]({','.join([str(min_lat),str(min_lon), str(max_lat), str(max_lon)])});out;'\n",
    "    # f'way[\"highway\"][maxspeed]({','.join([str(min_lat),str(min_lon), str(max_lat), str(max_lon)])});out;'\n",
    "    # f'way[\"highway\"]({','.join([str(min_lat),str(min_lon), str(max_lat), str(max_lon)])});out;'\n",
    "    # f'way[\"building\"]({','.join([str(min_lat),str(min_lon), str(max_lat), str(max_lon)])});out;'\n",
    "\n",
    "# Execute the query\n",
    "result = api.query(query)\n",
    "\n",
    "# Output the number of bus stops\n",
    "relations = len(result.relations)\n",
    "nodes = len(result.nodes)\n",
    "ways = len(result.ways)\n",
    "print(f\"Relations: {relations}, Nodes: {nodes}, Ways: {ways}\")\n",
    "\n",
    "for relation in result.relations:\n",
    "    print(relation.tags.get('ref'))\n",
    "\n",
    "for node in result.nodes:\n",
    "    print(node.tags.get('gtfs_id'))"
   ]
  },
  {
   "cell_type": "code",
   "execution_count": 127,
   "metadata": {},
   "outputs": [
    {
     "name": "stdout",
     "output_type": "stream",
     "text": [
      "Relations: 2\n"
     ]
    }
   ],
   "source": [
    "# Initialize the Overpass API\n",
    "\n",
    "# Query for all bus routes within a bounding box (latitude/longitude range)\n",
    "\n",
    "min_lat, max_lat, min_lon, max_lon = define_bounding_box(-23.574568, -46.632049, height=0.001, width=0.001)\n",
    "\n",
    "api = overpy.Overpass()\n",
    "\n",
    "bbox = [*map(lambda x: str(x), [min_lat, min_lon, max_lat, max_lon])]\n",
    "query = f'relation[\"route\"=\"bus\"]({\",\".join(bbox)});out;'\n",
    "\n",
    "# Execute the query\n",
    "result = api.query(query)\n",
    "\n",
    "# Output the number of bus stops\n",
    "relations = len(result.relations)\n",
    "print(f\"Relations: {relations}\")"
   ]
  }
 ],
 "metadata": {
  "kernelspec": {
   "display_name": ".venv",
   "language": "python",
   "name": "python3"
  },
  "language_info": {
   "codemirror_mode": {
    "name": "ipython",
    "version": 3
   },
   "file_extension": ".py",
   "mimetype": "text/x-python",
   "name": "python",
   "nbconvert_exporter": "python",
   "pygments_lexer": "ipython3",
   "version": "3.12.5"
  }
 },
 "nbformat": 4,
 "nbformat_minor": 2
}
