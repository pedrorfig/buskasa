{
 "cells": [
  {
   "cell_type": "code",
   "execution_count": 1,
   "id": "909f5be619d633b5",
   "metadata": {
    "collapsed": true,
    "ExecuteTime": {
     "end_time": "2023-09-25T01:03:32.454831Z",
     "start_time": "2023-09-25T01:03:30.967943800Z"
    }
   },
   "outputs": [],
   "source": [
    "import zapimoveis_scraper as zap\n",
    "import pandas as pd\n"
   ]
  },
  {
   "cell_type": "code",
   "execution_count": 2,
   "outputs": [],
   "source": [
    "data = zap.read_listings_sql_table()"
   ],
   "metadata": {
    "collapsed": false,
    "ExecuteTime": {
     "end_time": "2023-09-25T01:03:39.570594300Z",
     "start_time": "2023-09-25T01:03:32.454831Z"
    }
   },
   "id": "dd3eed4667c3ed59"
  },
  {
   "cell_type": "code",
   "execution_count": 10,
   "outputs": [
    {
     "data": {
      "text/plain": "''"
     },
     "execution_count": 10,
     "metadata": {},
     "output_type": "execute_result"
    }
   ],
   "source": [
    "data.loc['213a9402-ae29-3aa2-b88f-7911ce45e74f',:]['zip_code']"
   ],
   "metadata": {
    "collapsed": false,
    "ExecuteTime": {
     "end_time": "2023-09-25T01:05:41.724402200Z",
     "start_time": "2023-09-25T01:05:41.708749200Z"
    }
   },
   "id": "45943eede0421ce8"
  },
  {
   "cell_type": "code",
   "execution_count": 12,
   "outputs": [
    {
     "data": {
      "text/plain": "                                      index listing_date  new_listing   price  \\\nid                                                                              \n31417b40-2220-3a6b-9f8d-e41960a3cb40   2831   2019-09-04        False  815000   \n213a9402-ae29-3aa2-b88f-7911ce45e74f   2994   2019-09-04        False  650000   \n\n                                      condo_fee  bedrooms  bathrooms  \\\nid                                                                     \n31417b40-2220-3a6b-9f8d-e41960a3cb40        900         3          2   \n213a9402-ae29-3aa2-b88f-7911ce45e74f        884         3          2   \n\n                                      vacancies  floor  construction_year  \\\nid                                                                          \n31417b40-2220-3a6b-9f8d-e41960a3cb40          1      0               -1.0   \n213a9402-ae29-3aa2-b88f-7911ce45e74f          1      0               -1.0   \n\n                                      ...       city  state country  \\\nid                                    ...                             \n31417b40-2220-3a6b-9f8d-e41960a3cb40  ...  São Paulo     SP      BR   \n213a9402-ae29-3aa2-b88f-7911ce45e74f  ...  São Paulo     SP      BR   \n\n                                                                   address  \\\nid                                                                           \n31417b40-2220-3a6b-9f8d-e41960a3cb40   , Vila Mariana, , São Paulo, SP, BR   \n213a9402-ae29-3aa2-b88f-7911ce45e74f   , Vila Mariana, , São Paulo, SP, BR   \n\n                                                                            description  \\\nid                                                                                        \n31417b40-2220-3a6b-9f8d-e41960a3cb40  00172 - Apartamento 3 Dorms, VILA MARIANA - SÃ...   \n213a9402-ae29-3aa2-b88f-7911ce45e74f  00139 - Apartamento 3 Dorms, VILA MARIANA - SÃ...   \n\n                                                                                    url  \\\nid                                                                                        \n31417b40-2220-3a6b-9f8d-e41960a3cb40  https://www.zapimoveis.com.br/imovel/venda-apa...   \n213a9402-ae29-3aa2-b88f-7911ce45e74f  https://www.zapimoveis.com.br/imovel/venda-apa...   \n\n                                                                                   link  \\\nid                                                                                        \n31417b40-2220-3a6b-9f8d-e41960a3cb40  <a href=\"https://www.zapimoveis.com.br/imovel/...   \n213a9402-ae29-3aa2-b88f-7911ce45e74f  <a href=\"https://www.zapimoveis.com.br/imovel/...   \n\n                                     latitude longitude  \\\nid                                                        \n31417b40-2220-3a6b-9f8d-e41960a3cb40      NaN       NaN   \n213a9402-ae29-3aa2-b88f-7911ce45e74f      NaN       NaN   \n\n                                                    advertizer  \nid                                                              \n31417b40-2220-3a6b-9f8d-e41960a3cb40  Fernando Yassuo Katayama  \n213a9402-ae29-3aa2-b88f-7911ce45e74f  Fernando Yassuo Katayama  \n\n[2 rows x 26 columns]",
      "text/html": "<div>\n<style scoped>\n    .dataframe tbody tr th:only-of-type {\n        vertical-align: middle;\n    }\n\n    .dataframe tbody tr th {\n        vertical-align: top;\n    }\n\n    .dataframe thead th {\n        text-align: right;\n    }\n</style>\n<table border=\"1\" class=\"dataframe\">\n  <thead>\n    <tr style=\"text-align: right;\">\n      <th></th>\n      <th>index</th>\n      <th>listing_date</th>\n      <th>new_listing</th>\n      <th>price</th>\n      <th>condo_fee</th>\n      <th>bedrooms</th>\n      <th>bathrooms</th>\n      <th>vacancies</th>\n      <th>floor</th>\n      <th>construction_year</th>\n      <th>...</th>\n      <th>city</th>\n      <th>state</th>\n      <th>country</th>\n      <th>address</th>\n      <th>description</th>\n      <th>url</th>\n      <th>link</th>\n      <th>latitude</th>\n      <th>longitude</th>\n      <th>advertizer</th>\n    </tr>\n    <tr>\n      <th>id</th>\n      <th></th>\n      <th></th>\n      <th></th>\n      <th></th>\n      <th></th>\n      <th></th>\n      <th></th>\n      <th></th>\n      <th></th>\n      <th></th>\n      <th></th>\n      <th></th>\n      <th></th>\n      <th></th>\n      <th></th>\n      <th></th>\n      <th></th>\n      <th></th>\n      <th></th>\n      <th></th>\n      <th></th>\n    </tr>\n  </thead>\n  <tbody>\n    <tr>\n      <th>31417b40-2220-3a6b-9f8d-e41960a3cb40</th>\n      <td>2831</td>\n      <td>2019-09-04</td>\n      <td>False</td>\n      <td>815000</td>\n      <td>900</td>\n      <td>3</td>\n      <td>2</td>\n      <td>1</td>\n      <td>0</td>\n      <td>-1.0</td>\n      <td>...</td>\n      <td>São Paulo</td>\n      <td>SP</td>\n      <td>BR</td>\n      <td>, Vila Mariana, , São Paulo, SP, BR</td>\n      <td>00172 - Apartamento 3 Dorms, VILA MARIANA - SÃ...</td>\n      <td>https://www.zapimoveis.com.br/imovel/venda-apa...</td>\n      <td>&lt;a href=\"https://www.zapimoveis.com.br/imovel/...</td>\n      <td>NaN</td>\n      <td>NaN</td>\n      <td>Fernando Yassuo Katayama</td>\n    </tr>\n    <tr>\n      <th>213a9402-ae29-3aa2-b88f-7911ce45e74f</th>\n      <td>2994</td>\n      <td>2019-09-04</td>\n      <td>False</td>\n      <td>650000</td>\n      <td>884</td>\n      <td>3</td>\n      <td>2</td>\n      <td>1</td>\n      <td>0</td>\n      <td>-1.0</td>\n      <td>...</td>\n      <td>São Paulo</td>\n      <td>SP</td>\n      <td>BR</td>\n      <td>, Vila Mariana, , São Paulo, SP, BR</td>\n      <td>00139 - Apartamento 3 Dorms, VILA MARIANA - SÃ...</td>\n      <td>https://www.zapimoveis.com.br/imovel/venda-apa...</td>\n      <td>&lt;a href=\"https://www.zapimoveis.com.br/imovel/...</td>\n      <td>NaN</td>\n      <td>NaN</td>\n      <td>Fernando Yassuo Katayama</td>\n    </tr>\n  </tbody>\n</table>\n<p>2 rows × 26 columns</p>\n</div>"
     },
     "execution_count": 12,
     "metadata": {},
     "output_type": "execute_result"
    }
   ],
   "source": [
    "data[data['zip_code']=='']"
   ],
   "metadata": {
    "collapsed": false,
    "ExecuteTime": {
     "end_time": "2023-09-25T01:06:46.133584500Z",
     "start_time": "2023-09-25T01:06:46.086701100Z"
    }
   },
   "id": "9fe61693ea2b0a2e"
  }
 ],
 "metadata": {
  "kernelspec": {
   "display_name": "Python 3",
   "language": "python",
   "name": "python3"
  },
  "language_info": {
   "codemirror_mode": {
    "name": "ipython",
    "version": 2
   },
   "file_extension": ".py",
   "mimetype": "text/x-python",
   "name": "python",
   "nbconvert_exporter": "python",
   "pygments_lexer": "ipython2",
   "version": "2.7.6"
  }
 },
 "nbformat": 4,
 "nbformat_minor": 5
}
