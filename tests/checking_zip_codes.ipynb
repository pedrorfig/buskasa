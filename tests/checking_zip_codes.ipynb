{
 "cells": [
  {
   "cell_type": "code",
   "execution_count": 1,
   "id": "initial_id",
   "metadata": {
    "collapsed": true,
    "ExecuteTime": {
     "end_time": "2023-09-25T00:54:07.908030500Z",
     "start_time": "2023-09-25T00:54:07.824845Z"
    }
   },
   "outputs": [],
   "source": [
    "import requests as r"
   ]
  },
  {
   "cell_type": "code",
   "execution_count": 22,
   "outputs": [],
   "source": [
    "response = r.get('https://viacep.com.br/ws/05409011/json/')"
   ],
   "metadata": {
    "collapsed": false,
    "ExecuteTime": {
     "end_time": "2023-09-25T01:07:50.898094200Z",
     "start_time": "2023-09-25T01:07:50.402248Z"
    }
   },
   "id": "2575a6baf365ce54"
  },
  {
   "cell_type": "code",
   "execution_count": 25,
   "outputs": [
    {
     "data": {
      "text/plain": "{'cep': '05409-011',\n 'logradouro': 'Rua Oscar Freire',\n 'complemento': 'de 1635/1636 a 2321/2322',\n 'bairro': 'Pinheiros',\n 'localidade': 'São Paulo',\n 'uf': 'SP',\n 'ibge': '3550308',\n 'gia': '1004',\n 'ddd': '11',\n 'siafi': '7107'}"
     },
     "execution_count": 25,
     "metadata": {},
     "output_type": "execute_result"
    }
   ],
   "source": [
    "zip_data = response.json()\n",
    "\n",
    "zip_data"
   ],
   "metadata": {
    "collapsed": false,
    "ExecuteTime": {
     "end_time": "2023-09-25T01:08:21.280451900Z",
     "start_time": "2023-09-25T01:08:21.264814300Z"
    }
   },
   "id": "7dc8b73ad4d8716"
  },
  {
   "cell_type": "code",
   "execution_count": 28,
   "outputs": [
    {
     "data": {
      "text/plain": "'de 1635/1636 a 2321/2322'"
     },
     "execution_count": 28,
     "metadata": {},
     "output_type": "execute_result"
    }
   ],
   "source": [
    "complemento = zip_data['complemento']\n",
    "complemento"
   ],
   "metadata": {
    "collapsed": false,
    "ExecuteTime": {
     "end_time": "2023-09-25T01:09:15.462710300Z",
     "start_time": "2023-09-25T01:09:15.447705600Z"
    }
   },
   "id": "44b39d5ec2d242de"
  },
  {
   "cell_type": "code",
   "execution_count": 40,
   "outputs": [
    {
     "data": {
      "text/plain": "(1635, 2322)"
     },
     "execution_count": 40,
     "metadata": {},
     "output_type": "execute_result"
    }
   ],
   "source": [
    "import re\n",
    "numeros = re.findall(r'\\d+', complemento)\n",
    "num_max = int(max(numeros))\n",
    "num_min = int(min(numeros))\n",
    "num_min, num_max"
   ],
   "metadata": {
    "collapsed": false,
    "ExecuteTime": {
     "end_time": "2023-09-25T01:13:52.112219Z",
     "start_time": "2023-09-25T01:13:52.096556Z"
    }
   },
   "id": "b698846decaa14cd"
  },
  {
   "cell_type": "code",
   "execution_count": 37,
   "outputs": [],
   "source": [
    "import random"
   ],
   "metadata": {
    "collapsed": false,
    "ExecuteTime": {
     "end_time": "2023-09-25T01:12:58.463828500Z",
     "start_time": "2023-09-25T01:12:58.445379400Z"
    }
   },
   "id": "351fec2370a9d827"
  },
  {
   "cell_type": "code",
   "execution_count": 68,
   "outputs": [
    {
     "data": {
      "text/plain": "2322"
     },
     "execution_count": 68,
     "metadata": {},
     "output_type": "execute_result"
    }
   ],
   "source": [
    "random_number = round(random.uniform(num_min, num_max))\n",
    "random_number"
   ],
   "metadata": {
    "collapsed": false,
    "ExecuteTime": {
     "end_time": "2023-09-25T01:14:32.979153800Z",
     "start_time": "2023-09-25T01:14:32.945887600Z"
    }
   },
   "id": "1fa592a9c5dab70d"
  }
 ],
 "metadata": {
  "kernelspec": {
   "display_name": "Python 3",
   "language": "python",
   "name": "python3"
  },
  "language_info": {
   "codemirror_mode": {
    "name": "ipython",
    "version": 2
   },
   "file_extension": ".py",
   "mimetype": "text/x-python",
   "name": "python",
   "nbconvert_exporter": "python",
   "pygments_lexer": "ipython2",
   "version": "2.7.6"
  }
 },
 "nbformat": 4,
 "nbformat_minor": 5
}
